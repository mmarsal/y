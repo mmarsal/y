{
 "cells": [
  {
   "cell_type": "code",
   "execution_count": null,
   "id": "5c8543a1-336c-4e79-b4ff-e94d5a1d75a7",
   "metadata": {
    "pycharm": {
     "is_executing": true
    },
    "tags": []
   },
   "outputs": [],
   "source": [
    "from my_functions import *"
   ]
  },
  {
   "cell_type": "code",
   "execution_count": null,
   "id": "17bd3f4f-924e-4add-be26-91a3524c5461",
   "metadata": {},
   "outputs": [],
   "source": [
    "set_db()"
   ]
  },
  {
   "cell_type": "markdown",
   "id": "6f03e5f0-480a-4e38-9671-6e03b2a84999",
   "metadata": {},
   "source": [
    "# Initialize some data"
   ]
  },
  {
   "cell_type": "markdown",
   "id": "6a7cc815-afba-4ab1-b003-8c3f89a88b2a",
   "metadata": {},
   "source": [
    "Let's create three users and save them:"
   ]
  },
  {
   "cell_type": "code",
   "execution_count": null,
   "id": "e9d51433-7eee-4cc8-8fa1-ec97106fa1de",
   "metadata": {
    "tags": []
   },
   "outputs": [],
   "source": [
    "martin = {'name': 'Martin Marsal', 'tweets': [], 'followers': [], 'timeline': []}\n",
    "christian = {'name': 'Christian Diegmann', 'tweets': [], 'followers': [], 'timeline': []}\n",
    "robin = {'name': 'Robin Schüle', 'tweets': [], 'followers': [], 'timeline': []}"
   ]
  },
  {
   "cell_type": "code",
   "execution_count": null,
   "id": "15d00993-e0ee-405e-9ebb-e3603513a658",
   "metadata": {
    "pycharm": {
     "is_executing": true
    },
    "scrolled": true,
    "tags": []
   },
   "outputs": [],
   "source": [
    "save_user(martin)"
   ]
  },
  {
   "cell_type": "code",
   "execution_count": null,
   "id": "18abd366-69bf-4164-8c92-0c71eaa82090",
   "metadata": {
    "pycharm": {
     "is_executing": true
    },
    "tags": []
   },
   "outputs": [],
   "source": [
    "save_user(christian)"
   ]
  },
  {
   "cell_type": "code",
   "execution_count": null,
   "id": "bea692f1",
   "metadata": {
    "collapsed": false,
    "jupyter": {
     "outputs_hidden": false
    },
    "pycharm": {
     "is_executing": true
    }
   },
   "outputs": [],
   "source": [
    "save_user(robin)"
   ]
  },
  {
   "cell_type": "markdown",
   "id": "c0f1fcef-e5ae-43e0-b24f-79fc8ae565e9",
   "metadata": {},
   "source": [
    "Let's add the other users to each followers list."
   ]
  },
  {
   "cell_type": "code",
   "execution_count": null,
   "id": "8a5e2069",
   "metadata": {
    "collapsed": false,
    "jupyter": {
     "outputs_hidden": false
    },
    "pycharm": {
     "is_executing": true
    }
   },
   "outputs": [],
   "source": [
    "add_to_followers(martin['_id'], christian['_id'])"
   ]
  },
  {
   "cell_type": "code",
   "execution_count": null,
   "id": "f8ebecc0-1293-475d-b761-c825c8d6e105",
   "metadata": {
    "pycharm": {
     "is_executing": true
    }
   },
   "outputs": [],
   "source": [
    "add_to_followers(christian['_id'], robin['_id'])"
   ]
  },
  {
   "cell_type": "code",
   "execution_count": null,
   "id": "4a5efae4-c60c-4c08-b5d6-81fb137bc104",
   "metadata": {
    "pycharm": {
     "is_executing": true
    }
   },
   "outputs": [],
   "source": [
    "add_to_followers(robin['_id'], martin['_id'])"
   ]
  },
  {
   "cell_type": "markdown",
   "id": "f061a2fc-dfff-4f3a-b381-4a660afc1ae4",
   "metadata": {},
   "source": [
    "# 1st access pattern: Post a tweet"
   ]
  },
  {
   "cell_type": "code",
   "execution_count": null,
   "id": "9b5f9409-bed8-4b37-81eb-974a82b462c5",
   "metadata": {},
   "outputs": [],
   "source": [
    "tweet = {'_id': ObjectId(), 'text': 'Moin, moin.', 'likes': 0, 'replies': []}\n",
    "tweet_2 = {'_id': ObjectId(), 'text': 'MongoDB ist super!', 'likes': 0, 'replies': []}"
   ]
  },
  {
   "cell_type": "code",
   "execution_count": null,
   "id": "471e0408-02a5-41b2-9314-b4c80624dcdd",
   "metadata": {},
   "outputs": [],
   "source": [
    "newMartin = find_user(martin['_id'])"
   ]
  },
  {
   "cell_type": "code",
   "execution_count": null,
   "id": "660c871f-adbb-41a3-b696-c956e4320860",
   "metadata": {
    "pycharm": {
     "is_executing": true
    }
   },
   "outputs": [],
   "source": [
    "post_tweet(newMartin, tweet)\n",
    "post_tweet(newMartin, tweet_2)"
   ]
  },
  {
   "cell_type": "code",
   "execution_count": null,
   "id": "129fc8e4-7ab5-486a-ae28-11f6c49671ff",
   "metadata": {},
   "outputs": [],
   "source": [
    "class TestPostTweet(unittest.TestCase):\n",
    "    def test_post_tweet_enriched_timeline(self):\n",
    "        timeline = read_timeline(christian)\n",
    "        timeline_length = len(timeline['timeline'])\n",
    "        self.assertEqual(timeline_length, 2)\n",
    "\n",
    "    def test_post_tweet_empty_timeline(self):\n",
    "        timeline = read_timeline(robin)\n",
    "        timeline_length = len(timeline['timeline'])\n",
    "        self.assertEqual(timeline_length, 0)"
   ]
  },
  {
   "cell_type": "code",
   "execution_count": null,
   "id": "b36d7541-4ca8-46a3-8bc4-1018ecd98609",
   "metadata": {},
   "outputs": [],
   "source": [
    "if __name__ == '__main__':\n",
    "    suite = unittest.TestLoader().loadTestsFromTestCase(TestPostTweet)\n",
    "    unittest.TextTestRunner(verbosity=2).run(suite)"
   ]
  },
  {
   "cell_type": "markdown",
   "id": "e2432f37-fe36-4a45-aeda-8f2875899ca9",
   "metadata": {},
   "source": [
    "# 2nd access pattern: Post a reply"
   ]
  },
  {
   "cell_type": "code",
   "execution_count": null,
   "id": "4c915bf5-e68d-4cbc-9f90-60dd92230d2d",
   "metadata": {},
   "outputs": [],
   "source": [
    "reply = {'_id': ObjectId(), 'text': 'Hallo zurück.', 'likes': 0}"
   ]
  },
  {
   "cell_type": "code",
   "execution_count": null,
   "id": "607cecf8-0d38-4e2f-bc25-3f61f5dbcfb2",
   "metadata": {},
   "outputs": [],
   "source": [
    "newMartin = find_user(martin['_id'])"
   ]
  },
  {
   "cell_type": "code",
   "execution_count": null,
   "id": "7687cbbb-36b4-435f-a2df-5328883a4947",
   "metadata": {},
   "outputs": [],
   "source": [
    "post_reply(newMartin['tweets'][0], reply)"
   ]
  },
  {
   "cell_type": "code",
   "execution_count": null,
   "id": "c5784821-ca6d-4f15-9fe8-616edd707722",
   "metadata": {},
   "outputs": [],
   "source": [
    "class TestPostReply(unittest.TestCase):\n",
    "    def test_post_reply_enriched_replies(self):\n",
    "        timeline = read_timeline(christian)\n",
    "        replies_length = len(timeline['timeline'][0]['replies'])\n",
    "        self.assertEqual(replies_length, 1)\n",
    "\n",
    "    def test_post_reply_empty_replies(self):\n",
    "        timeline = read_timeline(christian)\n",
    "        replies_length = len(timeline['timeline'][1]['replies'])\n",
    "        self.assertEqual(replies_length, 0)"
   ]
  },
  {
   "cell_type": "code",
   "execution_count": null,
   "id": "17872ad1-fb9e-401b-a46b-fdcedb9b78a6",
   "metadata": {},
   "outputs": [],
   "source": [
    "if __name__ == '__main__':\n",
    "    suite = unittest.TestLoader().loadTestsFromTestCase(TestPostReply)\n",
    "    unittest.TextTestRunner(verbosity=2).run(suite)"
   ]
  },
  {
   "cell_type": "markdown",
   "id": "d686a6d9-db36-4773-9ba1-20adb3a457c9",
   "metadata": {},
   "source": [
    "# 3rd access pattern: Edit a tweet"
   ]
  },
  {
   "cell_type": "code",
   "execution_count": null,
   "id": "f4cb5848-606f-402c-ad4e-4299a29afb77",
   "metadata": {},
   "outputs": [],
   "source": [
    "newMartin = find_user(martin['_id'])"
   ]
  },
  {
   "cell_type": "code",
   "execution_count": null,
   "id": "407a8ba9-06c1-421c-9419-d07c081daba1",
   "metadata": {},
   "outputs": [],
   "source": [
    "edit_tweet(newMartin['tweets'][0])"
   ]
  },
  {
   "cell_type": "code",
   "execution_count": null,
   "id": "5d9f6f8c-4fe0-4b80-97c7-358aff8d7804",
   "metadata": {},
   "outputs": [],
   "source": [
    "class TestEditTweet(unittest.TestCase):\n",
    "    user = find_user(newMartin['_id'])\n",
    "    \n",
    "    def test_edit_tweet_edited_tweet(self):\n",
    "        text = self.user['tweets'][0]['text']\n",
    "        self.assertEqual(text, 'Moin, moin. Wie geht es euch?')\n",
    "\n",
    "    def test_edit_tweet_unedited_tweet(self):\n",
    "        text = self.user['tweets'][1]['text']\n",
    "        self.assertEqual(text, 'MongoDB ist super!')"
   ]
  },
  {
   "cell_type": "code",
   "execution_count": null,
   "id": "1af7f895-f0ea-4167-b611-1d33da817466",
   "metadata": {},
   "outputs": [],
   "source": [
    "if __name__ == '__main__':\n",
    "    suite = unittest.TestLoader().loadTestsFromTestCase(TestEditTweet)\n",
    "    unittest.TextTestRunner(verbosity=2).run(suite)"
   ]
  },
  {
   "cell_type": "markdown",
   "id": "c8130896-d504-4681-8904-6009431c9f4d",
   "metadata": {},
   "source": [
    "# 4th access pattern: Read a timeline"
   ]
  },
  {
   "cell_type": "code",
   "execution_count": null,
   "id": "6e827c21-c663-44f2-bc84-19697d0e0271",
   "metadata": {},
   "outputs": [],
   "source": [
    "newChristian = find_user(christian['_id'])"
   ]
  },
  {
   "cell_type": "code",
   "execution_count": null,
   "id": "caeb3896-5f8c-4b17-8ab0-92b8a9520e1d",
   "metadata": {},
   "outputs": [],
   "source": [
    "read_timeline(newChristian)"
   ]
  },
  {
   "cell_type": "code",
   "execution_count": null,
   "id": "b5e42dc9-e076-45f1-beb4-11e8b0df9b08",
   "metadata": {},
   "outputs": [],
   "source": [
    "class TestReadTimeline(unittest.TestCase):\n",
    "    def test_read_timeline(self):\n",
    "        timeline = read_timeline(christian)\n",
    "        timeline_length = len(timeline['timeline'])\n",
    "        self.assertEqual(timeline_length, 2)"
   ]
  },
  {
   "cell_type": "code",
   "execution_count": null,
   "id": "cbf7b28d-d9e0-4c90-9c7c-9c61aa5cb7a9",
   "metadata": {},
   "outputs": [],
   "source": [
    "if __name__ == '__main__':\n",
    "    suite = unittest.TestLoader().loadTestsFromTestCase(TestReadTimeline)\n",
    "    unittest.TextTestRunner(verbosity=2).run(suite)"
   ]
  },
  {
   "cell_type": "markdown",
   "id": "bdee925c-e530-4b52-9686-440f840dfc30",
   "metadata": {
    "tags": []
   },
   "source": [
    "# 5th access pattern: Delete a Tweet"
   ]
  },
  {
   "cell_type": "code",
   "execution_count": null,
   "id": "aa49cb1e-2902-41d8-b7d0-da5dd1d57506",
   "metadata": {},
   "outputs": [],
   "source": [
    "newMartin = find_user(martin['_id'])"
   ]
  },
  {
   "cell_type": "code",
   "execution_count": null,
   "id": "d84dd8da-3fb6-4b50-b896-8f5b1e8b69b6",
   "metadata": {},
   "outputs": [],
   "source": [
    "delete_tweet(newMartin, tweet)"
   ]
  },
  {
   "cell_type": "code",
   "execution_count": null,
   "id": "eca6f490-6eed-4453-9247-0cad6c8c04b6",
   "metadata": {},
   "outputs": [],
   "source": [
    "class TestDeleteTweet(unittest.TestCase):\n",
    "    user = find_user(newMartin['_id'])\n",
    "    def test_deleted_tweet_in_follower_timeline(self):\n",
    "        timeline = read_timeline(christian)\n",
    "        timeline_length = len(timeline['timeline'])\n",
    "        self.assertEqual(timeline_length, 1)\n",
    "    def test_deleted_tweet_in_user_tweets(self):\n",
    "        tweets_length = len(self.user['tweets'])\n",
    "        self.assertEqual(tweets_length, 1)"
   ]
  },
  {
   "cell_type": "code",
   "execution_count": null,
   "id": "dc511db8",
   "metadata": {},
   "outputs": [],
   "source": [
    "if __name__ == '__main__':\n",
    "    suite = unittest.TestLoader().loadTestsFromTestCase(TestDeleteTweet)\n",
    "    unittest.TextTestRunner(verbosity=2).run(suite)"
   ]
  },
  {
   "cell_type": "markdown",
   "id": "b43c367b-1b81-4e41-bc5e-824beabf1a6f",
   "metadata": {},
   "source": [
    "# 6th acces pattern: Delete user"
   ]
  },
  {
   "cell_type": "code",
   "execution_count": null,
   "id": "7c3e1294-e5c3-4c8c-80ab-7aa69c09d1fb",
   "metadata": {},
   "outputs": [],
   "source": [
    "newMartin = find_user(martin['_id'])"
   ]
  },
  {
   "cell_type": "code",
   "execution_count": null,
   "id": "1950bbad-6974-4789-9634-0709906f291c",
   "metadata": {},
   "outputs": [],
   "source": [
    "delete_user(newMartin)"
   ]
  },
  {
   "cell_type": "code",
   "execution_count": null,
   "id": "05438a85-4fb8-4859-a09e-2579c3cba714",
   "metadata": {},
   "outputs": [],
   "source": [
    "class TestDeleteUser(unittest.TestCase):\n",
    "    user = find_user(martin['_id'])\n",
    "    \n",
    "    def test_delete_user(self):\n",
    "        self.assertEqual(self.user, False)\n",
    "\n",
    "    def test_delete_tweet(self):\n",
    "        timeline = read_timeline(christian)\n",
    "        timeline_length = len(timeline['timeline'])\n",
    "        self.assertEqual(timeline_length, 0)"
   ]
  },
  {
   "cell_type": "code",
   "execution_count": null,
   "id": "0de8737b-a7bf-46a7-ab15-10896a936eb1",
   "metadata": {},
   "outputs": [],
   "source": [
    "if __name__ == '__main__':\n",
    "    suite = unittest.TestLoader().loadTestsFromTestCase(TestDeleteUser)\n",
    "    unittest.TextTestRunner(verbosity=2).run(suite)"
   ]
  },
  {
   "cell_type": "code",
   "execution_count": null,
   "id": "389b3f28-45ca-43be-9305-b7ae74d6f5da",
   "metadata": {},
   "outputs": [],
   "source": []
  }
 ],
 "metadata": {
  "kernelspec": {
   "display_name": "Python 3 (ipykernel)",
   "language": "python",
   "name": "python3"
  },
  "language_info": {
   "codemirror_mode": {
    "name": "ipython",
    "version": 3
   },
   "file_extension": ".py",
   "mimetype": "text/x-python",
   "name": "python",
   "nbconvert_exporter": "python",
   "pygments_lexer": "ipython3",
   "version": "3.12.0"
  }
 },
 "nbformat": 4,
 "nbformat_minor": 5
}
