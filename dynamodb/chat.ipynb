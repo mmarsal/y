{
 "cells": [
  {
   "cell_type": "code",
   "execution_count": null,
   "id": "4f28fbb3-955e-4f9b-9d71-742a75ac8b88",
   "metadata": {
    "tags": []
   },
   "outputs": [],
   "source": [
    "import boto3\n",
    "from datetime import date\n",
    "import time\n",
    "import uuid\n",
    "from credentials import *"
   ]
  },
  {
   "cell_type": "markdown",
   "id": "6cc840ff-4d8e-4edf-9bab-5afb9e6fa180",
   "metadata": {
    "tags": []
   },
   "source": [
    "## Connect to DynamoDB\n",
    "\n",
    "Initially, we connect to our local database we started as \"dynamodb\" container:"
   ]
  },
  {
   "cell_type": "code",
   "execution_count": null,
   "id": "71be6fc4-cdf1-4331-ba5c-3f82d84f40d4",
   "metadata": {
    "tags": []
   },
   "outputs": [],
   "source": [
    "client = boto3.client('dynamodb', \n",
    "  endpoint_url='http://dynamo:8000', \n",
    "  region_name='eu-central-1',\n",
    "  aws_access_key_id=aws_access_key_id,\n",
    "  aws_secret_access_key=aws_secret_access_key\n",
    ")\n",
    "client.list_tables()"
   ]
  },
  {
   "cell_type": "markdown",
   "id": "d01d0700-079d-4d53-81cf-eb269774f617",
   "metadata": {
    "tags": []
   },
   "source": [
    "## Create Table\n",
    "\n",
    "Let's setup the table with our attributes and indexes:"
   ]
  },
  {
   "cell_type": "code",
   "execution_count": null,
   "id": "c7028bbb-db6b-4646-a73f-7a8b1604edbe",
   "metadata": {
    "tags": []
   },
   "outputs": [],
   "source": [
    "def create_app_table():\n",
    "    return client.create_table(\n",
    "        TableName=\"chat\",\n",
    "        KeySchema=[\n",
    "            {\"AttributeName\": \"PK\", \"KeyType\": \"HASH\"},\n",
    "            {\"AttributeName\": \"SK\", \"KeyType\": \"RANGE\"},\n",
    "        ],\n",
    "        AttributeDefinitions=[\n",
    "            {\"AttributeName\": \"PK\", \"AttributeType\": \"S\"},\n",
    "            {\"AttributeName\": \"SK\", \"AttributeType\": \"S\"},\n",
    "            {\"AttributeName\": \"GSI1PK\", \"AttributeType\": \"S\"},\n",
    "            {\"AttributeName\": \"GSI1SK\", \"AttributeType\": \"S\"},\n",
    "        ],\n",
    "        ProvisionedThroughput={\"ReadCapacityUnits\": 10, \"WriteCapacityUnits\": 10},\n",
    "        GlobalSecondaryIndexes=[\n",
    "            {\n",
    "                \"IndexName\": \"GSI1\",\n",
    "                \"KeySchema\": [\n",
    "                    {\"AttributeName\": \"GSI1PK\", \"KeyType\": \"HASH\"},\n",
    "                    {\"AttributeName\": \"GSI1SK\", \"KeyType\": \"RANGE\"},\n",
    "                ],\n",
    "                \"Projection\": {\n",
    "                    \"ProjectionType\": \"INCLUDE\",\n",
    "                    \"NonKeyAttributes\": [\"ChanName\", \"JoinedAt\"],\n",
    "                },\n",
    "                \"ProvisionedThroughput\": {\n",
    "                    \"ReadCapacityUnits\": 10,\n",
    "                    \"WriteCapacityUnits\": 10,\n",
    "                },\n",
    "            },\n",
    "        ],\n",
    "    )"
   ]
  },
  {
   "cell_type": "code",
   "execution_count": null,
   "id": "2287cd97-789d-4081-8908-886523e157d8",
   "metadata": {
    "tags": []
   },
   "outputs": [],
   "source": [
    "def delete_app_table():\n",
    "    try:\n",
    "        return client.delete_table(TableName=\"chat\")\n",
    "    except:\n",
    "        return False"
   ]
  },
  {
   "cell_type": "code",
   "execution_count": null,
   "id": "c3ec9013-9996-438e-85f1-a312bb12a547",
   "metadata": {},
   "outputs": [],
   "source": [
    "delete_app_table()\n",
    "create_app_table()"
   ]
  },
  {
   "cell_type": "markdown",
   "id": "355f5266-e3c9-4df7-a4c7-74cc14f703b4",
   "metadata": {
    "tags": []
   },
   "source": [
    "## Helpers\n",
    "\n",
    "To setup some other keys later on, we create a function to extract the id from a key:"
   ]
  },
  {
   "cell_type": "code",
   "execution_count": null,
   "id": "aa035c95-3e84-41ab-a2d5-9f770600fbc8",
   "metadata": {
    "tags": []
   },
   "outputs": [],
   "source": [
    "def parse_id_from_key(key):\n",
    "    return key.split(\"#\")[-1]\n",
    "\n",
    "parse_id_from_key(\"CHAN#7\")"
   ]
  },
  {
   "cell_type": "markdown",
   "id": "03862e5d-d396-4acf-8d78-e34d8fc757a6",
   "metadata": {
    "tags": []
   },
   "source": [
    "## Users\n",
    "\n",
    "We create and save our users:"
   ]
  },
  {
   "cell_type": "code",
   "execution_count": null,
   "id": "d2a9e1ed-67e2-4561-88ae-2c26596ab90a",
   "metadata": {
    "tags": []
   },
   "outputs": [],
   "source": [
    "user_alice = {\n",
    "    'PK': { 'S': \"USER#12\" },\n",
    "    'SK': { 'S': \"USER#12\" },\n",
    "    'Name': { 'S': 'Alice' },\n",
    "    'Mail': { 'S': 'alice@mail.com' }\n",
    "}\n",
    "\n",
    "user_bob = {\n",
    "    'PK': { 'S': \"USER#18\" },\n",
    "    'SK': { 'S': \"USER#18\" },\n",
    "    'Name': { 'S': 'Bob' },\n",
    "    'Mail': { 'S': 'bob@mail.com' }\n",
    "}\n",
    "\n",
    "user_eve = {\n",
    "    'PK': { 'S': \"USER#44\" },\n",
    "    'SK': { 'S': \"USER#44\" },\n",
    "    'Name': { 'S': 'Eve' },\n",
    "    'Mail': { 'S': 'eve@mail.com' }\n",
    "}\n",
    "\n",
    "def save_user(user):\n",
    "    return client.put_item(\n",
    "        TableName=\"chat\",\n",
    "        Item=user\n",
    "    )\n",
    "\n",
    "# AP6\n",
    "def find_user(key):\n",
    "    item = client.get_item(\n",
    "        TableName=\"chat\",\n",
    "        Key={\n",
    "          'PK': { 'S': key },\n",
    "          'SK': { 'S': key }\n",
    "        }\n",
    "    )\n",
    "    return item['Item'] if 'Item' in item else False\n",
    "\n",
    "save_user(user_alice)\n",
    "find_user(user_alice['PK']['S'])"
   ]
  },
  {
   "cell_type": "markdown",
   "id": "62816627-12a5-46dc-8b23-c31c5a7773bd",
   "metadata": {
    "tags": []
   },
   "source": [
    "## Channel\n",
    "\n",
    "We create our channel and functions to save, find and count users and messages in the channel:"
   ]
  },
  {
   "cell_type": "code",
   "execution_count": null,
   "id": "800bfe94-fc94-4c8d-8abb-bfec4d26d877",
   "metadata": {
    "tags": []
   },
   "outputs": [],
   "source": [
    "channel_town_hall = {\n",
    "    'PK': { 'S': \"CHAN#7\" },\n",
    "    'SK': { 'S': \"CHAN#7\" },\n",
    "    'Name': { 'S': 'Town Hall' },\n",
    "    'Desc': { 'S': 'General News' },\n",
    "    'UserCount': { 'N': \"0\" },\n",
    "    'MessageCount': { 'N': \"0\" }\n",
    "}\n",
    "\n",
    "def save_channel(channel):\n",
    "    return client.put_item(\n",
    "        TableName=\"chat\",\n",
    "        Item=channel\n",
    "    )\n",
    "\n",
    "# AP2\n",
    "def find_channel(key):\n",
    "    item = client.get_item(\n",
    "        TableName=\"chat\",\n",
    "        Key={\n",
    "          'PK': { 'S': key },\n",
    "          'SK': { 'S': key }\n",
    "        }\n",
    "    )\n",
    "    return item['Item'] if 'Item' in item else False\n",
    "\n",
    "# AP4\n",
    "def message_count_for_channel(channel):\n",
    "    return int(channel['MessageCount']['N'])\n",
    "\n",
    "# AP7\n",
    "def user_count_for_channel(channel):\n",
    "    return int(channel['UserCount']['N'])\n",
    "\n",
    "save_channel(channel_town_hall)\n",
    "channel_town_hall = find_channel(channel_town_hall['PK']['S'])\n",
    "channel_town_hall"
   ]
  },
  {
   "cell_type": "code",
   "execution_count": null,
   "id": "f2c84b21-a827-4048-b33a-c998dff14ae6",
   "metadata": {
    "tags": []
   },
   "outputs": [],
   "source": [
    "message_count_for_channel(channel_town_hall)"
   ]
  },
  {
   "cell_type": "code",
   "execution_count": null,
   "id": "07b3c908-972c-4006-9f0e-95e4b313935a",
   "metadata": {
    "tags": []
   },
   "outputs": [],
   "source": [
    "user_count_for_channel(channel_town_hall)"
   ]
  },
  {
   "cell_type": "markdown",
   "id": "399e8b0e-7e06-44a8-86f6-b8ad5ad988ca",
   "metadata": {
    "tags": []
   },
   "source": [
    "## User Join\n",
    "\n",
    "When a user joins a channel, we create a new item and increment the user counter. Further, we setup queries to retreive the users for a channel and channels of a user:"
   ]
  },
  {
   "cell_type": "code",
   "execution_count": null,
   "id": "8df597e4-c669-4034-9fbf-fd302148e0a8",
   "metadata": {
    "tags": []
   },
   "outputs": [],
   "source": [
    "def join_channel(user, channel):\n",
    "    # create userj record\n",
    "    client.put_item(\n",
    "        TableName=\"chat\",\n",
    "        Item={\n",
    "            'PK': channel['PK'],\n",
    "            'SK': { 'S': \"USERJ#\" + parse_id_from_key(user['PK']['S']) },\n",
    "            'Name': user['Name'],\n",
    "            'JoinedAt': { 'S': str(date.today()) },\n",
    "            'GSI1PK': user['PK'],\n",
    "            'GSI1SK': channel['PK'],\n",
    "            'ChanName': channel['Name']\n",
    "        }\n",
    "        )\n",
    "    \n",
    "    # increment users\n",
    "    client.update_item(\n",
    "        TableName=\"chat\",\n",
    "        Key = {\n",
    "            'PK': channel['PK'],\n",
    "            'SK': channel['PK'],\n",
    "        },\n",
    "        ExpressionAttributeValues = {\n",
    "            ':one': { 'N': '1' }\n",
    "        },\n",
    "        UpdateExpression = 'ADD UserCount :one', \n",
    "        ReturnValues = 'UPDATED_NEW'\n",
    "      )\n",
    "\n",
    "# AP5\n",
    "def users_in_channel(key):\n",
    "    item = client.query(\n",
    "        TableName=\"chat\",\n",
    "        KeyConditionExpression='PK = :pk AND begins_with(SK, :userj)',\n",
    "        ExpressionAttributeValues={\n",
    "            ':pk': key,\n",
    "            ':userj': { 'S': 'USERJ#' }\n",
    "        }\n",
    "    )\n",
    "    return item['Items'] if 'Items' in item else []\n",
    "\n",
    "# AP1\n",
    "def channels_for_user(key):\n",
    "    item = client.query(\n",
    "        TableName=\"chat\",\n",
    "        IndexName=\"GSI1\",\n",
    "        KeyConditionExpression='GSI1PK = :pk AND begins_with(GSI1SK, :chan)',\n",
    "        ExpressionAttributeValues={\n",
    "            ':pk': key,\n",
    "            ':chan': { 'S': 'CHAN#' }\n",
    "        }\n",
    "    )\n",
    "    return item['Items'] if 'Items' in item else []\n",
    "\n",
    "join_channel(user_alice, channel_town_hall)\n",
    "join_channel(user_bob, channel_town_hall)\n",
    "users_in_channel(channel_town_hall['PK'])"
   ]
  },
  {
   "cell_type": "code",
   "execution_count": null,
   "id": "108fc978-b833-4a32-a66a-2bf4a6994910",
   "metadata": {
    "tags": []
   },
   "outputs": [],
   "source": [
    "channels_for_user(user_alice['PK'])"
   ]
  },
  {
   "cell_type": "code",
   "execution_count": null,
   "id": "8869c69b-c1e1-4308-b5ca-bb3377904c23",
   "metadata": {
    "tags": []
   },
   "outputs": [],
   "source": [
    "find_channel(channel_town_hall['PK']['S'])"
   ]
  },
  {
   "cell_type": "markdown",
   "id": "aefecbbf-6a5b-4c8a-b3f1-2272ea0d692c",
   "metadata": {
    "tags": []
   },
   "source": [
    "## Messages\n",
    "\n",
    "When we send a message, we create a new item and increment the messages counter:"
   ]
  },
  {
   "cell_type": "code",
   "execution_count": null,
   "id": "060a7e09-57f3-4f85-8d19-9f4b98c18df9",
   "metadata": {
    "tags": []
   },
   "outputs": [],
   "source": [
    "def send_message(user, channel, text):\n",
    "    timestamp = int(time.time())\n",
    "    message_id = uuid.uuid4()\n",
    "    \n",
    "    # create message\n",
    "    client.put_item(\n",
    "        TableName=\"chat\",\n",
    "        Item={\n",
    "            'PK': channel['PK'],\n",
    "            'SK': { 'S': f\"MSG#{timestamp}#{message_id}\" },\n",
    "            'Msg': { 'S': text },\n",
    "            'CreatedAt': { 'N': str(timestamp) },\n",
    "            'UserName': user['Name'],\n",
    "            'UserId': user['PK']\n",
    "        }\n",
    "        )\n",
    "    \n",
    "    # increment users\n",
    "    client.update_item(\n",
    "        TableName=\"chat\",\n",
    "        Key = {\n",
    "            'PK': channel['PK'],\n",
    "            'SK': channel['PK'],\n",
    "        },\n",
    "        ExpressionAttributeValues = {\n",
    "            ':one': { 'N': '1' }\n",
    "        },\n",
    "        UpdateExpression = 'ADD MessageCount :one', \n",
    "        ReturnValues = 'UPDATED_NEW'\n",
    "      )\n",
    "\n",
    "# AP3\n",
    "def messages_in_channel(key, limit = 50):\n",
    "    item = client.query(\n",
    "        TableName=\"chat\",\n",
    "        KeyConditionExpression='PK = :pk AND begins_with(SK, :msg)',\n",
    "        ExpressionAttributeValues={\n",
    "            ':pk': key,\n",
    "            ':msg': { 'S': 'MSG#' }\n",
    "        },\n",
    "        Limit = limit\n",
    "    )\n",
    "    return item['Items'] if 'Items' in item else []\n",
    "    \n",
    "\n",
    "send_message(user_bob, channel_town_hall, \"Hey there!\")\n",
    "send_message(user_alice, channel_town_hall, \"Hello Bob!\")\n",
    "send_message(user_bob, channel_town_hall, \"How are you?\")\n",
    "messages_in_channel(channel_town_hall['PK'])"
   ]
  },
  {
   "cell_type": "code",
   "execution_count": null,
   "id": "70bc0b8b-3ff4-4bdd-9838-3fa56174af63",
   "metadata": {
    "tags": []
   },
   "outputs": [],
   "source": [
    "find_channel(channel_town_hall['PK']['S'])"
   ]
  }
 ],
 "metadata": {
  "kernelspec": {
   "display_name": "Python 3 (ipykernel)",
   "language": "python",
   "name": "python3"
  },
  "language_info": {
   "codemirror_mode": {
    "name": "ipython",
    "version": 3
   },
   "file_extension": ".py",
   "mimetype": "text/x-python",
   "name": "python",
   "nbconvert_exporter": "python",
   "pygments_lexer": "ipython3",
   "version": "3.12.1"
  },
  "vscode": {
   "interpreter": {
    "hash": "5c7b89af1651d0b8571dde13640ecdccf7d5a6204171d6ab33e7c296e100e08a"
   }
  }
 },
 "nbformat": 4,
 "nbformat_minor": 5
}
