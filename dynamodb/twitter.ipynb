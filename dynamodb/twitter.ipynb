{
 "cells": [
  {
   "cell_type": "code",
   "execution_count": null,
   "id": "4f28fbb3-955e-4f9b-9d71-742a75ac8b88",
   "metadata": {
    "tags": []
   },
   "outputs": [],
   "source": [
    "from my_functions import *"
   ]
  },
  {
   "cell_type": "markdown",
   "id": "6cc840ff-4d8e-4edf-9bab-5afb9e6fa180",
   "metadata": {
    "tags": []
   },
   "source": [
    "## Connect to DynamoDB\n",
    "\n",
    "Initially, we connect to our local database we started as \"dynamodb\" container:"
   ]
  },
  {
   "cell_type": "code",
   "execution_count": null,
   "id": "71be6fc4-cdf1-4331-ba5c-3f82d84f40d4",
   "metadata": {
    "tags": []
   },
   "outputs": [],
   "source": [
    "set_db()"
   ]
  },
  {
   "cell_type": "code",
   "execution_count": null,
   "id": "0541f407-02ce-4323-9628-14fdf6af82c7",
   "metadata": {},
   "outputs": [],
   "source": [
    "from my_functions import client"
   ]
  },
  {
   "cell_type": "markdown",
   "id": "d01d0700-079d-4d53-81cf-eb269774f617",
   "metadata": {
    "tags": []
   },
   "source": [
    "## Create Table\n",
    "\n",
    "Let's setup the table with our attributes and indexes:"
   ]
  },
  {
   "cell_type": "code",
   "execution_count": null,
   "id": "c3ec9013-9996-438e-85f1-a312bb12a547",
   "metadata": {},
   "outputs": [],
   "source": [
    "delete_app_table()\n",
    "create_app_table()"
   ]
  },
  {
   "cell_type": "markdown",
   "id": "355f5266-e3c9-4df7-a4c7-74cc14f703b4",
   "metadata": {
    "tags": []
   },
   "source": [
    "## Helpers\n",
    "\n",
    "To setup some other keys later on, we create a function to extract the id from a key:"
   ]
  },
  {
   "cell_type": "code",
   "execution_count": null,
   "id": "aa035c95-3e84-41ab-a2d5-9f770600fbc8",
   "metadata": {
    "tags": []
   },
   "outputs": [],
   "source": [
    "parse_id_from_key(\"CHAN#7\")"
   ]
  },
  {
   "cell_type": "markdown",
   "id": "03862e5d-d396-4acf-8d78-e34d8fc757a6",
   "metadata": {
    "tags": []
   },
   "source": [
    "## Users\n",
    "\n",
    "We create and save our users:"
   ]
  },
  {
   "cell_type": "code",
   "execution_count": null,
   "id": "d2a9e1ed-67e2-4561-88ae-2c26596ab90a",
   "metadata": {
    "tags": []
   },
   "outputs": [],
   "source": [
    "uuid_entry1 = str(uuid.uuid4())\n",
    "user_martin = {\n",
    "    'PK': {'S': f\"USER#{uuid_entry1}\"},\n",
    "    'SK': {'S': f\"USER#{uuid_entry1}\"},\n",
    "    'Name': {'S': 'Martin Marsal'},\n",
    "}\n",
    "\n",
    "uuid_entry2 = str(uuid.uuid4())\n",
    "user_christian = {\n",
    "    'PK': {'S': f\"USER#{uuid_entry2}\"},\n",
    "    'SK': {'S': f\"USER#{uuid_entry2}\"},\n",
    "    'Name': {'S': 'Christian Diegmann'},\n",
    "}\n",
    "\n",
    "uuid_entry3 = str(uuid.uuid4())\n",
    "user_robin = {\n",
    "    'PK': {'S': f\"USER#{uuid_entry3}\"},\n",
    "    'SK': {'S': f\"USER#{uuid_entry3}\"},\n",
    "    'Name': {'S': 'Robin Schüle'},\n",
    "}"
   ]
  },
  {
   "cell_type": "code",
   "execution_count": null,
   "id": "a71f03b7-b7ba-4de6-ab0b-5c1f66508bc3",
   "metadata": {},
   "outputs": [],
   "source": [
    "save_user(user_martin)\n",
    "find_user(user_martin['PK']['S'], user_martin['SK']['S'])"
   ]
  },
  {
   "cell_type": "code",
   "execution_count": null,
   "id": "b5318ea1-235d-44a8-a49f-73a7bf7e001a",
   "metadata": {},
   "outputs": [],
   "source": [
    "save_user(user_christian)\n",
    "find_user(user_christian['PK']['S'], user_christian['SK']['S'])"
   ]
  },
  {
   "cell_type": "code",
   "execution_count": null,
   "id": "7e50ef01-455e-437b-a83a-481858587e2d",
   "metadata": {},
   "outputs": [],
   "source": [
    "save_user(user_robin)\n",
    "find_user(user_robin['PK']['S'], user_robin['SK']['S'])"
   ]
  },
  {
   "cell_type": "code",
   "execution_count": null,
   "id": "f625e08c-1242-470b-a398-76595ea8e1c4",
   "metadata": {},
   "outputs": [],
   "source": [
    "add_to_followers(user_martin['PK']['S'], user_christian)"
   ]
  },
  {
   "cell_type": "code",
   "execution_count": null,
   "id": "0b6c6b04-a797-44fa-836a-f87be30e4602",
   "metadata": {},
   "outputs": [],
   "source": [
    "add_to_followers(user_christian['PK']['S'], user_robin)"
   ]
  },
  {
   "cell_type": "code",
   "execution_count": null,
   "id": "d098a9b8-4f11-404d-9158-7e82442dbeee",
   "metadata": {},
   "outputs": [],
   "source": [
    "add_to_followers(user_robin['PK']['S'], user_martin)"
   ]
  },
  {
   "cell_type": "markdown",
   "id": "45119e16-f446-428b-a70e-75760fa6526c",
   "metadata": {},
   "source": [
    "## 1st access pattern: Post a tweet"
   ]
  },
  {
   "cell_type": "code",
   "execution_count": null,
   "id": "a2936ea4-122f-4e5e-b867-16193a9d6a31",
   "metadata": {},
   "outputs": [],
   "source": [
    "uuid_entry4 = str(uuid.uuid4())\n",
    "timestamp = int(time.time())\n",
    "tweet = {'id': {'S': f\"{uuid_entry4}\"}, 'text': {'S': 'Moin, moin.'}, 'likes': {'N': '0'}, 'CreatedAt': { 'N': str(timestamp)}}\n",
    "uuid_entry5 = str(uuid.uuid4())\n",
    "timestamp = int(time.time())\n",
    "tweet_2 = {'id': {'S': f\"{uuid_entry5}\"}, 'text': {'S': 'MongoDB ist super!'}, 'likes': {'N': '0'}, 'CreatedAt': { 'N': str(timestamp)}}\n",
    "newMartin = find_user(user_martin['PK']['S'], user_martin['SK']['S'])"
   ]
  },
  {
   "cell_type": "code",
   "execution_count": null,
   "id": "8388df21-a670-4fbc-bf69-8cee47879bd5",
   "metadata": {},
   "outputs": [],
   "source": [
    "post_tweet(user_martin['PK']['S'], tweet)"
   ]
  },
  {
   "cell_type": "code",
   "execution_count": null,
   "id": "6bd5e383-01f2-4a5f-8416-a1117ed3dc5f",
   "metadata": {},
   "outputs": [],
   "source": [
    "post_tweet(user_martin['PK']['S'], tweet_2)"
   ]
  },
  {
   "cell_type": "code",
   "execution_count": null,
   "id": "8c504d76-0066-4f34-9488-0be34ff95ef4",
   "metadata": {},
   "outputs": [],
   "source": [
    "class TestPostTweet(unittest.TestCase):\n",
    "    def test_post_tweet_enriched_timeline(self):\n",
    "        christian_timeline = client.query(\n",
    "            TableName=\"twitter\",\n",
    "            KeyConditionExpression='PK = :pk AND begins_with(SK, :timeline)',\n",
    "            ExpressionAttributeValues={\n",
    "                ':pk': { 'S': user_christian['PK']['S'] },\n",
    "                ':timeline': { 'S': 'TIMELINE#' }\n",
    "            },\n",
    "        )\n",
    "        timeline_length = len(christian_timeline['Items'])\n",
    "        self.assertEqual(timeline_length, 2)\n",
    "\n",
    "    def test_post_tweet_empty_timeline(self):\n",
    "        robin_timeline = client.query(\n",
    "            TableName=\"twitter\",\n",
    "            KeyConditionExpression='PK = :pk AND begins_with(SK, :timeline)',\n",
    "            ExpressionAttributeValues={\n",
    "                ':pk': { 'S': user_robin['PK']['S'] },\n",
    "                ':timeline': { 'S': 'TIMELINE#' }\n",
    "            },\n",
    "        )\n",
    "        timeline_length = len(robin_timeline['Items'])\n",
    "        self.assertEqual(timeline_length, 0)"
   ]
  },
  {
   "cell_type": "code",
   "execution_count": null,
   "id": "41b91395-5a5c-4568-adcf-f705ed6a0e99",
   "metadata": {},
   "outputs": [],
   "source": [
    "if __name__ == '__main__':\n",
    "    suite = unittest.TestLoader().loadTestsFromTestCase(TestPostTweet)\n",
    "    unittest.TextTestRunner(verbosity=2).run(suite)"
   ]
  },
  {
   "cell_type": "markdown",
   "id": "cc73fca7-e9e0-48ae-8fff-f25cd617cc87",
   "metadata": {},
   "source": [
    "## 2nd access pattern: Write a reply"
   ]
  },
  {
   "cell_type": "code",
   "execution_count": null,
   "id": "49b07d45-f839-4d0c-9f26-5f9ab3bae71c",
   "metadata": {},
   "outputs": [],
   "source": [
    "uuid_entry6 = str(uuid.uuid4())\n",
    "reply = {'id': {'S': f\"{uuid_entry6}\"}, 'text': {'S': 'Hallo zurück.'}, 'likes': {'N': '0'}, 'CreatedAt': { 'N': str(timestamp)}, 'tweetId': {'S': f\"{parse_id_from_key(tweet['id']['S'])}\"},}"
   ]
  },
  {
   "cell_type": "code",
   "execution_count": null,
   "id": "c8ce54ab-f4b7-4176-8781-5cb893ec07cc",
   "metadata": {},
   "outputs": [],
   "source": [
    "post_reply(user_martin, user_christian, tweet, reply)"
   ]
  },
  {
   "cell_type": "code",
   "execution_count": null,
   "id": "6a945807",
   "metadata": {},
   "outputs": [],
   "source": [
    "class TestPostReply(unittest.TestCase):\n",
    "    def test_post_reply_enriched_replies(self):\n",
    "        test_tweet = client.query(\n",
    "            TableName=\"twitter\",\n",
    "            KeyConditionExpression='PK = :pk AND begins_with(SK, :timeline)',\n",
    "            ExpressionAttributeValues={\n",
    "                ':pk': { 'S': user_christian['PK']['S'] },\n",
    "                ':timeline': { 'S': f\"TIMELINE#{tweet['id']['S']}\" }\n",
    "            },\n",
    "        )\n",
    "        tweet_length = len(test_tweet['Items'])\n",
    "        self.assertEqual(tweet_length, 2)\n",
    "        \n",
    "    def test_post_reply_empty_replies(self):\n",
    "        test_tweet = client.query(\n",
    "            TableName=\"twitter\",\n",
    "            KeyConditionExpression='PK = :pk AND begins_with(SK, :timeline)',\n",
    "            ExpressionAttributeValues={\n",
    "                ':pk': { 'S': user_christian['PK']['S'] },\n",
    "                ':timeline': { 'S': f\"TIMELINE#{tweet_2['id']['S']}\" }\n",
    "            },\n",
    "        )\n",
    "        tweet_length = len(test_tweet['Items'])\n",
    "        self.assertEqual(tweet_length, 1)"
   ]
  },
  {
   "cell_type": "code",
   "execution_count": null,
   "id": "e425b599",
   "metadata": {},
   "outputs": [],
   "source": [
    "if __name__ == '__main__':\n",
    "    suite = unittest.TestLoader().loadTestsFromTestCase(TestPostReply)\n",
    "    unittest.TextTestRunner(verbosity=2).run(suite)"
   ]
  },
  {
   "cell_type": "markdown",
   "id": "740a4f79-95d3-47b8-9223-95c6fdc49a6e",
   "metadata": {},
   "source": [
    "# 3rd access pattern: Edit a tweet"
   ]
  },
  {
   "cell_type": "code",
   "execution_count": null,
   "id": "b0103dbe-ad64-4560-b995-f8a62d764d18",
   "metadata": {},
   "outputs": [],
   "source": [
    "new_tweet_text = \"DynamoDB ist super\"\n",
    "edit_tweet(user_martin['PK']['S'], uuid_entry5, new_tweet_text)"
   ]
  },
  {
   "cell_type": "code",
   "execution_count": null,
   "id": "fb6ed6be-4e20-4bcb-85ee-9275a4dcb7a6",
   "metadata": {},
   "outputs": [],
   "source": [
    "user_martin_tweets = get_user_tweets(user_martin['PK']['S'])\n",
    "print(user_martin_tweets)"
   ]
  },
  {
   "cell_type": "code",
   "execution_count": null,
   "id": "45c9c8be-a611-43ce-b781-97e6c7b14c76",
   "metadata": {},
   "outputs": [],
   "source": [
    "class TestEditTweet(unittest.TestCase):\n",
    "    def test_edit_tweet__timeline(self):\n",
    "        tweet_id_to_find = uuid_entry5  \n",
    "        updated_text = \"DynamoDB ist super\"\n",
    "\n",
    "        christian_timeline = client.query(\n",
    "            TableName=\"twitter\",\n",
    "            KeyConditionExpression='PK = :pk AND SK = :sk',\n",
    "            ExpressionAttributeValues={\n",
    "                ':pk': {'S': f\"USER#{parse_id_from_key(user_christian['PK']['S'])}\"},\n",
    "                ':sk': {'S': f\"TIMELINE#{tweet_id_to_find}\"}\n",
    "            },\n",
    "        )\n",
    "        matching_items = christian_timeline.get('Items', [])\n",
    "\n",
    "        self.assertTrue(\n",
    "            any('text' in item and item['text']['S'] == updated_text for item in matching_items),\n",
    "            f\"Tweet with ID {tweet_id_to_find} not found in timeline or text not updated.\"\n",
    "        )\n",
    "\n",
    "    def test_edit_tweet_martin(self):\n",
    "        tweet_id_to_find = uuid_entry5  \n",
    "        updated_text = \"DynamoDB ist super\"  \n",
    "\n",
    "        \n",
    "        martin_tweets = client.query(\n",
    "            TableName=\"twitter\",\n",
    "            KeyConditionExpression='PK = :pk AND SK = :sk',\n",
    "            ExpressionAttributeValues={\n",
    "                ':pk': {'S': f\"USER#{parse_id_from_key(user_martin['PK']['S'])}\"},\n",
    "                ':sk': {'S': f\"TWEET#{tweet_id_to_find}\"}\n",
    "            },\n",
    "        )\n",
    "        matching_items_martin = martin_tweets.get('Items', [])\n",
    "\n",
    "        # Check if the updated text is found in user_martin's tweets\n",
    "        self.assertTrue(\n",
    "            any('text' in item and item['text']['S'] == updated_text for item in matching_items_martin),\n",
    "            f\"Tweet with ID {tweet_id_to_find} not found in Martin's tweets or text not updated.\"\n",
    "        )\n",
    "\n",
    "\n",
    "    def test_edit_tweet_empty_timeline(self):\n",
    "        robin_timeline = client.query(\n",
    "            TableName=\"twitter\",\n",
    "            KeyConditionExpression='PK = :pk AND begins_with(SK, :timeline)',\n",
    "            ExpressionAttributeValues={\n",
    "                ':pk': { 'S': user_robin['PK']['S'] },\n",
    "                ':timeline': { 'S': 'TIMELINE#' }\n",
    "            },\n",
    "        )\n",
    "        timeline_length = len(robin_timeline['Items'])\n",
    "        self.assertEqual(timeline_length, 0)"
   ]
  },
  {
   "cell_type": "code",
   "execution_count": null,
   "id": "046b289d-8c8f-471f-b09f-fa4aa98787ee",
   "metadata": {},
   "outputs": [],
   "source": [
    "if __name__ == '__main__':\n",
    "    suite = unittest.TestLoader().loadTestsFromTestCase(TestEditTweet)\n",
    "    unittest.TextTestRunner(verbosity=2).run(suite)"
   ]
  },
  {
   "cell_type": "markdown",
   "id": "4ff65317-1bbb-48cc-9f4c-368a5a4ad4c0",
   "metadata": {},
   "source": [
    "# 4th access pattern: Read a timeline"
   ]
  },
  {
   "cell_type": "code",
   "execution_count": null,
   "id": "49e891fb-0a98-4735-970b-4ea8856670a0",
   "metadata": {},
   "outputs": [],
   "source": [
    "user_christian_timeline = read_timeline(user_christian['PK']['S'])\n",
    "print(user_christian_timeline)"
   ]
  },
  {
   "cell_type": "code",
   "execution_count": null,
   "id": "2f1c1347-c19d-4596-878a-5aa594d1ee55",
   "metadata": {},
   "outputs": [],
   "source": [
    "class TestReadTimeline(unittest.TestCase):\n",
    "    def test_read_timeline(self):\n",
    "        # Assuming user_christian has a populated timeline\n",
    "        expected_texts = [\"Moin, moin.\", \"Hallo zurück.\", \"DynamoDB ist super\"]\n",
    "\n",
    "        # Fetch the timeline of user_christian\n",
    "        christian_timeline = read_timeline(user_christian['PK']['S'])\n",
    "\n",
    "        # Extract text items from the timeline\n",
    "        actual_texts = [item['text']['S'] for item in christian_timeline]\n",
    "\n",
    "        # Check if the actual text items match the expected texts (order doesn't matter)\n",
    "        self.assertCountEqual(actual_texts, expected_texts, \"Timeline text items do not match the expected texts.\")"
   ]
  },
  {
   "cell_type": "code",
   "execution_count": null,
   "id": "e96b58a5-a0a9-43df-a8e9-4a98bc5059f5",
   "metadata": {},
   "outputs": [],
   "source": [
    "if __name__ == '__main__':\n",
    "    suite = unittest.TestLoader().loadTestsFromTestCase(TestReadTimeline)\n",
    "    unittest.TextTestRunner(verbosity=2).run(suite)"
   ]
  },
  {
   "cell_type": "markdown",
   "id": "4c617522-2cde-47f4-82ee-5a5827c2b250",
   "metadata": {},
   "source": [
    "# 5th access pattern: Delete a Tweet"
   ]
  },
  {
   "cell_type": "code",
   "execution_count": null,
   "id": "efb9d092-d6b6-42c6-8414-e071999acef3",
   "metadata": {},
   "outputs": [],
   "source": [
    "class TestDeleteTweet(unittest.TestCase):\n",
    "    def test_delete_tweet(self):\n",
    "        user_id = uuid_entry1\n",
    "        tweet_id = uuid_entry5\n",
    "        user_key = f'USER#{user_id}'\n",
    "        tweet_key = f'TWEET#{tweet_id}'\n",
    "\n",
    "        delete_tweet(user_id, tweet_id)\n",
    "\n",
    "        tweet_item = client.get_item(TableName='twitter', Key={'PK': {'S': tweet_key}, 'SK': {'S': tweet_key}})\n",
    "        self.assertNotIn('Item', tweet_item)"
   ]
  },
  {
   "cell_type": "code",
   "execution_count": null,
   "id": "4d21ba46-c7e8-4934-8e67-7cbda418ff23",
   "metadata": {},
   "outputs": [],
   "source": [
    "if __name__ == '__main__':\n",
    "    suite = unittest.TestLoader().loadTestsFromTestCase(TestDeleteTweet)\n",
    "    unittest.TextTestRunner(verbosity=2).run(suite)"
   ]
  },
  {
   "cell_type": "markdown",
   "id": "67d75f5f-ddc5-4de8-a428-14f9ea57029c",
   "metadata": {},
   "source": [
    "# 6th access pattern: Delete a User"
   ]
  },
  {
   "cell_type": "code",
   "execution_count": null,
   "id": "aa80be8b-8579-475e-b9a3-ebf8ecd76940",
   "metadata": {},
   "outputs": [],
   "source": [
    "class TestDeleteUser(unittest.TestCase):\n",
    "    def test_user_deleted(self):\n",
    "        user_id = uuid_entry1\n",
    "        user_key = f'USER#{user_id}'\n",
    "\n",
    "        # Funktion aufrufen\n",
    "        delete_user(user_id)\n",
    "\n",
    "        # Überprüfen, ob der Benutzer und der Tweet erfolgreich gelöscht wurden\n",
    "        user_item = client.get_item(TableName='twitter', Key={'PK': {'S': user_key}, 'SK': {'S': user_key}})\n",
    "        self.assertNotIn('Item', user_item)\n",
    "\n",
    "    def test_tweets_deleted(self):\n",
    "        tweet_id = uuid_entry4\n",
    "        tweet_key = f'TWEET#{tweet_id}'\n",
    "        \n",
    "        tweet_item = client.get_item(TableName='twitter', Key={'PK': {'S': tweet_key}, 'SK': {'S': tweet_key}})\n",
    "        self.assertNotIn('Item', tweet_item)"
   ]
  },
  {
   "cell_type": "code",
   "execution_count": null,
   "id": "800bfe94-fc94-4c8d-8abb-bfec4d26d877",
   "metadata": {
    "tags": []
   },
   "outputs": [],
   "source": [
    "if __name__ == '__main__':\n",
    "    suite = unittest.TestLoader().loadTestsFromTestCase(TestDeleteUser)\n",
    "    unittest.TextTestRunner(verbosity=2).run(suite)"
   ]
  }
 ],
 "metadata": {
  "kernelspec": {
   "display_name": "Python 3 (ipykernel)",
   "language": "python",
   "name": "python3"
  },
  "language_info": {
   "codemirror_mode": {
    "name": "ipython",
    "version": 3
   },
   "file_extension": ".py",
   "mimetype": "text/x-python",
   "name": "python",
   "nbconvert_exporter": "python",
   "pygments_lexer": "ipython3",
   "version": "3.12.1"
  },
  "vscode": {
   "interpreter": {
    "hash": "5c7b89af1651d0b8571dde13640ecdccf7d5a6204171d6ab33e7c296e100e08a"
   }
  }
 },
 "nbformat": 4,
 "nbformat_minor": 5
}
