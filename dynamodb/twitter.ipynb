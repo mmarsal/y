{
 "cells": [
  {
   "cell_type": "code",
   "execution_count": 1,
   "id": "4f28fbb3-955e-4f9b-9d71-742a75ac8b88",
   "metadata": {
    "tags": []
   },
   "outputs": [],
   "source": [
    "import boto3\n",
    "from datetime import date\n",
    "import time\n",
    "import uuid\n",
    "from credentials import *"
   ]
  },
  {
   "cell_type": "markdown",
   "id": "6cc840ff-4d8e-4edf-9bab-5afb9e6fa180",
   "metadata": {
    "tags": []
   },
   "source": [
    "## Connect to DynamoDB\n",
    "\n",
    "Initially, we connect to our local database we started as \"dynamodb\" container:"
   ]
  },
  {
   "cell_type": "code",
   "execution_count": 2,
   "id": "71be6fc4-cdf1-4331-ba5c-3f82d84f40d4",
   "metadata": {
    "tags": []
   },
   "outputs": [
    {
     "data": {
      "text/plain": [
       "{'TableNames': ['twitter'],\n",
       " 'ResponseMetadata': {'RequestId': '943cff1d-66db-43df-9c4d-a4dafd7e0b58',\n",
       "  'HTTPStatusCode': 200,\n",
       "  'HTTPHeaders': {'date': 'Fri, 05 Jan 2024 22:54:19 GMT',\n",
       "   'x-amzn-requestid': '943cff1d-66db-43df-9c4d-a4dafd7e0b58',\n",
       "   'content-type': 'application/x-amz-json-1.0',\n",
       "   'x-amz-crc32': '2569046870',\n",
       "   'content-length': '26',\n",
       "   'server': 'Jetty(11.0.17)'},\n",
       "  'RetryAttempts': 0}}"
      ]
     },
     "execution_count": 2,
     "metadata": {},
     "output_type": "execute_result"
    }
   ],
   "source": [
    "client = boto3.client('dynamodb', \n",
    "  endpoint_url='http://dynamo:8000', \n",
    "  region_name='eu-central-1',\n",
    "  aws_access_key_id=aws_access_key_id,\n",
    "  aws_secret_access_key=aws_secret_access_key\n",
    ")\n",
    "client.list_tables()"
   ]
  },
  {
   "cell_type": "markdown",
   "id": "d01d0700-079d-4d53-81cf-eb269774f617",
   "metadata": {
    "tags": []
   },
   "source": [
    "## Create Table\n",
    "\n",
    "Let's setup the table with our attributes and indexes:"
   ]
  },
  {
   "cell_type": "code",
   "execution_count": 3,
   "id": "c7028bbb-db6b-4646-a73f-7a8b1604edbe",
   "metadata": {
    "tags": []
   },
   "outputs": [],
   "source": [
    "def create_app_table():\n",
    "    return client.create_table(\n",
    "        TableName=\"twitter\",\n",
    "        KeySchema=[\n",
    "            {\"AttributeName\": \"PK\", \"KeyType\": \"HASH\"},\n",
    "            {\"AttributeName\": \"SK\", \"KeyType\": \"RANGE\"},\n",
    "        ],\n",
    "        AttributeDefinitions=[\n",
    "            {\"AttributeName\": \"PK\", \"AttributeType\": \"S\"},\n",
    "            {\"AttributeName\": \"SK\", \"AttributeType\": \"S\"},\n",
    "        ],\n",
    "        ProvisionedThroughput={\"ReadCapacityUnits\": 10, \"WriteCapacityUnits\": 10},\n",
    "    )"
   ]
  },
  {
   "cell_type": "code",
   "execution_count": 4,
   "id": "2287cd97-789d-4081-8908-886523e157d8",
   "metadata": {
    "tags": []
   },
   "outputs": [],
   "source": [
    "def delete_app_table():\n",
    "    try:\n",
    "        return client.delete_table(TableName=\"twitter\")\n",
    "    except:\n",
    "        return False"
   ]
  },
  {
   "cell_type": "code",
   "execution_count": 5,
   "id": "c3ec9013-9996-438e-85f1-a312bb12a547",
   "metadata": {},
   "outputs": [
    {
     "data": {
      "text/plain": [
       "{'TableDescription': {'AttributeDefinitions': [{'AttributeName': 'PK',\n",
       "    'AttributeType': 'S'},\n",
       "   {'AttributeName': 'SK', 'AttributeType': 'S'}],\n",
       "  'TableName': 'twitter',\n",
       "  'KeySchema': [{'AttributeName': 'PK', 'KeyType': 'HASH'},\n",
       "   {'AttributeName': 'SK', 'KeyType': 'RANGE'}],\n",
       "  'TableStatus': 'ACTIVE',\n",
       "  'CreationDateTime': datetime.datetime(2024, 1, 5, 22, 54, 19, 589000, tzinfo=tzlocal()),\n",
       "  'ProvisionedThroughput': {'LastIncreaseDateTime': datetime.datetime(1970, 1, 1, 0, 0, tzinfo=tzlocal()),\n",
       "   'LastDecreaseDateTime': datetime.datetime(1970, 1, 1, 0, 0, tzinfo=tzlocal()),\n",
       "   'NumberOfDecreasesToday': 0,\n",
       "   'ReadCapacityUnits': 10,\n",
       "   'WriteCapacityUnits': 10},\n",
       "  'TableSizeBytes': 0,\n",
       "  'ItemCount': 0,\n",
       "  'TableArn': 'arn:aws:dynamodb:ddblocal:000000000000:table/twitter',\n",
       "  'DeletionProtectionEnabled': False},\n",
       " 'ResponseMetadata': {'RequestId': 'da9062d1-a138-4eda-a7f9-664f23f798c8',\n",
       "  'HTTPStatusCode': 200,\n",
       "  'HTTPHeaders': {'date': 'Fri, 05 Jan 2024 22:54:19 GMT',\n",
       "   'x-amzn-requestid': 'da9062d1-a138-4eda-a7f9-664f23f798c8',\n",
       "   'content-type': 'application/x-amz-json-1.0',\n",
       "   'x-amz-crc32': '3298610552',\n",
       "   'content-length': '598',\n",
       "   'server': 'Jetty(11.0.17)'},\n",
       "  'RetryAttempts': 0}}"
      ]
     },
     "execution_count": 5,
     "metadata": {},
     "output_type": "execute_result"
    }
   ],
   "source": [
    "delete_app_table()\n",
    "create_app_table()"
   ]
  },
  {
   "cell_type": "markdown",
   "id": "355f5266-e3c9-4df7-a4c7-74cc14f703b4",
   "metadata": {
    "tags": []
   },
   "source": [
    "## Helpers\n",
    "\n",
    "To setup some other keys later on, we create a function to extract the id from a key:"
   ]
  },
  {
   "cell_type": "code",
   "execution_count": 6,
   "id": "aa035c95-3e84-41ab-a2d5-9f770600fbc8",
   "metadata": {
    "tags": []
   },
   "outputs": [
    {
     "data": {
      "text/plain": [
       "'7'"
      ]
     },
     "execution_count": 6,
     "metadata": {},
     "output_type": "execute_result"
    }
   ],
   "source": [
    "def parse_id_from_key(key):\n",
    "    return key.split(\"#\")[-1]\n",
    "\n",
    "parse_id_from_key(\"CHAN#7\")"
   ]
  },
  {
   "cell_type": "markdown",
   "id": "03862e5d-d396-4acf-8d78-e34d8fc757a6",
   "metadata": {
    "tags": []
   },
   "source": [
    "## Users\n",
    "\n",
    "We create and save our users:"
   ]
  },
  {
   "cell_type": "code",
   "execution_count": 7,
   "id": "d2a9e1ed-67e2-4561-88ae-2c26596ab90a",
   "metadata": {
    "tags": []
   },
   "outputs": [],
   "source": [
    "uuid_entry1 = str(uuid.uuid4())\n",
    "user_martin = {\n",
    "    'PK': {'S': f\"USERS\"},\n",
    "    'SK': {'S': f\"USER#{uuid_entry1}\"},\n",
    "    'Name': {'S': 'Martin Marsal'},\n",
    "    'Tweets': {'L': []},\n",
    "    'Followers': {'L': []},\n",
    "    'Timeline': {'L': []},\n",
    "}\n",
    "\n",
    "uuid_entry2 = str(uuid.uuid4())\n",
    "user_christian = {\n",
    "    'PK': {'S': f\"USERS\"},\n",
    "    'SK': {'S': f\"USER#{uuid_entry2}\"},\n",
    "    'Name': {'S': 'Christian Diegmann'},\n",
    "    'Tweets': {'L': []},\n",
    "    'Followers': {'L': []},\n",
    "    'Timeline': {'L': []},\n",
    "}\n",
    "\n",
    "uuid_entry3 = str(uuid.uuid4())\n",
    "user_robin = {\n",
    "    'PK': {'S': f\"USERS\"},\n",
    "    'SK': {'S': f\"USER#{uuid_entry3}\"},\n",
    "    'Name': {'S': 'Robin Schüle'},\n",
    "    'Tweets': {'L': []},\n",
    "    'Followers': {'L': []},\n",
    "    'Timeline': {'L': []},\n",
    "}\n",
    "\n",
    "def save_user(user):\n",
    "    return client.put_item(\n",
    "        TableName=\"twitter\",\n",
    "        Item=user\n",
    "    )\n",
    "\n",
    "# AP6\n",
    "def find_user(primaryKey, sortKey):\n",
    "    item = client.get_item(\n",
    "        TableName=\"twitter\",\n",
    "        Key={\n",
    "          'PK': { 'S': primaryKey },\n",
    "          'SK': { 'S': sortKey }\n",
    "        }\n",
    "    )\n",
    "    return item['Item'] if 'Item' in item else False"
   ]
  },
  {
   "cell_type": "code",
   "execution_count": 8,
   "id": "a71f03b7-b7ba-4de6-ab0b-5c1f66508bc3",
   "metadata": {},
   "outputs": [
    {
     "data": {
      "text/plain": [
       "{'SK': {'S': 'USER#5d020ed9-9426-4dc1-b8bf-01da78c103f3'},\n",
       " 'Tweets': {'L': []},\n",
       " 'Timeline': {'L': []},\n",
       " 'PK': {'S': 'USERS'},\n",
       " 'Followers': {'L': []},\n",
       " 'Name': {'S': 'Martin Marsal'}}"
      ]
     },
     "execution_count": 8,
     "metadata": {},
     "output_type": "execute_result"
    }
   ],
   "source": [
    "save_user(user_martin)\n",
    "find_user(user_martin['PK']['S'], user_martin['SK']['S'])"
   ]
  },
  {
   "cell_type": "code",
   "execution_count": 9,
   "id": "b5318ea1-235d-44a8-a49f-73a7bf7e001a",
   "metadata": {},
   "outputs": [
    {
     "data": {
      "text/plain": [
       "{'SK': {'S': 'USER#aa765371-b6e4-43e0-b031-32b478b068b6'},\n",
       " 'Tweets': {'L': []},\n",
       " 'Timeline': {'L': []},\n",
       " 'PK': {'S': 'USERS'},\n",
       " 'Followers': {'L': []},\n",
       " 'Name': {'S': 'Christian Diegmann'}}"
      ]
     },
     "execution_count": 9,
     "metadata": {},
     "output_type": "execute_result"
    }
   ],
   "source": [
    "save_user(user_christian)\n",
    "find_user(user_christian['PK']['S'], user_christian['SK']['S'])"
   ]
  },
  {
   "cell_type": "code",
   "execution_count": 10,
   "id": "7e50ef01-455e-437b-a83a-481858587e2d",
   "metadata": {},
   "outputs": [
    {
     "data": {
      "text/plain": [
       "{'SK': {'S': 'USER#819a5fd7-4d37-42b9-aa32-41eb851692b9'},\n",
       " 'Tweets': {'L': []},\n",
       " 'Timeline': {'L': []},\n",
       " 'PK': {'S': 'USERS'},\n",
       " 'Followers': {'L': []},\n",
       " 'Name': {'S': 'Robin Schüle'}}"
      ]
     },
     "execution_count": 10,
     "metadata": {},
     "output_type": "execute_result"
    }
   ],
   "source": [
    "save_user(user_robin)\n",
    "find_user(user_robin['PK']['S'], user_robin['SK']['S'])"
   ]
  },
  {
   "cell_type": "code",
   "execution_count": 11,
   "id": "37006c58-df4e-4de5-9927-dddb8069fba8",
   "metadata": {},
   "outputs": [],
   "source": [
    "def add_to_followers(primaryKey, sortKey, follower_id):\n",
    "    response = client.update_item(\n",
    "        TableName='twitter',\n",
    "        Key={\n",
    "            'PK': {'S': primaryKey},\n",
    "            'SK': {'S': sortKey}\n",
    "        },\n",
    "        UpdateExpression='SET Followers = list_append(if_not_exists(Followers, :empty_list), :follower)',\n",
    "        ExpressionAttributeValues={\n",
    "            ':empty_list': {'L': []},\n",
    "            ':follower': {'L': [{'S': follower_id}]}\n",
    "        },\n",
    "        ReturnValues='UPDATED_NEW'\n",
    "    )\n",
    "    if response['ResponseMetadata']['HTTPStatusCode'] == 200:\n",
    "        return client.get_item(\n",
    "            TableName='twitter',\n",
    "            Key={\n",
    "                'PK': {'S': primaryKey},\n",
    "                'SK': {'S': sortKey}\n",
    "            }\n",
    "        )"
   ]
  },
  {
   "cell_type": "code",
   "execution_count": 12,
   "id": "f625e08c-1242-470b-a398-76595ea8e1c4",
   "metadata": {},
   "outputs": [
    {
     "data": {
      "text/plain": [
       "{'Item': {'SK': {'S': 'USER#5d020ed9-9426-4dc1-b8bf-01da78c103f3'},\n",
       "  'Tweets': {'L': []},\n",
       "  'Timeline': {'L': []},\n",
       "  'PK': {'S': 'USERS'},\n",
       "  'Followers': {'L': [{'S': 'aa765371-b6e4-43e0-b031-32b478b068b6'}]},\n",
       "  'Name': {'S': 'Martin Marsal'}},\n",
       " 'ResponseMetadata': {'RequestId': 'bda69357-4faa-4e1a-ad37-a3dd118ab392',\n",
       "  'HTTPStatusCode': 200,\n",
       "  'HTTPHeaders': {'date': 'Fri, 05 Jan 2024 22:54:19 GMT',\n",
       "   'x-amzn-requestid': 'bda69357-4faa-4e1a-ad37-a3dd118ab392',\n",
       "   'content-type': 'application/x-amz-json-1.0',\n",
       "   'x-amz-crc32': '171955325',\n",
       "   'content-length': '216',\n",
       "   'server': 'Jetty(11.0.17)'},\n",
       "  'RetryAttempts': 0}}"
      ]
     },
     "execution_count": 12,
     "metadata": {},
     "output_type": "execute_result"
    }
   ],
   "source": [
    "add_to_followers(user_martin['PK']['S'], user_martin['SK']['S'], parse_id_from_key(user_christian['SK']['S']))"
   ]
  },
  {
   "cell_type": "code",
   "execution_count": 13,
   "id": "0b6c6b04-a797-44fa-836a-f87be30e4602",
   "metadata": {},
   "outputs": [
    {
     "data": {
      "text/plain": [
       "{'Item': {'SK': {'S': 'USER#aa765371-b6e4-43e0-b031-32b478b068b6'},\n",
       "  'Tweets': {'L': []},\n",
       "  'Timeline': {'L': []},\n",
       "  'PK': {'S': 'USERS'},\n",
       "  'Followers': {'L': [{'S': '819a5fd7-4d37-42b9-aa32-41eb851692b9'}]},\n",
       "  'Name': {'S': 'Christian Diegmann'}},\n",
       " 'ResponseMetadata': {'RequestId': 'bf4c5a29-1e6a-48fb-9682-0700aa1ba90b',\n",
       "  'HTTPStatusCode': 200,\n",
       "  'HTTPHeaders': {'date': 'Fri, 05 Jan 2024 22:54:19 GMT',\n",
       "   'x-amzn-requestid': 'bf4c5a29-1e6a-48fb-9682-0700aa1ba90b',\n",
       "   'content-type': 'application/x-amz-json-1.0',\n",
       "   'x-amz-crc32': '574490828',\n",
       "   'content-length': '221',\n",
       "   'server': 'Jetty(11.0.17)'},\n",
       "  'RetryAttempts': 0}}"
      ]
     },
     "execution_count": 13,
     "metadata": {},
     "output_type": "execute_result"
    }
   ],
   "source": [
    "add_to_followers(user_christian['PK']['S'], user_christian['SK']['S'], parse_id_from_key(user_robin['SK']['S']))"
   ]
  },
  {
   "cell_type": "code",
   "execution_count": 14,
   "id": "d098a9b8-4f11-404d-9158-7e82442dbeee",
   "metadata": {},
   "outputs": [
    {
     "data": {
      "text/plain": [
       "{'Item': {'SK': {'S': 'USER#819a5fd7-4d37-42b9-aa32-41eb851692b9'},\n",
       "  'Tweets': {'L': []},\n",
       "  'Timeline': {'L': []},\n",
       "  'PK': {'S': 'USERS'},\n",
       "  'Followers': {'L': [{'S': '5d020ed9-9426-4dc1-b8bf-01da78c103f3'}]},\n",
       "  'Name': {'S': 'Robin Schüle'}},\n",
       " 'ResponseMetadata': {'RequestId': '05d5cd7d-e4c9-4427-860c-1124dbcd94ea',\n",
       "  'HTTPStatusCode': 200,\n",
       "  'HTTPHeaders': {'date': 'Fri, 05 Jan 2024 22:54:19 GMT',\n",
       "   'x-amzn-requestid': '05d5cd7d-e4c9-4427-860c-1124dbcd94ea',\n",
       "   'content-type': 'application/x-amz-json-1.0',\n",
       "   'x-amz-crc32': '3612163676',\n",
       "   'content-length': '216',\n",
       "   'server': 'Jetty(11.0.17)'},\n",
       "  'RetryAttempts': 0}}"
      ]
     },
     "execution_count": 14,
     "metadata": {},
     "output_type": "execute_result"
    }
   ],
   "source": [
    "add_to_followers(user_robin['PK']['S'], user_robin['SK']['S'], parse_id_from_key(user_martin['SK']['S']))"
   ]
  },
  {
   "cell_type": "markdown",
   "id": "45119e16-f446-428b-a70e-75760fa6526c",
   "metadata": {},
   "source": [
    "## 1st access pattern: Post a tweet\n"
   ]
  },
  {
   "cell_type": "code",
   "execution_count": 15,
   "id": "a2936ea4-122f-4e5e-b867-16193a9d6a31",
   "metadata": {},
   "outputs": [],
   "source": [
    "uuid_entry4 = str(uuid.uuid4())\n",
    "tweet = {'id': {'S': f\"{uuid_entry4}\"}, 'text': {'S': 'Moin, moin.'}, 'likes': {'N': '0'}, 'replies': {'L': []}}\n",
    "uuid_entry5 = str(uuid.uuid4())\n",
    "tweet_2 = {'id': {'S': f\"{uuid_entry5}\"}, 'text': {'S': 'MongoDB ist super!'}, 'likes': {'N': '0'}, 'replies': {'L': []}}\n",
    "\n",
    "def post_tweet(primaryKey, sortKey, tweet):\n",
    "    client.update_item(\n",
    "        TableName='twitter',\n",
    "        Key={\n",
    "            'PK': {'S': primaryKey},\n",
    "            'SK': {'S': sortKey}\n",
    "        },\n",
    "        UpdateExpression='SET Tweets = list_append(if_not_exists(Tweets, :empty_list), :tweet)',\n",
    "        ExpressionAttributeValues={\n",
    "            ':empty_list': {'L': []},\n",
    "            ':tweet': {'L': [{'M': tweet}]}\n",
    "        },\n",
    "        ReturnValues='UPDATED_NEW'\n",
    "    )\n",
    "    newMartin = find_user(user_martin['PK']['S'], user_martin['SK']['S'])\n",
    "    for follower in newMartin['Followers']['L']:\n",
    "        response = client.update_item(\n",
    "            TableName='twitter',\n",
    "            Key={\n",
    "                'PK': {'S': primaryKey},\n",
    "                'SK': {'S': f\"USER#{follower['S']}\"}\n",
    "            },\n",
    "            UpdateExpression='SET Timeline = list_append(if_not_exists(Timeline, :empty_list), :tweet)',\n",
    "            ExpressionAttributeValues={\n",
    "                ':empty_list': {'L': []},\n",
    "                ':tweet': {'L': [{'M': tweet}]}\n",
    "            },\n",
    "            ReturnValues='UPDATED_NEW'\n",
    "        )\n",
    "    if response['ResponseMetadata']['HTTPStatusCode'] == 200:\n",
    "        return client.get_item(\n",
    "            TableName='twitter',\n",
    "            Key={\n",
    "                'PK': {'S': primaryKey},\n",
    "                'SK': {'S': sortKey}\n",
    "            }\n",
    "        )"
   ]
  },
  {
   "cell_type": "code",
   "execution_count": 16,
   "id": "8388df21-a670-4fbc-bf69-8cee47879bd5",
   "metadata": {},
   "outputs": [
    {
     "data": {
      "text/plain": [
       "{'Item': {'SK': {'S': 'USER#5d020ed9-9426-4dc1-b8bf-01da78c103f3'},\n",
       "  'Tweets': {'L': [{'M': {'id': {'S': '0da01a6b-9cc1-480f-82e1-e492363866e2'},\n",
       "      'text': {'S': 'Moin, moin.'},\n",
       "      'replies': {'L': []},\n",
       "      'likes': {'N': '0'}}}]},\n",
       "  'Timeline': {'L': []},\n",
       "  'PK': {'S': 'USERS'},\n",
       "  'Followers': {'L': [{'S': 'aa765371-b6e4-43e0-b031-32b478b068b6'}]},\n",
       "  'Name': {'S': 'Martin Marsal'}},\n",
       " 'ResponseMetadata': {'RequestId': '34bbfc2d-16f3-43ef-a4ed-63a66055d7de',\n",
       "  'HTTPStatusCode': 200,\n",
       "  'HTTPHeaders': {'date': 'Fri, 05 Jan 2024 22:54:19 GMT',\n",
       "   'x-amzn-requestid': '34bbfc2d-16f3-43ef-a4ed-63a66055d7de',\n",
       "   'content-type': 'application/x-amz-json-1.0',\n",
       "   'x-amz-crc32': '3673976537',\n",
       "   'content-length': '337',\n",
       "   'server': 'Jetty(11.0.17)'},\n",
       "  'RetryAttempts': 0}}"
      ]
     },
     "execution_count": 16,
     "metadata": {},
     "output_type": "execute_result"
    }
   ],
   "source": [
    "post_tweet(user_martin['PK']['S'], user_martin['SK']['S'], tweet)"
   ]
  },
  {
   "cell_type": "code",
   "execution_count": 17,
   "id": "6bd5e383-01f2-4a5f-8416-a1117ed3dc5f",
   "metadata": {},
   "outputs": [
    {
     "data": {
      "text/plain": [
       "{'Item': {'SK': {'S': 'USER#5d020ed9-9426-4dc1-b8bf-01da78c103f3'},\n",
       "  'Tweets': {'L': [{'M': {'id': {'S': '0da01a6b-9cc1-480f-82e1-e492363866e2'},\n",
       "      'text': {'S': 'Moin, moin.'},\n",
       "      'replies': {'L': []},\n",
       "      'likes': {'N': '0'}}},\n",
       "    {'M': {'id': {'S': '2b82a365-97dc-4257-bb69-5a76398dbbf7'},\n",
       "      'text': {'S': 'MongoDB ist super!'},\n",
       "      'replies': {'L': []},\n",
       "      'likes': {'N': '0'}}}]},\n",
       "  'Timeline': {'L': []},\n",
       "  'PK': {'S': 'USERS'},\n",
       "  'Followers': {'L': [{'S': 'aa765371-b6e4-43e0-b031-32b478b068b6'}]},\n",
       "  'Name': {'S': 'Martin Marsal'}},\n",
       " 'ResponseMetadata': {'RequestId': '474ffb89-40f9-455e-893b-3981466296c1',\n",
       "  'HTTPStatusCode': 200,\n",
       "  'HTTPHeaders': {'date': 'Fri, 05 Jan 2024 22:54:19 GMT',\n",
       "   'x-amzn-requestid': '474ffb89-40f9-455e-893b-3981466296c1',\n",
       "   'content-type': 'application/x-amz-json-1.0',\n",
       "   'x-amz-crc32': '492534746',\n",
       "   'content-length': '466',\n",
       "   'server': 'Jetty(11.0.17)'},\n",
       "  'RetryAttempts': 0}}"
      ]
     },
     "execution_count": 17,
     "metadata": {},
     "output_type": "execute_result"
    }
   ],
   "source": [
    "post_tweet(user_martin['PK']['S'], user_martin['SK']['S'], tweet_2)"
   ]
  },
  {
   "cell_type": "code",
   "execution_count": 18,
   "id": "b34df421-282f-44b7-a49c-ac185543e398",
   "metadata": {},
   "outputs": [
    {
     "data": {
      "text/plain": [
       "{'SK': {'S': 'USER#aa765371-b6e4-43e0-b031-32b478b068b6'},\n",
       " 'Tweets': {'L': []},\n",
       " 'Timeline': {'L': [{'M': {'id': {'S': '0da01a6b-9cc1-480f-82e1-e492363866e2'},\n",
       "     'text': {'S': 'Moin, moin.'},\n",
       "     'replies': {'L': []},\n",
       "     'likes': {'N': '0'}}},\n",
       "   {'M': {'id': {'S': '2b82a365-97dc-4257-bb69-5a76398dbbf7'},\n",
       "     'text': {'S': 'MongoDB ist super!'},\n",
       "     'replies': {'L': []},\n",
       "     'likes': {'N': '0'}}}]},\n",
       " 'PK': {'S': 'USERS'},\n",
       " 'Followers': {'L': [{'S': '819a5fd7-4d37-42b9-aa32-41eb851692b9'}]},\n",
       " 'Name': {'S': 'Christian Diegmann'}}"
      ]
     },
     "execution_count": 18,
     "metadata": {},
     "output_type": "execute_result"
    }
   ],
   "source": [
    "find_user(user_christian['PK']['S'], user_christian['SK']['S'])"
   ]
  },
  {
   "cell_type": "code",
   "execution_count": 19,
   "id": "59913e1e-8c29-4959-b054-4ded7ead6067",
   "metadata": {},
   "outputs": [
    {
     "data": {
      "text/plain": [
       "{'SK': {'S': 'USER#819a5fd7-4d37-42b9-aa32-41eb851692b9'},\n",
       " 'Tweets': {'L': []},\n",
       " 'Timeline': {'L': []},\n",
       " 'PK': {'S': 'USERS'},\n",
       " 'Followers': {'L': [{'S': '5d020ed9-9426-4dc1-b8bf-01da78c103f3'}]},\n",
       " 'Name': {'S': 'Robin Schüle'}}"
      ]
     },
     "execution_count": 19,
     "metadata": {},
     "output_type": "execute_result"
    }
   ],
   "source": [
    "find_user(user_robin['PK']['S'], user_robin['SK']['S'])"
   ]
  },
  {
   "cell_type": "markdown",
   "id": "cc73fca7-e9e0-48ae-8fff-f25cd617cc87",
   "metadata": {},
   "source": [
    "## 3rd access pattern: Edit a tweet"
   ]
  },
  {
   "cell_type": "code",
   "execution_count": 20,
   "id": "4df30500-835f-4c45-9186-ccfc32556dff",
   "metadata": {},
   "outputs": [],
   "source": [
    "def edit_tweet(primaryKey, sortKey, tweet_id, new_text):\n",
    "    \n",
    "    user = find_user(primaryKey, sortKey)\n",
    "\n",
    "    \n",
    "    if user and 'Tweets' in user:\n",
    "        tweets = user['Tweets']['L']\n",
    "\n",
    "        \n",
    "        tweet_index = None\n",
    "        for i, tweet_item in enumerate(tweets):\n",
    "            if tweet_item['M']['id']['S'] == tweet_id:\n",
    "                tweet_index = i\n",
    "                break\n",
    "\n",
    "        \n",
    "        if tweet_index is not None:\n",
    "            tweets[tweet_index]['M']['text']['S'] = new_text\n",
    "\n",
    "            response = client.update_item(\n",
    "                TableName='twitter',\n",
    "                Key={\n",
    "                    'PK': {'S': primaryKey},\n",
    "                    'SK': {'S': sortKey}\n",
    "                },\n",
    "                UpdateExpression='SET Tweets = :tweets',\n",
    "                ExpressionAttributeValues={':tweets': {'L': tweets}},\n",
    "                ReturnValues='UPDATED_NEW'\n",
    "            )\n",
    "\n",
    "            # Update timelines\n",
    "            for follower in user['Followers']['L']:\n",
    "                follower_user = find_user(user['PK']['S'], f\"USER#{follower['S']}\")\n",
    "                if follower_user and 'Timeline' in follower_user:\n",
    "                    timeline = follower_user['Timeline']['L']\n",
    "                    if any(tweet['M']['id']['S'] == tweet_id for tweet in timeline):\n",
    "                        # Update the edited tweet in the follower's timeline\n",
    "                        for tweet_item in timeline:\n",
    "                            if tweet_item['M']['id']['S'] == tweet_id:\n",
    "                                tweet_item['M']['text']['S'] = new_text\n",
    "                                break\n",
    "\n",
    "                        \n",
    "                        client.update_item(\n",
    "                            TableName='twitter',\n",
    "                            Key={\n",
    "                                'PK': {'S': user['PK']['S']},\n",
    "                                'SK': {'S': f\"USER#{follower['S']}\"}\n",
    "                            },\n",
    "                            UpdateExpression='SET Timeline = :timeline',\n",
    "                            ExpressionAttributeValues={':timeline': {'L': timeline}},\n",
    "                            ReturnValues='UPDATED_NEW'\n",
    "                        )\n",
    "\n",
    "            return response\n",
    "    else:\n",
    "        return False"
   ]
  },
  {
   "cell_type": "code",
   "execution_count": 21,
   "id": "34e10eeb-e219-4240-bac4-9bf87b8ef7e0",
   "metadata": {},
   "outputs": [
    {
     "data": {
      "text/plain": [
       "{'Attributes': {'Tweets': {'L': [{'M': {'id': {'S': '0da01a6b-9cc1-480f-82e1-e492363866e2'},\n",
       "      'text': {'S': 'Moin, moin.'},\n",
       "      'replies': {'L': []},\n",
       "      'likes': {'N': '0'}}},\n",
       "    {'M': {'id': {'S': '2b82a365-97dc-4257-bb69-5a76398dbbf7'},\n",
       "      'text': {'S': 'DynamoDB is doch besser'},\n",
       "      'replies': {'L': []},\n",
       "      'likes': {'N': '0'}}}]}},\n",
       " 'ResponseMetadata': {'RequestId': '6bd0cad4-ad9e-4ae9-b069-f3c66d54f8b6',\n",
       "  'HTTPStatusCode': 200,\n",
       "  'HTTPHeaders': {'date': 'Fri, 05 Jan 2024 22:54:20 GMT',\n",
       "   'x-amzn-requestid': '6bd0cad4-ad9e-4ae9-b069-f3c66d54f8b6',\n",
       "   'content-type': 'application/x-amz-json-1.0',\n",
       "   'x-amz-crc32': '94995368',\n",
       "   'content-length': '289',\n",
       "   'server': 'Jetty(11.0.17)'},\n",
       "  'RetryAttempts': 0}}"
      ]
     },
     "execution_count": 21,
     "metadata": {},
     "output_type": "execute_result"
    }
   ],
   "source": [
    "old_tweet_id_to_edit = uuid_entry5  \n",
    "new_tweet_text = \"DynamoDB is doch besser\"\n",
    "edit_tweet(user_martin['PK']['S'], user_martin['SK']['S'], old_tweet_id_to_edit, new_tweet_text)"
   ]
  },
  {
   "cell_type": "code",
   "execution_count": 22,
   "id": "4d729fa8-91c7-48fc-bfba-cd61c2d331b8",
   "metadata": {},
   "outputs": [
    {
     "data": {
      "text/plain": [
       "{'SK': {'S': 'USER#5d020ed9-9426-4dc1-b8bf-01da78c103f3'},\n",
       " 'Tweets': {'L': [{'M': {'id': {'S': '0da01a6b-9cc1-480f-82e1-e492363866e2'},\n",
       "     'text': {'S': 'Moin, moin.'},\n",
       "     'replies': {'L': []},\n",
       "     'likes': {'N': '0'}}},\n",
       "   {'M': {'id': {'S': '2b82a365-97dc-4257-bb69-5a76398dbbf7'},\n",
       "     'text': {'S': 'DynamoDB is doch besser'},\n",
       "     'replies': {'L': []},\n",
       "     'likes': {'N': '0'}}}]},\n",
       " 'Timeline': {'L': []},\n",
       " 'PK': {'S': 'USERS'},\n",
       " 'Followers': {'L': [{'S': 'aa765371-b6e4-43e0-b031-32b478b068b6'}]},\n",
       " 'Name': {'S': 'Martin Marsal'}}"
      ]
     },
     "execution_count": 22,
     "metadata": {},
     "output_type": "execute_result"
    }
   ],
   "source": [
    "find_user(user_martin['PK']['S'], user_martin['SK']['S'])"
   ]
  },
  {
   "cell_type": "code",
   "execution_count": 23,
   "id": "6b77d7b4-b8c1-4625-b2d0-b8839dfe34af",
   "metadata": {},
   "outputs": [
    {
     "data": {
      "text/plain": [
       "{'SK': {'S': 'USER#aa765371-b6e4-43e0-b031-32b478b068b6'},\n",
       " 'Tweets': {'L': []},\n",
       " 'Timeline': {'L': [{'M': {'id': {'S': '0da01a6b-9cc1-480f-82e1-e492363866e2'},\n",
       "     'text': {'S': 'Moin, moin.'},\n",
       "     'replies': {'L': []},\n",
       "     'likes': {'N': '0'}}},\n",
       "   {'M': {'id': {'S': '2b82a365-97dc-4257-bb69-5a76398dbbf7'},\n",
       "     'text': {'S': 'DynamoDB is doch besser'},\n",
       "     'replies': {'L': []},\n",
       "     'likes': {'N': '0'}}}]},\n",
       " 'PK': {'S': 'USERS'},\n",
       " 'Followers': {'L': [{'S': '819a5fd7-4d37-42b9-aa32-41eb851692b9'}]},\n",
       " 'Name': {'S': 'Christian Diegmann'}}"
      ]
     },
     "execution_count": 23,
     "metadata": {},
     "output_type": "execute_result"
    }
   ],
   "source": [
    "find_user(user_christian['PK']['S'], user_christian['SK']['S'])"
   ]
  },
  {
   "cell_type": "markdown",
   "id": "62816627-12a5-46dc-8b23-c31c5a7773bd",
   "metadata": {
    "tags": []
   },
   "source": [
    "## Channel\n",
    "\n",
    "We create our channel and functions to save, find and count users and messages in the channel:"
   ]
  },
  {
   "cell_type": "code",
   "execution_count": 24,
   "id": "800bfe94-fc94-4c8d-8abb-bfec4d26d877",
   "metadata": {
    "tags": []
   },
   "outputs": [
    {
     "ename": "ResourceNotFoundException",
     "evalue": "An error occurred (ResourceNotFoundException) when calling the PutItem operation: Cannot do operations on a non-existent table",
     "output_type": "error",
     "traceback": [
      "\u001b[0;31m---------------------------------------------------------------------------\u001b[0m",
      "\u001b[0;31mResourceNotFoundException\u001b[0m                 Traceback (most recent call last)",
      "Cell \u001b[0;32mIn[24], line 35\u001b[0m\n\u001b[1;32m     32\u001b[0m \u001b[38;5;28;01mdef\u001b[39;00m \u001b[38;5;21muser_count_for_channel\u001b[39m(channel):\n\u001b[1;32m     33\u001b[0m     \u001b[38;5;28;01mreturn\u001b[39;00m \u001b[38;5;28mint\u001b[39m(channel[\u001b[38;5;124m'\u001b[39m\u001b[38;5;124mUserCount\u001b[39m\u001b[38;5;124m'\u001b[39m][\u001b[38;5;124m'\u001b[39m\u001b[38;5;124mN\u001b[39m\u001b[38;5;124m'\u001b[39m])\n\u001b[0;32m---> 35\u001b[0m \u001b[43msave_channel\u001b[49m\u001b[43m(\u001b[49m\u001b[43mchannel_town_hall\u001b[49m\u001b[43m)\u001b[49m\n\u001b[1;32m     36\u001b[0m channel_town_hall \u001b[38;5;241m=\u001b[39m find_channel(channel_town_hall[\u001b[38;5;124m'\u001b[39m\u001b[38;5;124mPK\u001b[39m\u001b[38;5;124m'\u001b[39m][\u001b[38;5;124m'\u001b[39m\u001b[38;5;124mS\u001b[39m\u001b[38;5;124m'\u001b[39m])\n\u001b[1;32m     37\u001b[0m channel_town_hall\n",
      "Cell \u001b[0;32mIn[24], line 11\u001b[0m, in \u001b[0;36msave_channel\u001b[0;34m(channel)\u001b[0m\n\u001b[1;32m     10\u001b[0m \u001b[38;5;28;01mdef\u001b[39;00m \u001b[38;5;21msave_channel\u001b[39m(channel):\n\u001b[0;32m---> 11\u001b[0m     \u001b[38;5;28;01mreturn\u001b[39;00m \u001b[43mclient\u001b[49m\u001b[38;5;241;43m.\u001b[39;49m\u001b[43mput_item\u001b[49m\u001b[43m(\u001b[49m\n\u001b[1;32m     12\u001b[0m \u001b[43m        \u001b[49m\u001b[43mTableName\u001b[49m\u001b[38;5;241;43m=\u001b[39;49m\u001b[38;5;124;43m\"\u001b[39;49m\u001b[38;5;124;43mchat\u001b[39;49m\u001b[38;5;124;43m\"\u001b[39;49m\u001b[43m,\u001b[49m\n\u001b[1;32m     13\u001b[0m \u001b[43m        \u001b[49m\u001b[43mItem\u001b[49m\u001b[38;5;241;43m=\u001b[39;49m\u001b[43mchannel\u001b[49m\n\u001b[1;32m     14\u001b[0m \u001b[43m    \u001b[49m\u001b[43m)\u001b[49m\n",
      "File \u001b[0;32m/usr/local/lib/python3.12/site-packages/botocore/client.py:553\u001b[0m, in \u001b[0;36mClientCreator._create_api_method.<locals>._api_call\u001b[0;34m(self, *args, **kwargs)\u001b[0m\n\u001b[1;32m    549\u001b[0m     \u001b[38;5;28;01mraise\u001b[39;00m \u001b[38;5;167;01mTypeError\u001b[39;00m(\n\u001b[1;32m    550\u001b[0m         \u001b[38;5;124mf\u001b[39m\u001b[38;5;124m\"\u001b[39m\u001b[38;5;132;01m{\u001b[39;00mpy_operation_name\u001b[38;5;132;01m}\u001b[39;00m\u001b[38;5;124m() only accepts keyword arguments.\u001b[39m\u001b[38;5;124m\"\u001b[39m\n\u001b[1;32m    551\u001b[0m     )\n\u001b[1;32m    552\u001b[0m \u001b[38;5;66;03m# The \"self\" in this scope is referring to the BaseClient.\u001b[39;00m\n\u001b[0;32m--> 553\u001b[0m \u001b[38;5;28;01mreturn\u001b[39;00m \u001b[38;5;28;43mself\u001b[39;49m\u001b[38;5;241;43m.\u001b[39;49m\u001b[43m_make_api_call\u001b[49m\u001b[43m(\u001b[49m\u001b[43moperation_name\u001b[49m\u001b[43m,\u001b[49m\u001b[43m \u001b[49m\u001b[43mkwargs\u001b[49m\u001b[43m)\u001b[49m\n",
      "File \u001b[0;32m/usr/local/lib/python3.12/site-packages/botocore/client.py:1009\u001b[0m, in \u001b[0;36mBaseClient._make_api_call\u001b[0;34m(self, operation_name, api_params)\u001b[0m\n\u001b[1;32m   1005\u001b[0m     error_code \u001b[38;5;241m=\u001b[39m error_info\u001b[38;5;241m.\u001b[39mget(\u001b[38;5;124m\"\u001b[39m\u001b[38;5;124mQueryErrorCode\u001b[39m\u001b[38;5;124m\"\u001b[39m) \u001b[38;5;129;01mor\u001b[39;00m error_info\u001b[38;5;241m.\u001b[39mget(\n\u001b[1;32m   1006\u001b[0m         \u001b[38;5;124m\"\u001b[39m\u001b[38;5;124mCode\u001b[39m\u001b[38;5;124m\"\u001b[39m\n\u001b[1;32m   1007\u001b[0m     )\n\u001b[1;32m   1008\u001b[0m     error_class \u001b[38;5;241m=\u001b[39m \u001b[38;5;28mself\u001b[39m\u001b[38;5;241m.\u001b[39mexceptions\u001b[38;5;241m.\u001b[39mfrom_code(error_code)\n\u001b[0;32m-> 1009\u001b[0m     \u001b[38;5;28;01mraise\u001b[39;00m error_class(parsed_response, operation_name)\n\u001b[1;32m   1010\u001b[0m \u001b[38;5;28;01melse\u001b[39;00m:\n\u001b[1;32m   1011\u001b[0m     \u001b[38;5;28;01mreturn\u001b[39;00m parsed_response\n",
      "\u001b[0;31mResourceNotFoundException\u001b[0m: An error occurred (ResourceNotFoundException) when calling the PutItem operation: Cannot do operations on a non-existent table"
     ]
    }
   ],
   "source": [
    "channel_town_hall = {\n",
    "    'PK': { 'S': \"CHAN#7\" },\n",
    "    'SK': { 'S': \"CHAN#7\" },\n",
    "    'Name': { 'S': 'Town Hall' },\n",
    "    'Desc': { 'S': 'General News' },\n",
    "    'UserCount': { 'N': \"0\" },\n",
    "    'MessageCount': { 'N': \"0\" }\n",
    "}\n",
    "\n",
    "def save_channel(channel):\n",
    "    return client.put_item(\n",
    "        TableName=\"chat\",\n",
    "        Item=channel\n",
    "    )\n",
    "\n",
    "# AP2\n",
    "def find_channel(key):\n",
    "    item = client.get_item(\n",
    "        TableName=\"chat\",\n",
    "        Key={\n",
    "          'PK': { 'S': key },\n",
    "          'SK': { 'S': key }\n",
    "        }\n",
    "    )\n",
    "    return item['Item'] if 'Item' in item else False\n",
    "\n",
    "# AP4\n",
    "def message_count_for_channel(channel):\n",
    "    return int(channel['MessageCount']['N'])\n",
    "\n",
    "# AP7\n",
    "def user_count_for_channel(channel):\n",
    "    return int(channel['UserCount']['N'])\n",
    "\n",
    "save_channel(channel_town_hall)\n",
    "channel_town_hall = find_channel(channel_town_hall['PK']['S'])\n",
    "channel_town_hall"
   ]
  },
  {
   "cell_type": "code",
   "execution_count": null,
   "id": "f2c84b21-a827-4048-b33a-c998dff14ae6",
   "metadata": {
    "tags": []
   },
   "outputs": [],
   "source": [
    "message_count_for_channel(channel_town_hall)"
   ]
  },
  {
   "cell_type": "code",
   "execution_count": null,
   "id": "07b3c908-972c-4006-9f0e-95e4b313935a",
   "metadata": {
    "tags": []
   },
   "outputs": [],
   "source": [
    "user_count_for_channel(channel_town_hall)"
   ]
  },
  {
   "cell_type": "markdown",
   "id": "399e8b0e-7e06-44a8-86f6-b8ad5ad988ca",
   "metadata": {
    "tags": []
   },
   "source": [
    "## User Join\n",
    "\n",
    "When a user joins a channel, we create a new item and increment the user counter. Further, we setup queries to retreive the users for a channel and channels of a user:"
   ]
  },
  {
   "cell_type": "code",
   "execution_count": null,
   "id": "8df597e4-c669-4034-9fbf-fd302148e0a8",
   "metadata": {
    "tags": []
   },
   "outputs": [],
   "source": [
    "def join_channel(user, channel):\n",
    "    # create userj record\n",
    "    client.put_item(\n",
    "        TableName=\"chat\",\n",
    "        Item={\n",
    "            'PK': channel['PK'],\n",
    "            'SK': { 'S': \"USERJ#\" + parse_id_from_key(user['PK']['S']) },\n",
    "            'Name': user['Name'],\n",
    "            'JoinedAt': { 'S': str(date.today()) },\n",
    "            'GSI1PK': user['PK'],\n",
    "            'GSI1SK': channel['PK'],\n",
    "            'ChanName': channel['Name']\n",
    "        }\n",
    "        )\n",
    "    \n",
    "    # increment users\n",
    "    client.update_item(\n",
    "        TableName=\"chat\",\n",
    "        Key = {\n",
    "            'PK': channel['PK'],\n",
    "            'SK': channel['PK'],\n",
    "        },\n",
    "        ExpressionAttributeValues = {\n",
    "            ':one': { 'N': '1' }\n",
    "        },\n",
    "        UpdateExpression = 'ADD UserCount :one', \n",
    "        ReturnValues = 'UPDATED_NEW'\n",
    "      )\n",
    "\n",
    "# AP5\n",
    "def users_in_channel(key):\n",
    "    item = client.query(\n",
    "        TableName=\"chat\",\n",
    "        KeyConditionExpression='PK = :pk AND begins_with(SK, :userj)',\n",
    "        ExpressionAttributeValues={\n",
    "            ':pk': key,\n",
    "            ':userj': { 'S': 'USERJ#' }\n",
    "        }\n",
    "    )\n",
    "    return item['Items'] if 'Items' in item else []\n",
    "\n",
    "# AP1\n",
    "def channels_for_user(key):\n",
    "    item = client.query(\n",
    "        TableName=\"chat\",\n",
    "        IndexName=\"GSI1\",\n",
    "        KeyConditionExpression='GSI1PK = :pk AND begins_with(GSI1SK, :chan)',\n",
    "        ExpressionAttributeValues={\n",
    "            ':pk': key,\n",
    "            ':chan': { 'S': 'CHAN#' }\n",
    "        }\n",
    "    )\n",
    "    return item['Items'] if 'Items' in item else []\n",
    "\n",
    "join_channel(user_alice, channel_town_hall)\n",
    "join_channel(user_bob, channel_town_hall)\n",
    "users_in_channel(channel_town_hall['PK'])"
   ]
  },
  {
   "cell_type": "code",
   "execution_count": null,
   "id": "108fc978-b833-4a32-a66a-2bf4a6994910",
   "metadata": {
    "tags": []
   },
   "outputs": [],
   "source": [
    "channels_for_user(user_alice['PK'])"
   ]
  },
  {
   "cell_type": "code",
   "execution_count": null,
   "id": "8869c69b-c1e1-4308-b5ca-bb3377904c23",
   "metadata": {
    "tags": []
   },
   "outputs": [],
   "source": [
    "find_channel(channel_town_hall['PK']['S'])"
   ]
  },
  {
   "cell_type": "markdown",
   "id": "aefecbbf-6a5b-4c8a-b3f1-2272ea0d692c",
   "metadata": {
    "tags": []
   },
   "source": [
    "## Messages\n",
    "\n",
    "When we send a message, we create a new item and increment the messages counter:"
   ]
  },
  {
   "cell_type": "code",
   "execution_count": null,
   "id": "060a7e09-57f3-4f85-8d19-9f4b98c18df9",
   "metadata": {
    "tags": []
   },
   "outputs": [],
   "source": [
    "def send_message(user, channel, text):\n",
    "    timestamp = int(time.time())\n",
    "    message_id = uuid.uuid4()\n",
    "    \n",
    "    # create message\n",
    "    client.put_item(\n",
    "        TableName=\"chat\",\n",
    "        Item={\n",
    "            'PK': channel['PK'],\n",
    "            'SK': { 'S': f\"MSG#{timestamp}#{message_id}\" },\n",
    "            'Msg': { 'S': text },\n",
    "            'CreatedAt': { 'N': str(timestamp) },\n",
    "            'UserName': user['Name'],\n",
    "            'UserId': user['PK']\n",
    "        }\n",
    "        )\n",
    "    \n",
    "    # increment users\n",
    "    client.update_item(\n",
    "        TableName=\"chat\",\n",
    "        Key = {\n",
    "            'PK': channel['PK'],\n",
    "            'SK': channel['PK'],\n",
    "        },\n",
    "        ExpressionAttributeValues = {\n",
    "            ':one': { 'N': '1' }\n",
    "        },\n",
    "        UpdateExpression = 'ADD MessageCount :one', \n",
    "        ReturnValues = 'UPDATED_NEW'\n",
    "      )\n",
    "\n",
    "# AP3\n",
    "def messages_in_channel(key, limit = 50):\n",
    "    item = client.query(\n",
    "        TableName=\"chat\",\n",
    "        KeyConditionExpression='PK = :pk AND begins_with(SK, :msg)',\n",
    "        ExpressionAttributeValues={\n",
    "            ':pk': key,\n",
    "            ':msg': { 'S': 'MSG#' }\n",
    "        },\n",
    "        Limit = limit\n",
    "    )\n",
    "    return item['Items'] if 'Items' in item else []\n",
    "    \n",
    "\n",
    "send_message(user_bob, channel_town_hall, \"Hey there!\")\n",
    "send_message(user_alice, channel_town_hall, \"Hello Bob!\")\n",
    "send_message(user_bob, channel_town_hall, \"How are you?\")\n",
    "messages_in_channel(channel_town_hall['PK'])"
   ]
  },
  {
   "cell_type": "code",
   "execution_count": null,
   "id": "70bc0b8b-3ff4-4bdd-9838-3fa56174af63",
   "metadata": {
    "tags": []
   },
   "outputs": [],
   "source": [
    "find_channel(channel_town_hall['PK']['S'])"
   ]
  }
 ],
 "metadata": {
  "kernelspec": {
   "display_name": "Python 3 (ipykernel)",
   "language": "python",
   "name": "python3"
  },
  "language_info": {
   "codemirror_mode": {
    "name": "ipython",
    "version": 3
   },
   "file_extension": ".py",
   "mimetype": "text/x-python",
   "name": "python",
   "nbconvert_exporter": "python",
   "pygments_lexer": "ipython3",
   "version": "3.12.1"
  },
  "vscode": {
   "interpreter": {
    "hash": "5c7b89af1651d0b8571dde13640ecdccf7d5a6204171d6ab33e7c296e100e08a"
   }
  }
 },
 "nbformat": 4,
 "nbformat_minor": 5
}
