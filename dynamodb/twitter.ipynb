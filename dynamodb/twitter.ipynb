{
 "cells": [
  {
   "cell_type": "code",
   "execution_count": 1,
   "id": "4f28fbb3-955e-4f9b-9d71-742a75ac8b88",
   "metadata": {
    "tags": []
   },
   "outputs": [],
   "source": [
    "import boto3\n",
    "from datetime import date\n",
    "import time\n",
    "import uuid\n",
    "from credentials import *\n",
    "import unittest"
   ]
  },
  {
   "cell_type": "markdown",
   "id": "6cc840ff-4d8e-4edf-9bab-5afb9e6fa180",
   "metadata": {
    "tags": []
   },
   "source": [
    "## Connect to DynamoDB\n",
    "\n",
    "Initially, we connect to our local database we started as \"dynamodb\" container:"
   ]
  },
  {
   "cell_type": "code",
   "execution_count": 2,
   "id": "71be6fc4-cdf1-4331-ba5c-3f82d84f40d4",
   "metadata": {
    "tags": []
   },
   "outputs": [
    {
     "data": {
      "text/plain": [
       "{'TableNames': ['twitter'],\n",
       " 'ResponseMetadata': {'RequestId': 'cdfe43b0-d3d6-4ad9-8e50-118c48a03249',\n",
       "  'HTTPStatusCode': 200,\n",
       "  'HTTPHeaders': {'date': 'Thu, 11 Jan 2024 23:11:47 GMT',\n",
       "   'x-amzn-requestid': 'cdfe43b0-d3d6-4ad9-8e50-118c48a03249',\n",
       "   'content-type': 'application/x-amz-json-1.0',\n",
       "   'x-amz-crc32': '2569046870',\n",
       "   'content-length': '26',\n",
       "   'server': 'Jetty(11.0.17)'},\n",
       "  'RetryAttempts': 0}}"
      ]
     },
     "execution_count": 2,
     "metadata": {},
     "output_type": "execute_result"
    }
   ],
   "source": [
    "client = boto3.client('dynamodb', \n",
    "  endpoint_url='http://dynamo:8000', \n",
    "  region_name='eu-central-1',\n",
    "  aws_access_key_id=aws_access_key_id,\n",
    "  aws_secret_access_key=aws_secret_access_key\n",
    ")\n",
    "client.list_tables()"
   ]
  },
  {
   "cell_type": "markdown",
   "id": "d01d0700-079d-4d53-81cf-eb269774f617",
   "metadata": {
    "tags": []
   },
   "source": [
    "## Create Table\n",
    "\n",
    "Let's setup the table with our attributes and indexes:"
   ]
  },
  {
   "cell_type": "code",
   "execution_count": 3,
   "id": "c7028bbb-db6b-4646-a73f-7a8b1604edbe",
   "metadata": {
    "tags": []
   },
   "outputs": [],
   "source": [
    "def create_app_table():\n",
    "    return client.create_table(\n",
    "        TableName=\"twitter\",\n",
    "        KeySchema=[\n",
    "            {\"AttributeName\": \"PK\", \"KeyType\": \"HASH\"},\n",
    "            {\"AttributeName\": \"SK\", \"KeyType\": \"RANGE\"},\n",
    "        ],\n",
    "        AttributeDefinitions=[\n",
    "            {\"AttributeName\": \"PK\", \"AttributeType\": \"S\"},\n",
    "            {\"AttributeName\": \"SK\", \"AttributeType\": \"S\"},\n",
    "        ],\n",
    "        ProvisionedThroughput={\"ReadCapacityUnits\": 10, \"WriteCapacityUnits\": 10},\n",
    "    )"
   ]
  },
  {
   "cell_type": "code",
   "execution_count": 4,
   "id": "2287cd97-789d-4081-8908-886523e157d8",
   "metadata": {
    "tags": []
   },
   "outputs": [],
   "source": [
    "def delete_app_table():\n",
    "    try:\n",
    "        return client.delete_table(TableName=\"twitter\")\n",
    "    except:\n",
    "        return False"
   ]
  },
  {
   "cell_type": "code",
   "execution_count": 5,
   "id": "c3ec9013-9996-438e-85f1-a312bb12a547",
   "metadata": {},
   "outputs": [
    {
     "data": {
      "text/plain": [
       "{'TableDescription': {'AttributeDefinitions': [{'AttributeName': 'PK',\n",
       "    'AttributeType': 'S'},\n",
       "   {'AttributeName': 'SK', 'AttributeType': 'S'}],\n",
       "  'TableName': 'twitter',\n",
       "  'KeySchema': [{'AttributeName': 'PK', 'KeyType': 'HASH'},\n",
       "   {'AttributeName': 'SK', 'KeyType': 'RANGE'}],\n",
       "  'TableStatus': 'ACTIVE',\n",
       "  'CreationDateTime': datetime.datetime(2024, 1, 11, 23, 11, 47, 405000, tzinfo=tzlocal()),\n",
       "  'ProvisionedThroughput': {'LastIncreaseDateTime': datetime.datetime(1970, 1, 1, 0, 0, tzinfo=tzlocal()),\n",
       "   'LastDecreaseDateTime': datetime.datetime(1970, 1, 1, 0, 0, tzinfo=tzlocal()),\n",
       "   'NumberOfDecreasesToday': 0,\n",
       "   'ReadCapacityUnits': 10,\n",
       "   'WriteCapacityUnits': 10},\n",
       "  'TableSizeBytes': 0,\n",
       "  'ItemCount': 0,\n",
       "  'TableArn': 'arn:aws:dynamodb:ddblocal:000000000000:table/twitter',\n",
       "  'DeletionProtectionEnabled': False},\n",
       " 'ResponseMetadata': {'RequestId': '638b3670-f59c-4f38-8cd7-04a64db314e4',\n",
       "  'HTTPStatusCode': 200,\n",
       "  'HTTPHeaders': {'date': 'Thu, 11 Jan 2024 23:11:47 GMT',\n",
       "   'x-amzn-requestid': '638b3670-f59c-4f38-8cd7-04a64db314e4',\n",
       "   'content-type': 'application/x-amz-json-1.0',\n",
       "   'x-amz-crc32': '3864077721',\n",
       "   'content-length': '598',\n",
       "   'server': 'Jetty(11.0.17)'},\n",
       "  'RetryAttempts': 0}}"
      ]
     },
     "execution_count": 5,
     "metadata": {},
     "output_type": "execute_result"
    }
   ],
   "source": [
    "delete_app_table()\n",
    "create_app_table()"
   ]
  },
  {
   "cell_type": "markdown",
   "id": "355f5266-e3c9-4df7-a4c7-74cc14f703b4",
   "metadata": {
    "tags": []
   },
   "source": [
    "## Helpers\n",
    "\n",
    "To setup some other keys later on, we create a function to extract the id from a key:"
   ]
  },
  {
   "cell_type": "code",
   "execution_count": 6,
   "id": "aa035c95-3e84-41ab-a2d5-9f770600fbc8",
   "metadata": {
    "tags": []
   },
   "outputs": [
    {
     "data": {
      "text/plain": [
       "'7'"
      ]
     },
     "execution_count": 6,
     "metadata": {},
     "output_type": "execute_result"
    }
   ],
   "source": [
    "def parse_id_from_key(key):\n",
    "    return key.split(\"#\")[-1]\n",
    "\n",
    "parse_id_from_key(\"CHAN#7\")"
   ]
  },
  {
   "cell_type": "markdown",
   "id": "03862e5d-d396-4acf-8d78-e34d8fc757a6",
   "metadata": {
    "tags": []
   },
   "source": [
    "## Users\n",
    "\n",
    "We create and save our users:"
   ]
  },
  {
   "cell_type": "code",
   "execution_count": 7,
   "id": "d2a9e1ed-67e2-4561-88ae-2c26596ab90a",
   "metadata": {
    "tags": []
   },
   "outputs": [],
   "source": [
    "uuid_entry1 = str(uuid.uuid4())\n",
    "user_martin = {\n",
    "    'PK': {'S': f\"USER#{uuid_entry1}\"},\n",
    "    'SK': {'S': f\"USER#{uuid_entry1}\"},\n",
    "    'Name': {'S': 'Martin Marsal'},\n",
    "}\n",
    "\n",
    "uuid_entry2 = str(uuid.uuid4())\n",
    "user_christian = {\n",
    "    'PK': {'S': f\"USER#{uuid_entry2}\"},\n",
    "    'SK': {'S': f\"USER#{uuid_entry2}\"},\n",
    "    'Name': {'S': 'Christian Diegmann'},\n",
    "}\n",
    "\n",
    "uuid_entry3 = str(uuid.uuid4())\n",
    "user_robin = {\n",
    "    'PK': {'S': f\"USER#{uuid_entry3}\"},\n",
    "    'SK': {'S': f\"USER#{uuid_entry3}\"},\n",
    "    'Name': {'S': 'Robin Schüle'},\n",
    "}\n",
    "\n",
    "def save_user(user):\n",
    "    return client.put_item(\n",
    "        TableName=\"twitter\",\n",
    "        Item=user\n",
    "    )\n",
    "\n",
    "# AP6\n",
    "def find_user(primaryKey, sortKey):\n",
    "    item = client.get_item(\n",
    "        TableName=\"twitter\",\n",
    "        Key={\n",
    "          'PK': { 'S': primaryKey },\n",
    "          'SK': { 'S': sortKey }\n",
    "        }\n",
    "    )\n",
    "    return item['Item'] if 'Item' in item else False"
   ]
  },
  {
   "cell_type": "code",
   "execution_count": 8,
   "id": "a71f03b7-b7ba-4de6-ab0b-5c1f66508bc3",
   "metadata": {},
   "outputs": [
    {
     "data": {
      "text/plain": [
       "{'SK': {'S': 'USER#9a9941aa-4a2d-44ad-999c-e253c1b917e5'},\n",
       " 'PK': {'S': 'USER#9a9941aa-4a2d-44ad-999c-e253c1b917e5'},\n",
       " 'Name': {'S': 'Martin Marsal'}}"
      ]
     },
     "execution_count": 8,
     "metadata": {},
     "output_type": "execute_result"
    }
   ],
   "source": [
    "save_user(user_martin)\n",
    "find_user(user_martin['PK']['S'], user_martin['SK']['S'])"
   ]
  },
  {
   "cell_type": "code",
   "execution_count": 9,
   "id": "b5318ea1-235d-44a8-a49f-73a7bf7e001a",
   "metadata": {},
   "outputs": [
    {
     "data": {
      "text/plain": [
       "{'SK': {'S': 'USER#96b97410-a549-430a-b6a4-048c1152f103'},\n",
       " 'PK': {'S': 'USER#96b97410-a549-430a-b6a4-048c1152f103'},\n",
       " 'Name': {'S': 'Christian Diegmann'}}"
      ]
     },
     "execution_count": 9,
     "metadata": {},
     "output_type": "execute_result"
    }
   ],
   "source": [
    "save_user(user_christian)\n",
    "find_user(user_christian['PK']['S'], user_christian['SK']['S'])"
   ]
  },
  {
   "cell_type": "code",
   "execution_count": 10,
   "id": "7e50ef01-455e-437b-a83a-481858587e2d",
   "metadata": {},
   "outputs": [
    {
     "data": {
      "text/plain": [
       "{'SK': {'S': 'USER#87023191-51f0-4c49-bb25-fc13cce1a5a5'},\n",
       " 'PK': {'S': 'USER#87023191-51f0-4c49-bb25-fc13cce1a5a5'},\n",
       " 'Name': {'S': 'Robin Schüle'}}"
      ]
     },
     "execution_count": 10,
     "metadata": {},
     "output_type": "execute_result"
    }
   ],
   "source": [
    "save_user(user_robin)\n",
    "find_user(user_robin['PK']['S'], user_robin['SK']['S'])"
   ]
  },
  {
   "cell_type": "code",
   "execution_count": 11,
   "id": "37006c58-df4e-4de5-9927-dddb8069fba8",
   "metadata": {},
   "outputs": [],
   "source": [
    "def add_to_followers(primaryKey, follower):\n",
    "    response = client.put_item(\n",
    "        TableName=\"twitter\",\n",
    "        Item={\n",
    "            'PK': {'S': primaryKey},\n",
    "            'SK': {'S': f\"FOLLOWER#{parse_id_from_key(follower['PK']['S'])}\"},\n",
    "            'Name': {'S': follower['Name']['S']},\n",
    "        },\n",
    "        )\n",
    "    if response['ResponseMetadata']['HTTPStatusCode'] == 200:\n",
    "        return client.get_item(\n",
    "            TableName='twitter',\n",
    "            Key={\n",
    "                'PK': {'S': primaryKey},\n",
    "                'SK': {'S': f\"FOLLOWER#{parse_id_from_key(follower['PK']['S'])}\"},\n",
    "            }\n",
    "        )"
   ]
  },
  {
   "cell_type": "code",
   "execution_count": 12,
   "id": "f625e08c-1242-470b-a398-76595ea8e1c4",
   "metadata": {},
   "outputs": [
    {
     "data": {
      "text/plain": [
       "{'Item': {'SK': {'S': 'FOLLOWER#96b97410-a549-430a-b6a4-048c1152f103'},\n",
       "  'PK': {'S': 'USER#9a9941aa-4a2d-44ad-999c-e253c1b917e5'},\n",
       "  'Name': {'S': 'Christian Diegmann'}},\n",
       " 'ResponseMetadata': {'RequestId': '9a94596d-1fbb-4d25-9365-62f243c7aa41',\n",
       "  'HTTPStatusCode': 200,\n",
       "  'HTTPHeaders': {'date': 'Thu, 11 Jan 2024 23:11:47 GMT',\n",
       "   'x-amzn-requestid': '9a94596d-1fbb-4d25-9365-62f243c7aa41',\n",
       "   'content-type': 'application/x-amz-json-1.0',\n",
       "   'x-amz-crc32': '3243043190',\n",
       "   'content-length': '158',\n",
       "   'server': 'Jetty(11.0.17)'},\n",
       "  'RetryAttempts': 0}}"
      ]
     },
     "execution_count": 12,
     "metadata": {},
     "output_type": "execute_result"
    }
   ],
   "source": [
    "add_to_followers(user_martin['PK']['S'], user_christian)"
   ]
  },
  {
   "cell_type": "code",
   "execution_count": 13,
   "id": "0b6c6b04-a797-44fa-836a-f87be30e4602",
   "metadata": {},
   "outputs": [
    {
     "data": {
      "text/plain": [
       "{'Item': {'SK': {'S': 'FOLLOWER#87023191-51f0-4c49-bb25-fc13cce1a5a5'},\n",
       "  'PK': {'S': 'USER#96b97410-a549-430a-b6a4-048c1152f103'},\n",
       "  'Name': {'S': 'Robin Schüle'}},\n",
       " 'ResponseMetadata': {'RequestId': '0fab8c99-2d8d-46e4-af06-f47eb44fab33',\n",
       "  'HTTPStatusCode': 200,\n",
       "  'HTTPHeaders': {'date': 'Thu, 11 Jan 2024 23:11:47 GMT',\n",
       "   'x-amzn-requestid': '0fab8c99-2d8d-46e4-af06-f47eb44fab33',\n",
       "   'content-type': 'application/x-amz-json-1.0',\n",
       "   'x-amz-crc32': '3805266071',\n",
       "   'content-length': '153',\n",
       "   'server': 'Jetty(11.0.17)'},\n",
       "  'RetryAttempts': 0}}"
      ]
     },
     "execution_count": 13,
     "metadata": {},
     "output_type": "execute_result"
    }
   ],
   "source": [
    "add_to_followers(user_christian['PK']['S'], user_robin)"
   ]
  },
  {
   "cell_type": "code",
   "execution_count": 14,
   "id": "d098a9b8-4f11-404d-9158-7e82442dbeee",
   "metadata": {},
   "outputs": [
    {
     "data": {
      "text/plain": [
       "{'Item': {'SK': {'S': 'FOLLOWER#9a9941aa-4a2d-44ad-999c-e253c1b917e5'},\n",
       "  'PK': {'S': 'USER#87023191-51f0-4c49-bb25-fc13cce1a5a5'},\n",
       "  'Name': {'S': 'Martin Marsal'}},\n",
       " 'ResponseMetadata': {'RequestId': '3ae12a9b-ba7b-4b83-aa5b-5a44c0cab1ea',\n",
       "  'HTTPStatusCode': 200,\n",
       "  'HTTPHeaders': {'date': 'Thu, 11 Jan 2024 23:11:47 GMT',\n",
       "   'x-amzn-requestid': '3ae12a9b-ba7b-4b83-aa5b-5a44c0cab1ea',\n",
       "   'content-type': 'application/x-amz-json-1.0',\n",
       "   'x-amz-crc32': '18814152',\n",
       "   'content-length': '153',\n",
       "   'server': 'Jetty(11.0.17)'},\n",
       "  'RetryAttempts': 0}}"
      ]
     },
     "execution_count": 14,
     "metadata": {},
     "output_type": "execute_result"
    }
   ],
   "source": [
    "add_to_followers(user_robin['PK']['S'], user_martin)"
   ]
  },
  {
   "cell_type": "markdown",
   "id": "45119e16-f446-428b-a70e-75760fa6526c",
   "metadata": {},
   "source": [
    "## 1st access pattern: Post a tweet"
   ]
  },
  {
   "cell_type": "code",
   "execution_count": 15,
   "id": "a2936ea4-122f-4e5e-b867-16193a9d6a31",
   "metadata": {},
   "outputs": [],
   "source": [
    "uuid_entry4 = str(uuid.uuid4())\n",
    "timestamp = int(time.time())\n",
    "tweet = {'id': {'S': f\"{uuid_entry4}\"}, 'text': {'S': 'Moin, moin.'}, 'likes': {'N': '0'}, 'CreatedAt': { 'N': str(timestamp)}}\n",
    "uuid_entry5 = str(uuid.uuid4())\n",
    "timestamp = int(time.time())\n",
    "tweet_2 = {'id': {'S': f\"{uuid_entry5}\"}, 'text': {'S': 'MongoDB ist super!'}, 'likes': {'N': '0'}, 'CreatedAt': { 'N': str(timestamp)}}\n",
    "newMartin = find_user(user_martin['PK']['S'], user_martin['SK']['S'])\n",
    "\n",
    "def post_tweet(primaryKey, tweet):\n",
    "    client.put_item(\n",
    "        TableName='twitter',\n",
    "        Item={\n",
    "            'PK': {'S': primaryKey},\n",
    "            'SK': {'S': f\"TWEET#{tweet['id']['S']}\"},\n",
    "            'id': {'S': tweet['id']['S']},\n",
    "            'text': {'S': tweet['text']['S']},\n",
    "            'likes': {'N': tweet['likes']['N']},\n",
    "            'CreatedAt': { 'N': tweet['CreatedAt']['N']}\n",
    "        },\n",
    "    )\n",
    "    item = client.query(\n",
    "        TableName=\"twitter\",\n",
    "        KeyConditionExpression='PK = :pk AND begins_with(SK, :follower)',\n",
    "        ExpressionAttributeValues={\n",
    "            ':pk': { 'S': primaryKey },\n",
    "            ':follower': { 'S': 'FOLLOWER#' }\n",
    "        },\n",
    "    )\n",
    "    followers = item['Items']\n",
    "    for follower in followers:\n",
    "        response2 = client.put_item(\n",
    "            TableName='twitter',\n",
    "            Item={\n",
    "                'PK': {'S': f\"USER#{parse_id_from_key(follower['SK']['S'])}\"},\n",
    "                'SK': {'S': f\"TIMELINE#{tweet['id']['S']}\"},\n",
    "                'tweetId': {'S': tweet['id']['S']},\n",
    "                'text': {'S': tweet['text']['S']},\n",
    "                'likes': {'N': tweet['likes']['N']},\n",
    "                'CreatedAt': { 'N': tweet['CreatedAt']['N']}\n",
    "            },\n",
    "        )\n",
    "    if response2['ResponseMetadata']['HTTPStatusCode'] == 200:\n",
    "        return client.query(\n",
    "            TableName=\"twitter\",\n",
    "            KeyConditionExpression='PK = :pk AND begins_with(SK, :timeline)',\n",
    "            ExpressionAttributeValues={\n",
    "                ':pk': { 'S': f\"USER#{parse_id_from_key(user_christian['PK']['S'])}\" },\n",
    "                ':timeline': { 'S': 'TIMELINE#' }\n",
    "            },\n",
    "        )"
   ]
  },
  {
   "cell_type": "code",
   "execution_count": 16,
   "id": "8388df21-a670-4fbc-bf69-8cee47879bd5",
   "metadata": {},
   "outputs": [
    {
     "data": {
      "text/plain": [
       "{'Items': [{'SK': {'S': 'TIMELINE#5a03ab7c-daf3-4626-8fd9-00671049ca89'},\n",
       "   'PK': {'S': 'USER#96b97410-a549-430a-b6a4-048c1152f103'},\n",
       "   'text': {'S': 'Moin, moin.'},\n",
       "   'tweetId': {'S': '5a03ab7c-daf3-4626-8fd9-00671049ca89'},\n",
       "   'likes': {'N': '0'},\n",
       "   'CreatedAt': {'N': '1705014707'}}],\n",
       " 'Count': 1,\n",
       " 'ScannedCount': 1,\n",
       " 'ResponseMetadata': {'RequestId': '8d00aa9d-df93-43c4-be5d-5754f3cbc4aa',\n",
       "  'HTTPStatusCode': 200,\n",
       "  'HTTPHeaders': {'date': 'Thu, 11 Jan 2024 23:11:47 GMT',\n",
       "   'x-amzn-requestid': '8d00aa9d-df93-43c4-be5d-5754f3cbc4aa',\n",
       "   'content-type': 'application/x-amz-json-1.0',\n",
       "   'x-amz-crc32': '3456900121',\n",
       "   'content-length': '285',\n",
       "   'server': 'Jetty(11.0.17)'},\n",
       "  'RetryAttempts': 0}}"
      ]
     },
     "execution_count": 16,
     "metadata": {},
     "output_type": "execute_result"
    }
   ],
   "source": [
    "post_tweet(user_martin['PK']['S'], tweet)"
   ]
  },
  {
   "cell_type": "code",
   "execution_count": 17,
   "id": "6bd5e383-01f2-4a5f-8416-a1117ed3dc5f",
   "metadata": {},
   "outputs": [
    {
     "data": {
      "text/plain": [
       "{'Items': [{'SK': {'S': 'TIMELINE#36cd887d-e151-48be-a36c-2c239997d726'},\n",
       "   'PK': {'S': 'USER#96b97410-a549-430a-b6a4-048c1152f103'},\n",
       "   'text': {'S': 'MongoDB ist super!'},\n",
       "   'tweetId': {'S': '36cd887d-e151-48be-a36c-2c239997d726'},\n",
       "   'likes': {'N': '0'},\n",
       "   'CreatedAt': {'N': '1705014707'}},\n",
       "  {'SK': {'S': 'TIMELINE#5a03ab7c-daf3-4626-8fd9-00671049ca89'},\n",
       "   'PK': {'S': 'USER#96b97410-a549-430a-b6a4-048c1152f103'},\n",
       "   'text': {'S': 'Moin, moin.'},\n",
       "   'tweetId': {'S': '5a03ab7c-daf3-4626-8fd9-00671049ca89'},\n",
       "   'likes': {'N': '0'},\n",
       "   'CreatedAt': {'N': '1705014707'}}],\n",
       " 'Count': 2,\n",
       " 'ScannedCount': 2,\n",
       " 'ResponseMetadata': {'RequestId': '827fab4c-2edc-4e34-a402-343057f26f23',\n",
       "  'HTTPStatusCode': 200,\n",
       "  'HTTPHeaders': {'date': 'Thu, 11 Jan 2024 23:11:47 GMT',\n",
       "   'x-amzn-requestid': '827fab4c-2edc-4e34-a402-343057f26f23',\n",
       "   'content-type': 'application/x-amz-json-1.0',\n",
       "   'x-amz-crc32': '2758427574',\n",
       "   'content-length': '539',\n",
       "   'server': 'Jetty(11.0.17)'},\n",
       "  'RetryAttempts': 0}}"
      ]
     },
     "execution_count": 17,
     "metadata": {},
     "output_type": "execute_result"
    }
   ],
   "source": [
    "post_tweet(user_martin['PK']['S'], tweet_2)"
   ]
  },
  {
   "cell_type": "code",
   "execution_count": 18,
   "id": "8c504d76-0066-4f34-9488-0be34ff95ef4",
   "metadata": {},
   "outputs": [],
   "source": [
    "class TestPostTweet(unittest.TestCase):\n",
    "    def test_post_tweet_enriched_timeline(self):\n",
    "        christian_timeline = client.query(\n",
    "            TableName=\"twitter\",\n",
    "            KeyConditionExpression='PK = :pk AND begins_with(SK, :timeline)',\n",
    "            ExpressionAttributeValues={\n",
    "                ':pk': { 'S': user_christian['PK']['S'] },\n",
    "                ':timeline': { 'S': 'TIMELINE#' }\n",
    "            },\n",
    "        )\n",
    "        timeline_length = len(christian_timeline['Items'])\n",
    "        self.assertEqual(timeline_length, 2)\n",
    "\n",
    "    def test_post_tweet_empty_timeline(self):\n",
    "        robin_timeline = client.query(\n",
    "            TableName=\"twitter\",\n",
    "            KeyConditionExpression='PK = :pk AND begins_with(SK, :timeline)',\n",
    "            ExpressionAttributeValues={\n",
    "                ':pk': { 'S': user_robin['PK']['S'] },\n",
    "                ':timeline': { 'S': 'TIMELINE#' }\n",
    "            },\n",
    "        )\n",
    "        timeline_length = len(robin_timeline['Items'])\n",
    "        self.assertEqual(timeline_length, 0)"
   ]
  },
  {
   "cell_type": "code",
   "execution_count": 19,
   "id": "41b91395-5a5c-4568-adcf-f705ed6a0e99",
   "metadata": {},
   "outputs": [
    {
     "name": "stderr",
     "output_type": "stream",
     "text": [
      "test_post_tweet_empty_timeline (__main__.TestPostTweet.test_post_tweet_empty_timeline) ... ok\n",
      "test_post_tweet_enriched_timeline (__main__.TestPostTweet.test_post_tweet_enriched_timeline) ... ok\n",
      "\n",
      "----------------------------------------------------------------------\n",
      "Ran 2 tests in 0.017s\n",
      "\n",
      "OK\n"
     ]
    }
   ],
   "source": [
    "if __name__ == '__main__':\n",
    "    suite = unittest.TestLoader().loadTestsFromTestCase(TestPostTweet)\n",
    "    unittest.TextTestRunner(verbosity=2).run(suite)"
   ]
  },
  {
   "cell_type": "markdown",
   "id": "cc73fca7-e9e0-48ae-8fff-f25cd617cc87",
   "metadata": {},
   "source": [
    "## 2nd access pattern: Write a reply"
   ]
  },
  {
   "cell_type": "code",
   "execution_count": 20,
   "id": "49b07d45-f839-4d0c-9f26-5f9ab3bae71c",
   "metadata": {},
   "outputs": [],
   "source": [
    "uuid_entry6 = str(uuid.uuid4())\n",
    "reply = {'id': {'S': f\"{uuid_entry6}\"}, 'text': {'S': 'Hallo zurück.'}, 'likes': {'N': '0'}, 'CreatedAt': { 'N': str(timestamp)}, 'tweetId': {'S': f\"{parse_id_from_key(tweet['id']['S'])}\"},}\n",
    "\n",
    "def post_reply(author, user, tweet, reply):\n",
    "    client.put_item(\n",
    "        TableName='twitter',\n",
    "        Item={\n",
    "            'PK': {'S': f\"USER#{parse_id_from_key(author['PK']['S'])}\"},\n",
    "            'SK': {'S': f\"TWEET#{tweet['id']['S']}#{reply['id']['S']}\"},\n",
    "            'id': {'S': reply['id']['S']},\n",
    "            'text': {'S': reply['text']['S']},\n",
    "            'likes': {'N': reply['likes']['N']},\n",
    "            'CreatedAt': { 'N': reply['CreatedAt']['N']}\n",
    "        },\n",
    "    )\n",
    "    item = client.query(\n",
    "        TableName=\"twitter\",\n",
    "        KeyConditionExpression='PK = :pk AND begins_with(SK, :follower)',\n",
    "        ExpressionAttributeValues={\n",
    "            ':pk': { 'S': f\"USER#{parse_id_from_key(author['PK']['S'])}\" },\n",
    "            ':follower': { 'S': 'FOLLOWER#' }\n",
    "        },\n",
    "    )\n",
    "    followers = item['Items']\n",
    "    for follower in followers:\n",
    "        response2 = client.put_item(\n",
    "            TableName='twitter',\n",
    "            Item={\n",
    "                'PK': {'S': f\"USER#{parse_id_from_key(follower['SK']['S'])}\"},\n",
    "                'SK': {'S': f\"TIMELINE#{tweet['id']['S']}#{reply['id']['S']}\"},\n",
    "                'id': {'S': reply['id']['S']},\n",
    "                'text': {'S': reply['text']['S']},\n",
    "                'likes': {'N': reply['likes']['N']},\n",
    "                'CreatedAt': { 'N': reply['CreatedAt']['N']}\n",
    "            },\n",
    "        )\n",
    "    if response2['ResponseMetadata']['HTTPStatusCode'] == 200:\n",
    "        return client.query(\n",
    "            TableName=\"twitter\",\n",
    "            KeyConditionExpression='PK = :pk AND begins_with(SK, :timeline)',\n",
    "            ExpressionAttributeValues={\n",
    "                ':pk': { 'S': f\"USER#{parse_id_from_key(author['PK']['S'])}\" },\n",
    "                ':timeline': { 'S': 'TIMELINE#' }\n",
    "            },\n",
    "        )"
   ]
  },
  {
   "cell_type": "code",
   "execution_count": 21,
   "id": "c8ce54ab-f4b7-4176-8781-5cb893ec07cc",
   "metadata": {},
   "outputs": [
    {
     "data": {
      "text/plain": [
       "{'Items': [],\n",
       " 'Count': 0,\n",
       " 'ScannedCount': 0,\n",
       " 'ResponseMetadata': {'RequestId': 'cfd93b2a-ae22-43de-a49a-555d957702e8',\n",
       "  'HTTPStatusCode': 200,\n",
       "  'HTTPHeaders': {'date': 'Thu, 11 Jan 2024 23:11:47 GMT',\n",
       "   'x-amzn-requestid': 'cfd93b2a-ae22-43de-a49a-555d957702e8',\n",
       "   'content-type': 'application/x-amz-json-1.0',\n",
       "   'x-amz-crc32': '583912891',\n",
       "   'content-length': '39',\n",
       "   'server': 'Jetty(11.0.17)'},\n",
       "  'RetryAttempts': 0}}"
      ]
     },
     "execution_count": 21,
     "metadata": {},
     "output_type": "execute_result"
    }
   ],
   "source": [
    "post_reply(user_martin, user_christian, tweet, reply)"
   ]
  },
  {
   "cell_type": "code",
   "execution_count": 22,
   "id": "341dcf85-0b8d-4a59-aff6-500a6b32aadf",
   "metadata": {},
   "outputs": [],
   "source": [
    "class TestPostReply(unittest.TestCase):\n",
    "    def test_post_reply_enriched_replies(self):\n",
    "        test_tweet = client.query(\n",
    "            TableName=\"twitter\",\n",
    "            KeyConditionExpression='PK = :pk AND begins_with(SK, :timeline)',\n",
    "            ExpressionAttributeValues={\n",
    "                ':pk': { 'S': user_christian['PK']['S'] },\n",
    "                ':timeline': { 'S': f\"TIMELINE#{tweet['id']['S']}\" }\n",
    "            },\n",
    "        )\n",
    "        tweet_length = len(test_tweet['Items'])\n",
    "        self.assertEqual(tweet_length, 2)\n",
    "        \n",
    "    def test_post_reply_empty_replies(self):\n",
    "        test_tweet = client.query(\n",
    "            TableName=\"twitter\",\n",
    "            KeyConditionExpression='PK = :pk AND begins_with(SK, :timeline)',\n",
    "            ExpressionAttributeValues={\n",
    "                ':pk': { 'S': user_christian['PK']['S'] },\n",
    "                ':timeline': { 'S': f\"TIMELINE#{tweet_2['id']['S']}\" }\n",
    "            },\n",
    "        )\n",
    "        tweet_length = len(test_tweet['Items'])\n",
    "        self.assertEqual(tweet_length, 1)"
   ]
  },
  {
   "cell_type": "code",
   "execution_count": 23,
   "id": "95daa3f0-96fa-449a-8125-4a880ce449d2",
   "metadata": {},
   "outputs": [
    {
     "name": "stderr",
     "output_type": "stream",
     "text": [
      "test_post_reply_empty_replies (__main__.TestPostReply.test_post_reply_empty_replies) ... ok\n",
      "test_post_reply_enriched_replies (__main__.TestPostReply.test_post_reply_enriched_replies) ... ok\n",
      "\n",
      "----------------------------------------------------------------------\n",
      "Ran 2 tests in 0.018s\n",
      "\n",
      "OK\n"
     ]
    }
   ],
   "source": [
    "if __name__ == '__main__':\n",
    "    suite = unittest.TestLoader().loadTestsFromTestCase(TestPostReply)\n",
    "    unittest.TextTestRunner(verbosity=2).run(suite)"
   ]
  },
  {
   "cell_type": "markdown",
   "id": "740a4f79-95d3-47b8-9223-95c6fdc49a6e",
   "metadata": {},
   "source": [
    "## 3rd access pattern: Edit a tweet"
   ]
  },
  {
   "cell_type": "code",
   "execution_count": 24,
   "id": "4df30500-835f-4c45-9186-ccfc32556dff",
   "metadata": {},
   "outputs": [],
   "source": [
    "def edit_tweet(primaryKey, tweetId, new_text):\n",
    "\n",
    "    response = client.update_item(\n",
    "        TableName=\"twitter\",\n",
    "        Key={\n",
    "            'PK': {'S': primaryKey},\n",
    "            'SK': {'S': f\"TWEET#{tweetId}\"}\n",
    "        },\n",
    "        UpdateExpression='SET #text = :new_text',\n",
    "        ExpressionAttributeNames={\n",
    "            '#text': 'text'\n",
    "        },\n",
    "        ExpressionAttributeValues={\n",
    "            ':new_text': {'S': new_text}\n",
    "        }\n",
    "    )\n",
    "\n",
    "\n",
    "    followers_query = client.query(\n",
    "        TableName=\"twitter\",\n",
    "        KeyConditionExpression='PK = :pk AND begins_with(SK, :follower)',\n",
    "        ExpressionAttributeValues={\n",
    "            ':pk': {'S': primaryKey},\n",
    "            ':follower': {'S': 'FOLLOWER#'}\n",
    "        },\n",
    "    )\n",
    "\n",
    "    followers = followers_query.get('Items', [])\n",
    "    for follower in followers:\n",
    "        client.update_item(\n",
    "            TableName=\"twitter\",\n",
    "            Key={\n",
    "                'PK': {'S': f\"USER#{parse_id_from_key(follower['SK']['S'])}\"},\n",
    "                'SK': {'S': f\"TIMELINE#{tweetId}\"}\n",
    "            },\n",
    "            UpdateExpression='SET #text = :new_text',\n",
    "            ExpressionAttributeNames={\n",
    "                '#text': 'text'\n",
    "            },\n",
    "            ExpressionAttributeValues={\n",
    "                ':new_text': {'S': new_text}\n",
    "            }\n",
    "        )\n",
    "\n",
    "    return response\n"
   ]
  },
  {
   "cell_type": "code",
   "execution_count": 25,
   "id": "34e10eeb-e219-4240-bac4-9bf87b8ef7e0",
   "metadata": {},
   "outputs": [
    {
     "data": {
      "text/plain": [
       "{'ResponseMetadata': {'RequestId': 'da1f896e-65c7-4198-8738-3dd2b863de64',\n",
       "  'HTTPStatusCode': 200,\n",
       "  'HTTPHeaders': {'date': 'Thu, 11 Jan 2024 23:11:47 GMT',\n",
       "   'x-amzn-requestid': 'da1f896e-65c7-4198-8738-3dd2b863de64',\n",
       "   'content-type': 'application/x-amz-json-1.0',\n",
       "   'x-amz-crc32': '2745614147',\n",
       "   'content-length': '2',\n",
       "   'server': 'Jetty(11.0.17)'},\n",
       "  'RetryAttempts': 0}}"
      ]
     },
     "execution_count": 25,
     "metadata": {},
     "output_type": "execute_result"
    }
   ],
   "source": [
    "new_tweet_text = \"DynamoDB ist super\"\n",
    "edit_tweet(user_martin['PK']['S'], uuid_entry5, new_tweet_text)\n"
   ]
  },
  {
   "cell_type": "code",
   "execution_count": 26,
   "id": "5de8742a-2083-4d34-b4d0-bc653cc90387",
   "metadata": {},
   "outputs": [],
   "source": [
    "def get_user_tweets(primaryKey):\n",
    "    response = client.query(\n",
    "        TableName=\"twitter\",\n",
    "        KeyConditionExpression='PK = :pk AND begins_with(SK, :tweet)',\n",
    "        ExpressionAttributeValues={\n",
    "            ':pk': {'S': primaryKey},\n",
    "            ':tweet': {'S': 'TWEET#'}\n",
    "        }\n",
    "    )\n",
    "\n",
    "    tweets = response.get('Items', [])\n",
    "    return tweets"
   ]
  },
  {
   "cell_type": "code",
   "execution_count": 27,
   "id": "63243af6-7622-48d9-9cfb-abf5cd3fe715",
   "metadata": {},
   "outputs": [
    {
     "name": "stdout",
     "output_type": "stream",
     "text": [
      "[{'SK': {'S': 'TWEET#36cd887d-e151-48be-a36c-2c239997d726'}, 'PK': {'S': 'USER#9a9941aa-4a2d-44ad-999c-e253c1b917e5'}, 'id': {'S': '36cd887d-e151-48be-a36c-2c239997d726'}, 'text': {'S': 'DynamoDB ist super'}, 'CreatedAt': {'N': '1705014707'}, 'likes': {'N': '0'}}, {'SK': {'S': 'TWEET#5a03ab7c-daf3-4626-8fd9-00671049ca89'}, 'PK': {'S': 'USER#9a9941aa-4a2d-44ad-999c-e253c1b917e5'}, 'id': {'S': '5a03ab7c-daf3-4626-8fd9-00671049ca89'}, 'text': {'S': 'Moin, moin.'}, 'likes': {'N': '0'}, 'CreatedAt': {'N': '1705014707'}}, {'SK': {'S': 'TWEET#5a03ab7c-daf3-4626-8fd9-00671049ca89#172be746-9d26-4818-a887-35080ac97f83'}, 'PK': {'S': 'USER#9a9941aa-4a2d-44ad-999c-e253c1b917e5'}, 'id': {'S': '172be746-9d26-4818-a887-35080ac97f83'}, 'text': {'S': 'Hallo zurück.'}, 'likes': {'N': '0'}, 'CreatedAt': {'N': '1705014707'}}]\n"
     ]
    }
   ],
   "source": [
    "user_martin_tweets = get_user_tweets(user_martin['PK']['S'])\n",
    "print(user_martin_tweets)"
   ]
  },
  {
   "cell_type": "code",
   "execution_count": 28,
   "id": "4d729fa8-91c7-48fc-bfba-cd61c2d331b8",
   "metadata": {},
   "outputs": [],
   "source": [
    "class TestEditTweet(unittest.TestCase):\n",
    "    def test_edit_tweet__timeline(self):\n",
    "        tweet_id_to_find = uuid_entry5  \n",
    "        updated_text = \"DynamoDB ist super\"\n",
    "\n",
    "        christian_timeline = client.query(\n",
    "            TableName=\"twitter\",\n",
    "            KeyConditionExpression='PK = :pk AND SK = :sk',\n",
    "            ExpressionAttributeValues={\n",
    "                ':pk': {'S': f\"USER#{parse_id_from_key(user_christian['PK']['S'])}\"},\n",
    "                ':sk': {'S': f\"TIMELINE#{tweet_id_to_find}\"}\n",
    "            },\n",
    "        )\n",
    "        matching_items = christian_timeline.get('Items', [])\n",
    "\n",
    "        self.assertTrue(\n",
    "            any('text' in item and item['text']['S'] == updated_text for item in matching_items),\n",
    "            f\"Tweet with ID {tweet_id_to_find} not found in timeline or text not updated.\"\n",
    "        )\n",
    "\n",
    "    def test_edit_tweet_martin(self):\n",
    "        tweet_id_to_find = uuid_entry5  \n",
    "        updated_text = \"DynamoDB ist super\"  \n",
    "\n",
    "        \n",
    "        martin_tweets = client.query(\n",
    "            TableName=\"twitter\",\n",
    "            KeyConditionExpression='PK = :pk AND SK = :sk',\n",
    "            ExpressionAttributeValues={\n",
    "                ':pk': {'S': f\"USER#{parse_id_from_key(user_martin['PK']['S'])}\"},\n",
    "                ':sk': {'S': f\"TWEET#{tweet_id_to_find}\"}\n",
    "            },\n",
    "        )\n",
    "        matching_items_martin = martin_tweets.get('Items', [])\n",
    "\n",
    "        # Check if the updated text is found in user_martin's tweets\n",
    "        self.assertTrue(\n",
    "            any('text' in item and item['text']['S'] == updated_text for item in matching_items_martin),\n",
    "            f\"Tweet with ID {tweet_id_to_find} not found in Martin's tweets or text not updated.\"\n",
    "        )\n",
    "\n",
    "\n",
    "    def test_edit_tweet_empty_timeline(self):\n",
    "        robin_timeline = client.query(\n",
    "            TableName=\"twitter\",\n",
    "            KeyConditionExpression='PK = :pk AND begins_with(SK, :timeline)',\n",
    "            ExpressionAttributeValues={\n",
    "                ':pk': { 'S': user_robin['PK']['S'] },\n",
    "                ':timeline': { 'S': 'TIMELINE#' }\n",
    "            },\n",
    "        )\n",
    "        timeline_length = len(robin_timeline['Items'])\n",
    "        self.assertEqual(timeline_length, 0)"
   ]
  },
  {
   "cell_type": "code",
   "execution_count": 29,
   "id": "6b77d7b4-b8c1-4625-b2d0-b8839dfe34af",
   "metadata": {},
   "outputs": [
    {
     "name": "stderr",
     "output_type": "stream",
     "text": [
      "test_edit_tweet__timeline (__main__.TestEditTweet.test_edit_tweet__timeline) ... ok\n",
      "test_edit_tweet_empty_timeline (__main__.TestEditTweet.test_edit_tweet_empty_timeline) ... ok\n",
      "test_edit_tweet_martin (__main__.TestEditTweet.test_edit_tweet_martin) ... ok\n",
      "\n",
      "----------------------------------------------------------------------\n",
      "Ran 3 tests in 0.027s\n",
      "\n",
      "OK\n"
     ]
    }
   ],
   "source": [
    "if __name__ == '__main__':\n",
    "    suite = unittest.TestLoader().loadTestsFromTestCase(TestEditTweet)\n",
    "    unittest.TextTestRunner(verbosity=2).run(suite)"
   ]
  },
  {
   "cell_type": "markdown",
   "id": "4ff65317-1bbb-48cc-9f4c-368a5a4ad4c0",
   "metadata": {},
   "source": [
    "# 4th access pattern: Read a timeline"
   ]
  },
  {
   "cell_type": "code",
   "execution_count": 30,
   "id": "8fd1c984-ace7-4c57-9868-df1ac70e035c",
   "metadata": {},
   "outputs": [],
   "source": [
    "def read_timeline(primaryKey):\n",
    "    timeline_query = client.query(\n",
    "        TableName=\"twitter\",\n",
    "        KeyConditionExpression='PK = :pk AND begins_with(SK, :timeline)',\n",
    "        ExpressionAttributeValues={\n",
    "            ':pk': {'S': primaryKey},\n",
    "            ':timeline': {'S': 'TIMELINE#'}\n",
    "        },\n",
    "    )\n",
    "    timeline_items = timeline_query.get('Items', [])\n",
    "    \n",
    "    formatted_timeline = [\n",
    "        {\n",
    "            'id': item.get('tweetId', item.get('id', 'N/A')),\n",
    "            'text': item.get('text', 'N/A'),\n",
    "            'likes': item.get('likes', 'N/A'),\n",
    "            'CreatedAt': item.get('CreatedAt', 'N/A')\n",
    "        }\n",
    "        for item in timeline_items\n",
    "    ]\n",
    "\n",
    "\n",
    "    return formatted_timeline"
   ]
  },
  {
   "cell_type": "code",
   "execution_count": 31,
   "id": "a63ca100-9506-48d9-82c2-2dd53a30ee85",
   "metadata": {},
   "outputs": [
    {
     "name": "stdout",
     "output_type": "stream",
     "text": [
      "[{'id': {'S': '36cd887d-e151-48be-a36c-2c239997d726'}, 'text': {'S': 'DynamoDB ist super'}, 'likes': {'N': '0'}, 'CreatedAt': {'N': '1705014707'}}, {'id': {'S': '5a03ab7c-daf3-4626-8fd9-00671049ca89'}, 'text': {'S': 'Moin, moin.'}, 'likes': {'N': '0'}, 'CreatedAt': {'N': '1705014707'}}, {'id': {'S': '172be746-9d26-4818-a887-35080ac97f83'}, 'text': {'S': 'Hallo zurück.'}, 'likes': {'N': '0'}, 'CreatedAt': {'N': '1705014707'}}]\n"
     ]
    }
   ],
   "source": [
    "user_christian_timeline = read_timeline(user_christian['PK']['S'])\n",
    "print(user_christian_timeline)"
   ]
  },
  {
   "cell_type": "code",
   "execution_count": 32,
   "id": "d5a1a883-ddf7-4560-917a-416e8725d730",
   "metadata": {},
   "outputs": [],
   "source": [
    "class TestReadTimeline(unittest.TestCase):\n",
    "    def test_read_timeline(self):\n",
    "        # Assuming user_christian has a populated timeline\n",
    "        expected_texts = [\"Moin, moin.\", \"Hallo zurück.\", \"DynamoDB ist super\"]\n",
    "\n",
    "        # Fetch the timeline of user_christian\n",
    "        christian_timeline = read_timeline(user_christian['PK']['S'])\n",
    "\n",
    "        # Extract text items from the timeline\n",
    "        actual_texts = [item['text']['S'] for item in christian_timeline]\n",
    "\n",
    "        # Check if the actual text items match the expected texts (order doesn't matter)\n",
    "        self.assertCountEqual(actual_texts, expected_texts, \"Timeline text items do not match the expected texts.\")"
   ]
  },
  {
   "cell_type": "code",
   "execution_count": 33,
   "id": "e6a82a4d-dcd7-43f9-861f-c07b2060c714",
   "metadata": {},
   "outputs": [
    {
     "name": "stderr",
     "output_type": "stream",
     "text": [
      "test_read_timeline (__main__.TestReadTimeline.test_read_timeline) ... ok\n",
      "\n",
      "----------------------------------------------------------------------\n",
      "Ran 1 test in 0.010s\n",
      "\n",
      "OK\n"
     ]
    }
   ],
   "source": [
    "if __name__ == '__main__':\n",
    "    suite = unittest.TestLoader().loadTestsFromTestCase(TestReadTimeline)\n",
    "    unittest.TextTestRunner(verbosity=2).run(suite)"
   ]
  },
  {
   "cell_type": "markdown",
   "id": "62816627-12a5-46dc-8b23-c31c5a7773bd",
   "metadata": {
    "tags": []
   },
   "source": [
    "## Channel\n",
    "\n",
    "We create our channel and functions to save, find and count users and messages in the channel:"
   ]
  },
  {
   "cell_type": "code",
   "execution_count": 34,
   "id": "800bfe94-fc94-4c8d-8abb-bfec4d26d877",
   "metadata": {
    "tags": []
   },
   "outputs": [
    {
     "ename": "ResourceNotFoundException",
     "evalue": "An error occurred (ResourceNotFoundException) when calling the PutItem operation: Cannot do operations on a non-existent table",
     "output_type": "error",
     "traceback": [
      "\u001b[0;31m---------------------------------------------------------------------------\u001b[0m",
      "\u001b[0;31mResourceNotFoundException\u001b[0m                 Traceback (most recent call last)",
      "Cell \u001b[0;32mIn[34], line 35\u001b[0m\n\u001b[1;32m     32\u001b[0m \u001b[38;5;28;01mdef\u001b[39;00m \u001b[38;5;21muser_count_for_channel\u001b[39m(channel):\n\u001b[1;32m     33\u001b[0m     \u001b[38;5;28;01mreturn\u001b[39;00m \u001b[38;5;28mint\u001b[39m(channel[\u001b[38;5;124m'\u001b[39m\u001b[38;5;124mUserCount\u001b[39m\u001b[38;5;124m'\u001b[39m][\u001b[38;5;124m'\u001b[39m\u001b[38;5;124mN\u001b[39m\u001b[38;5;124m'\u001b[39m])\n\u001b[0;32m---> 35\u001b[0m \u001b[43msave_channel\u001b[49m\u001b[43m(\u001b[49m\u001b[43mchannel_town_hall\u001b[49m\u001b[43m)\u001b[49m\n\u001b[1;32m     36\u001b[0m channel_town_hall \u001b[38;5;241m=\u001b[39m find_channel(channel_town_hall[\u001b[38;5;124m'\u001b[39m\u001b[38;5;124mPK\u001b[39m\u001b[38;5;124m'\u001b[39m][\u001b[38;5;124m'\u001b[39m\u001b[38;5;124mS\u001b[39m\u001b[38;5;124m'\u001b[39m])\n\u001b[1;32m     37\u001b[0m channel_town_hall\n",
      "Cell \u001b[0;32mIn[34], line 11\u001b[0m, in \u001b[0;36msave_channel\u001b[0;34m(channel)\u001b[0m\n\u001b[1;32m     10\u001b[0m \u001b[38;5;28;01mdef\u001b[39;00m \u001b[38;5;21msave_channel\u001b[39m(channel):\n\u001b[0;32m---> 11\u001b[0m     \u001b[38;5;28;01mreturn\u001b[39;00m \u001b[43mclient\u001b[49m\u001b[38;5;241;43m.\u001b[39;49m\u001b[43mput_item\u001b[49m\u001b[43m(\u001b[49m\n\u001b[1;32m     12\u001b[0m \u001b[43m        \u001b[49m\u001b[43mTableName\u001b[49m\u001b[38;5;241;43m=\u001b[39;49m\u001b[38;5;124;43m\"\u001b[39;49m\u001b[38;5;124;43mchat\u001b[39;49m\u001b[38;5;124;43m\"\u001b[39;49m\u001b[43m,\u001b[49m\n\u001b[1;32m     13\u001b[0m \u001b[43m        \u001b[49m\u001b[43mItem\u001b[49m\u001b[38;5;241;43m=\u001b[39;49m\u001b[43mchannel\u001b[49m\n\u001b[1;32m     14\u001b[0m \u001b[43m    \u001b[49m\u001b[43m)\u001b[49m\n",
      "File \u001b[0;32m/usr/local/lib/python3.12/site-packages/botocore/client.py:553\u001b[0m, in \u001b[0;36mClientCreator._create_api_method.<locals>._api_call\u001b[0;34m(self, *args, **kwargs)\u001b[0m\n\u001b[1;32m    549\u001b[0m     \u001b[38;5;28;01mraise\u001b[39;00m \u001b[38;5;167;01mTypeError\u001b[39;00m(\n\u001b[1;32m    550\u001b[0m         \u001b[38;5;124mf\u001b[39m\u001b[38;5;124m\"\u001b[39m\u001b[38;5;132;01m{\u001b[39;00mpy_operation_name\u001b[38;5;132;01m}\u001b[39;00m\u001b[38;5;124m() only accepts keyword arguments.\u001b[39m\u001b[38;5;124m\"\u001b[39m\n\u001b[1;32m    551\u001b[0m     )\n\u001b[1;32m    552\u001b[0m \u001b[38;5;66;03m# The \"self\" in this scope is referring to the BaseClient.\u001b[39;00m\n\u001b[0;32m--> 553\u001b[0m \u001b[38;5;28;01mreturn\u001b[39;00m \u001b[38;5;28;43mself\u001b[39;49m\u001b[38;5;241;43m.\u001b[39;49m\u001b[43m_make_api_call\u001b[49m\u001b[43m(\u001b[49m\u001b[43moperation_name\u001b[49m\u001b[43m,\u001b[49m\u001b[43m \u001b[49m\u001b[43mkwargs\u001b[49m\u001b[43m)\u001b[49m\n",
      "File \u001b[0;32m/usr/local/lib/python3.12/site-packages/botocore/client.py:1009\u001b[0m, in \u001b[0;36mBaseClient._make_api_call\u001b[0;34m(self, operation_name, api_params)\u001b[0m\n\u001b[1;32m   1005\u001b[0m     error_code \u001b[38;5;241m=\u001b[39m error_info\u001b[38;5;241m.\u001b[39mget(\u001b[38;5;124m\"\u001b[39m\u001b[38;5;124mQueryErrorCode\u001b[39m\u001b[38;5;124m\"\u001b[39m) \u001b[38;5;129;01mor\u001b[39;00m error_info\u001b[38;5;241m.\u001b[39mget(\n\u001b[1;32m   1006\u001b[0m         \u001b[38;5;124m\"\u001b[39m\u001b[38;5;124mCode\u001b[39m\u001b[38;5;124m\"\u001b[39m\n\u001b[1;32m   1007\u001b[0m     )\n\u001b[1;32m   1008\u001b[0m     error_class \u001b[38;5;241m=\u001b[39m \u001b[38;5;28mself\u001b[39m\u001b[38;5;241m.\u001b[39mexceptions\u001b[38;5;241m.\u001b[39mfrom_code(error_code)\n\u001b[0;32m-> 1009\u001b[0m     \u001b[38;5;28;01mraise\u001b[39;00m error_class(parsed_response, operation_name)\n\u001b[1;32m   1010\u001b[0m \u001b[38;5;28;01melse\u001b[39;00m:\n\u001b[1;32m   1011\u001b[0m     \u001b[38;5;28;01mreturn\u001b[39;00m parsed_response\n",
      "\u001b[0;31mResourceNotFoundException\u001b[0m: An error occurred (ResourceNotFoundException) when calling the PutItem operation: Cannot do operations on a non-existent table"
     ]
    }
   ],
   "source": [
    "channel_town_hall = {\n",
    "    'PK': { 'S': \"CHAN#7\" },\n",
    "    'SK': { 'S': \"CHAN#7\" },\n",
    "    'Name': { 'S': 'Town Hall' },\n",
    "    'Desc': { 'S': 'General News' },\n",
    "    'UserCount': { 'N': \"0\" },\n",
    "    'MessageCount': { 'N': \"0\" }\n",
    "}\n",
    "\n",
    "def save_channel(channel):\n",
    "    return client.put_item(\n",
    "        TableName=\"chat\",\n",
    "        Item=channel\n",
    "    )\n",
    "\n",
    "# AP2\n",
    "def find_channel(key):\n",
    "    item = client.get_item(\n",
    "        TableName=\"chat\",\n",
    "        Key={\n",
    "          'PK': { 'S': key },\n",
    "          'SK': { 'S': key }\n",
    "        }\n",
    "    )\n",
    "    return item['Item'] if 'Item' in item else False\n",
    "\n",
    "# AP4\n",
    "def message_count_for_channel(channel):\n",
    "    return int(channel['MessageCount']['N'])\n",
    "\n",
    "# AP7\n",
    "def user_count_for_channel(channel):\n",
    "    return int(channel['UserCount']['N'])\n",
    "\n",
    "save_channel(channel_town_hall)\n",
    "channel_town_hall = find_channel(channel_town_hall['PK']['S'])\n",
    "channel_town_hall"
   ]
  },
  {
   "cell_type": "code",
   "execution_count": null,
   "id": "f2c84b21-a827-4048-b33a-c998dff14ae6",
   "metadata": {
    "tags": []
   },
   "outputs": [],
   "source": [
    "message_count_for_channel(channel_town_hall)"
   ]
  },
  {
   "cell_type": "code",
   "execution_count": null,
   "id": "07b3c908-972c-4006-9f0e-95e4b313935a",
   "metadata": {
    "tags": []
   },
   "outputs": [],
   "source": [
    "user_count_for_channel(channel_town_hall)"
   ]
  },
  {
   "cell_type": "markdown",
   "id": "399e8b0e-7e06-44a8-86f6-b8ad5ad988ca",
   "metadata": {
    "tags": []
   },
   "source": [
    "## User Join\n",
    "\n",
    "When a user joins a channel, we create a new item and increment the user counter. Further, we setup queries to retreive the users for a channel and channels of a user:"
   ]
  },
  {
   "cell_type": "code",
   "execution_count": null,
   "id": "8df597e4-c669-4034-9fbf-fd302148e0a8",
   "metadata": {
    "tags": []
   },
   "outputs": [],
   "source": [
    "def join_channel(user, channel):\n",
    "    # create userj record\n",
    "    client.put_item(\n",
    "        TableName=\"chat\",\n",
    "        Item={\n",
    "            'PK': channel['PK'],\n",
    "            'SK': { 'S': \"USERJ#\" + parse_id_from_key(user['PK']['S']) },\n",
    "            'Name': user['Name'],\n",
    "            'JoinedAt': { 'S': str(date.today()) },\n",
    "            'GSI1PK': user['PK'],\n",
    "            'GSI1SK': channel['PK'],\n",
    "            'ChanName': channel['Name']\n",
    "        }\n",
    "        )\n",
    "    \n",
    "    # increment users\n",
    "    client.update_item(\n",
    "        TableName=\"chat\",\n",
    "        Key = {\n",
    "            'PK': channel['PK'],\n",
    "            'SK': channel['PK'],\n",
    "        },\n",
    "        ExpressionAttributeValues = {\n",
    "            ':one': { 'N': '1' }\n",
    "        },\n",
    "        UpdateExpression = 'ADD UserCount :one', \n",
    "        ReturnValues = 'UPDATED_NEW'\n",
    "      )\n",
    "\n",
    "# AP5\n",
    "def users_in_channel(key):\n",
    "    item = client.query(\n",
    "        TableName=\"chat\",\n",
    "        KeyConditionExpression='PK = :pk AND begins_with(SK, :userj)',\n",
    "        ExpressionAttributeValues={\n",
    "            ':pk': key,\n",
    "            ':userj': { 'S': 'USERJ#' }\n",
    "        }\n",
    "    )\n",
    "    return item['Items'] if 'Items' in item else []\n",
    "\n",
    "# AP1\n",
    "def channels_for_user(key):\n",
    "    item = client.query(\n",
    "        TableName=\"chat\",\n",
    "        IndexName=\"GSI1\",\n",
    "        KeyConditionExpression='GSI1PK = :pk AND begins_with(GSI1SK, :chan)',\n",
    "        ExpressionAttributeValues={\n",
    "            ':pk': key,\n",
    "            ':chan': { 'S': 'CHAN#' }\n",
    "        }\n",
    "    )\n",
    "    return item['Items'] if 'Items' in item else []\n",
    "\n",
    "join_channel(user_alice, channel_town_hall)\n",
    "join_channel(user_bob, channel_town_hall)\n",
    "users_in_channel(channel_town_hall['PK'])"
   ]
  },
  {
   "cell_type": "code",
   "execution_count": null,
   "id": "108fc978-b833-4a32-a66a-2bf4a6994910",
   "metadata": {
    "tags": []
   },
   "outputs": [],
   "source": [
    "channels_for_user(user_alice['PK'])"
   ]
  },
  {
   "cell_type": "code",
   "execution_count": null,
   "id": "8869c69b-c1e1-4308-b5ca-bb3377904c23",
   "metadata": {
    "tags": []
   },
   "outputs": [],
   "source": [
    "find_channel(channel_town_hall['PK']['S'])"
   ]
  },
  {
   "cell_type": "markdown",
   "id": "aefecbbf-6a5b-4c8a-b3f1-2272ea0d692c",
   "metadata": {
    "tags": []
   },
   "source": [
    "## Messages\n",
    "\n",
    "When we send a message, we create a new item and increment the messages counter:"
   ]
  },
  {
   "cell_type": "code",
   "execution_count": null,
   "id": "060a7e09-57f3-4f85-8d19-9f4b98c18df9",
   "metadata": {
    "tags": []
   },
   "outputs": [],
   "source": [
    "def send_message(user, channel, text):\n",
    "    timestamp = int(time.time())\n",
    "    message_id = uuid.uuid4()\n",
    "    \n",
    "    # create message\n",
    "    client.put_item(\n",
    "        TableName=\"chat\",\n",
    "        Item={\n",
    "            'PK': channel['PK'],\n",
    "            'SK': { 'S': f\"MSG#{timestamp}#{message_id}\" },\n",
    "            'Msg': { 'S': text },\n",
    "            'CreatedAt': { 'N': str(timestamp) },\n",
    "            'UserName': user['Name'],\n",
    "            'UserId': user['PK']\n",
    "        }\n",
    "        )\n",
    "    \n",
    "    # increment users\n",
    "    client.update_item(\n",
    "        TableName=\"chat\",\n",
    "        Key = {\n",
    "            'PK': channel['PK'],\n",
    "            'SK': channel['PK'],\n",
    "        },\n",
    "        ExpressionAttributeValues = {\n",
    "            ':one': { 'N': '1' }\n",
    "        },\n",
    "        UpdateExpression = 'ADD MessageCount :one', \n",
    "        ReturnValues = 'UPDATED_NEW'\n",
    "      )\n",
    "\n",
    "# AP3\n",
    "def messages_in_channel(key, limit = 50):\n",
    "    item = client.query(\n",
    "        TableName=\"chat\",\n",
    "        KeyConditionExpression='PK = :pk AND begins_with(SK, :msg)',\n",
    "        ExpressionAttributeValues={\n",
    "            ':pk': key,\n",
    "            ':msg': { 'S': 'MSG#' }\n",
    "        },\n",
    "        Limit = limit\n",
    "    )\n",
    "    return item['Items'] if 'Items' in item else []\n",
    "    \n",
    "\n",
    "send_message(user_bob, channel_town_hall, \"Hey there!\")\n",
    "send_message(user_alice, channel_town_hall, \"Hello Bob!\")\n",
    "send_message(user_bob, channel_town_hall, \"How are you?\")\n",
    "messages_in_channel(channel_town_hall['PK'])"
   ]
  },
  {
   "cell_type": "code",
   "execution_count": null,
   "id": "70bc0b8b-3ff4-4bdd-9838-3fa56174af63",
   "metadata": {
    "tags": []
   },
   "outputs": [],
   "source": [
    "find_channel(channel_town_hall['PK']['S'])"
   ]
  }
 ],
 "metadata": {
  "kernelspec": {
   "display_name": "Python 3 (ipykernel)",
   "language": "python",
   "name": "python3"
  },
  "language_info": {
   "codemirror_mode": {
    "name": "ipython",
    "version": 3
   },
   "file_extension": ".py",
   "mimetype": "text/x-python",
   "name": "python",
   "nbconvert_exporter": "python",
   "pygments_lexer": "ipython3",
   "version": "3.12.1"
  },
  "vscode": {
   "interpreter": {
    "hash": "5c7b89af1651d0b8571dde13640ecdccf7d5a6204171d6ab33e7c296e100e08a"
   }
  }
 },
 "nbformat": 4,
 "nbformat_minor": 5
}
