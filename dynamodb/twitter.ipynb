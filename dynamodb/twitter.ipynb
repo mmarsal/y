{
 "cells": [
  {
   "cell_type": "code",
   "execution_count": 1,
   "id": "4f28fbb3-955e-4f9b-9d71-742a75ac8b88",
   "metadata": {
    "tags": []
   },
   "outputs": [],
   "source": [
    "import boto3\n",
    "from datetime import date\n",
    "import time\n",
    "import uuid\n",
    "from credentials import *\n",
    "import unittest"
   ]
  },
  {
   "cell_type": "markdown",
   "id": "6cc840ff-4d8e-4edf-9bab-5afb9e6fa180",
   "metadata": {
    "tags": []
   },
   "source": [
    "## Connect to DynamoDB\n",
    "\n",
    "Initially, we connect to our local database we started as \"dynamodb\" container:"
   ]
  },
  {
   "cell_type": "code",
   "execution_count": 2,
   "id": "71be6fc4-cdf1-4331-ba5c-3f82d84f40d4",
   "metadata": {
    "tags": []
   },
   "outputs": [
    {
     "data": {
      "text/plain": [
       "{'TableNames': ['twitter'],\n",
       " 'ResponseMetadata': {'RequestId': '2e6236b8-7eca-4059-8c1b-50f7903bc034',\n",
       "  'HTTPStatusCode': 200,\n",
       "  'HTTPHeaders': {'date': 'Fri, 12 Jan 2024 14:34:44 GMT',\n",
       "   'x-amzn-requestid': '2e6236b8-7eca-4059-8c1b-50f7903bc034',\n",
       "   'content-type': 'application/x-amz-json-1.0',\n",
       "   'x-amz-crc32': '2569046870',\n",
       "   'content-length': '26',\n",
       "   'server': 'Jetty(11.0.17)'},\n",
       "  'RetryAttempts': 0}}"
      ]
     },
     "execution_count": 2,
     "metadata": {},
     "output_type": "execute_result"
    }
   ],
   "source": [
    "client = boto3.client('dynamodb', \n",
    "  endpoint_url='http://dynamo:8000', \n",
    "  region_name='eu-central-1',\n",
    "  aws_access_key_id=aws_access_key_id,\n",
    "  aws_secret_access_key=aws_secret_access_key\n",
    ")\n",
    "client.list_tables()"
   ]
  },
  {
   "cell_type": "markdown",
   "id": "d01d0700-079d-4d53-81cf-eb269774f617",
   "metadata": {
    "tags": []
   },
   "source": [
    "## Create Table\n",
    "\n",
    "Let's setup the table with our attributes and indexes:"
   ]
  },
  {
   "cell_type": "code",
   "execution_count": 3,
   "id": "c7028bbb-db6b-4646-a73f-7a8b1604edbe",
   "metadata": {
    "tags": []
   },
   "outputs": [],
   "source": [
    "def create_app_table():\n",
    "    return client.create_table(\n",
    "        TableName=\"twitter\",\n",
    "        KeySchema=[\n",
    "            {\"AttributeName\": \"PK\", \"KeyType\": \"HASH\"},\n",
    "            {\"AttributeName\": \"SK\", \"KeyType\": \"RANGE\"},\n",
    "        ],\n",
    "        AttributeDefinitions=[\n",
    "            {\"AttributeName\": \"PK\", \"AttributeType\": \"S\"},\n",
    "            {\"AttributeName\": \"SK\", \"AttributeType\": \"S\"},\n",
    "        ],\n",
    "        ProvisionedThroughput={\"ReadCapacityUnits\": 10, \"WriteCapacityUnits\": 10},\n",
    "    )"
   ]
  },
  {
   "cell_type": "code",
   "execution_count": 4,
   "id": "2287cd97-789d-4081-8908-886523e157d8",
   "metadata": {
    "tags": []
   },
   "outputs": [],
   "source": [
    "def delete_app_table():\n",
    "    try:\n",
    "        return client.delete_table(TableName=\"twitter\")\n",
    "    except:\n",
    "        return False"
   ]
  },
  {
   "cell_type": "code",
   "execution_count": 5,
   "id": "c3ec9013-9996-438e-85f1-a312bb12a547",
   "metadata": {},
   "outputs": [
    {
     "data": {
      "text/plain": [
       "{'TableDescription': {'AttributeDefinitions': [{'AttributeName': 'PK',\n",
       "    'AttributeType': 'S'},\n",
       "   {'AttributeName': 'SK', 'AttributeType': 'S'}],\n",
       "  'TableName': 'twitter',\n",
       "  'KeySchema': [{'AttributeName': 'PK', 'KeyType': 'HASH'},\n",
       "   {'AttributeName': 'SK', 'KeyType': 'RANGE'}],\n",
       "  'TableStatus': 'ACTIVE',\n",
       "  'CreationDateTime': datetime.datetime(2024, 1, 12, 14, 34, 44, 740000, tzinfo=tzlocal()),\n",
       "  'ProvisionedThroughput': {'LastIncreaseDateTime': datetime.datetime(1970, 1, 1, 0, 0, tzinfo=tzlocal()),\n",
       "   'LastDecreaseDateTime': datetime.datetime(1970, 1, 1, 0, 0, tzinfo=tzlocal()),\n",
       "   'NumberOfDecreasesToday': 0,\n",
       "   'ReadCapacityUnits': 10,\n",
       "   'WriteCapacityUnits': 10},\n",
       "  'TableSizeBytes': 0,\n",
       "  'ItemCount': 0,\n",
       "  'TableArn': 'arn:aws:dynamodb:ddblocal:000000000000:table/twitter',\n",
       "  'DeletionProtectionEnabled': False},\n",
       " 'ResponseMetadata': {'RequestId': '195d56ce-2373-4cb2-96e7-ed126bd37e5d',\n",
       "  'HTTPStatusCode': 200,\n",
       "  'HTTPHeaders': {'date': 'Fri, 12 Jan 2024 14:34:44 GMT',\n",
       "   'x-amzn-requestid': '195d56ce-2373-4cb2-96e7-ed126bd37e5d',\n",
       "   'content-type': 'application/x-amz-json-1.0',\n",
       "   'x-amz-crc32': '48635816',\n",
       "   'content-length': '598',\n",
       "   'server': 'Jetty(11.0.17)'},\n",
       "  'RetryAttempts': 0}}"
      ]
     },
     "execution_count": 5,
     "metadata": {},
     "output_type": "execute_result"
    }
   ],
   "source": [
    "delete_app_table()\n",
    "create_app_table()"
   ]
  },
  {
   "cell_type": "markdown",
   "id": "355f5266-e3c9-4df7-a4c7-74cc14f703b4",
   "metadata": {
    "tags": []
   },
   "source": [
    "## Helpers\n",
    "\n",
    "To setup some other keys later on, we create a function to extract the id from a key:"
   ]
  },
  {
   "cell_type": "code",
   "execution_count": 6,
   "id": "aa035c95-3e84-41ab-a2d5-9f770600fbc8",
   "metadata": {
    "tags": []
   },
   "outputs": [
    {
     "data": {
      "text/plain": [
       "'7'"
      ]
     },
     "execution_count": 6,
     "metadata": {},
     "output_type": "execute_result"
    }
   ],
   "source": [
    "def parse_id_from_key(key):\n",
    "    return key.split(\"#\")[-1]\n",
    "\n",
    "parse_id_from_key(\"CHAN#7\")"
   ]
  },
  {
   "cell_type": "markdown",
   "id": "03862e5d-d396-4acf-8d78-e34d8fc757a6",
   "metadata": {
    "tags": []
   },
   "source": [
    "## Users\n",
    "\n",
    "We create and save our users:"
   ]
  },
  {
   "cell_type": "code",
   "execution_count": 7,
   "id": "d2a9e1ed-67e2-4561-88ae-2c26596ab90a",
   "metadata": {
    "tags": []
   },
   "outputs": [],
   "source": [
    "uuid_entry1 = str(uuid.uuid4())\n",
    "user_martin = {\n",
    "    'PK': {'S': f\"USER#{uuid_entry1}\"},\n",
    "    'SK': {'S': f\"USER#{uuid_entry1}\"},\n",
    "    'Name': {'S': 'Martin Marsal'},\n",
    "}\n",
    "\n",
    "uuid_entry2 = str(uuid.uuid4())\n",
    "user_christian = {\n",
    "    'PK': {'S': f\"USER#{uuid_entry2}\"},\n",
    "    'SK': {'S': f\"USER#{uuid_entry2}\"},\n",
    "    'Name': {'S': 'Christian Diegmann'},\n",
    "}\n",
    "\n",
    "uuid_entry3 = str(uuid.uuid4())\n",
    "user_robin = {\n",
    "    'PK': {'S': f\"USER#{uuid_entry3}\"},\n",
    "    'SK': {'S': f\"USER#{uuid_entry3}\"},\n",
    "    'Name': {'S': 'Robin Schüle'},\n",
    "}\n",
    "\n",
    "def save_user(user):\n",
    "    return client.put_item(\n",
    "        TableName=\"twitter\",\n",
    "        Item=user\n",
    "    )\n",
    "\n",
    "# AP6\n",
    "def find_user(primaryKey, sortKey):\n",
    "    item = client.get_item(\n",
    "        TableName=\"twitter\",\n",
    "        Key={\n",
    "          'PK': { 'S': primaryKey },\n",
    "          'SK': { 'S': sortKey }\n",
    "        }\n",
    "    )\n",
    "    return item['Item'] if 'Item' in item else False"
   ]
  },
  {
   "cell_type": "code",
   "execution_count": 8,
   "id": "a71f03b7-b7ba-4de6-ab0b-5c1f66508bc3",
   "metadata": {},
   "outputs": [
    {
     "data": {
      "text/plain": [
       "{'SK': {'S': 'USER#8d633777-5926-4ef4-9210-ece14c3c4b37'},\n",
       " 'PK': {'S': 'USER#8d633777-5926-4ef4-9210-ece14c3c4b37'},\n",
       " 'Name': {'S': 'Martin Marsal'}}"
      ]
     },
     "execution_count": 8,
     "metadata": {},
     "output_type": "execute_result"
    }
   ],
   "source": [
    "save_user(user_martin)\n",
    "find_user(user_martin['PK']['S'], user_martin['SK']['S'])"
   ]
  },
  {
   "cell_type": "code",
   "execution_count": 9,
   "id": "b5318ea1-235d-44a8-a49f-73a7bf7e001a",
   "metadata": {},
   "outputs": [
    {
     "data": {
      "text/plain": [
       "{'SK': {'S': 'USER#8f024649-4fcf-4171-8511-4c86930620ff'},\n",
       " 'PK': {'S': 'USER#8f024649-4fcf-4171-8511-4c86930620ff'},\n",
       " 'Name': {'S': 'Christian Diegmann'}}"
      ]
     },
     "execution_count": 9,
     "metadata": {},
     "output_type": "execute_result"
    }
   ],
   "source": [
    "save_user(user_christian)\n",
    "find_user(user_christian['PK']['S'], user_christian['SK']['S'])"
   ]
  },
  {
   "cell_type": "code",
   "execution_count": 10,
   "id": "7e50ef01-455e-437b-a83a-481858587e2d",
   "metadata": {},
   "outputs": [
    {
     "data": {
      "text/plain": [
       "{'SK': {'S': 'USER#0f13e74d-bbf6-4188-be44-652a779cd63f'},\n",
       " 'PK': {'S': 'USER#0f13e74d-bbf6-4188-be44-652a779cd63f'},\n",
       " 'Name': {'S': 'Robin Schüle'}}"
      ]
     },
     "execution_count": 10,
     "metadata": {},
     "output_type": "execute_result"
    }
   ],
   "source": [
    "save_user(user_robin)\n",
    "find_user(user_robin['PK']['S'], user_robin['SK']['S'])"
   ]
  },
  {
   "cell_type": "code",
   "execution_count": 11,
   "id": "37006c58-df4e-4de5-9927-dddb8069fba8",
   "metadata": {},
   "outputs": [],
   "source": [
    "def add_to_followers(primaryKey, follower):\n",
    "    response = client.put_item(\n",
    "        TableName=\"twitter\",\n",
    "        Item={\n",
    "            'PK': {'S': primaryKey},\n",
    "            'SK': {'S': f\"FOLLOWER#{parse_id_from_key(follower['PK']['S'])}\"},\n",
    "            'Name': {'S': follower['Name']['S']},\n",
    "        },\n",
    "        )\n",
    "    if response['ResponseMetadata']['HTTPStatusCode'] == 200:\n",
    "        return client.get_item(\n",
    "            TableName='twitter',\n",
    "            Key={\n",
    "                'PK': {'S': primaryKey},\n",
    "                'SK': {'S': f\"FOLLOWER#{parse_id_from_key(follower['PK']['S'])}\"},\n",
    "            }\n",
    "        )"
   ]
  },
  {
   "cell_type": "code",
   "execution_count": 12,
   "id": "f625e08c-1242-470b-a398-76595ea8e1c4",
   "metadata": {},
   "outputs": [
    {
     "data": {
      "text/plain": [
       "{'Item': {'SK': {'S': 'FOLLOWER#8f024649-4fcf-4171-8511-4c86930620ff'},\n",
       "  'PK': {'S': 'USER#8d633777-5926-4ef4-9210-ece14c3c4b37'},\n",
       "  'Name': {'S': 'Christian Diegmann'}},\n",
       " 'ResponseMetadata': {'RequestId': '949a088a-b0c4-4d05-ba91-cc858ad69756',\n",
       "  'HTTPStatusCode': 200,\n",
       "  'HTTPHeaders': {'date': 'Fri, 12 Jan 2024 14:34:46 GMT',\n",
       "   'x-amzn-requestid': '949a088a-b0c4-4d05-ba91-cc858ad69756',\n",
       "   'content-type': 'application/x-amz-json-1.0',\n",
       "   'x-amz-crc32': '1469318709',\n",
       "   'content-length': '158',\n",
       "   'server': 'Jetty(11.0.17)'},\n",
       "  'RetryAttempts': 0}}"
      ]
     },
     "execution_count": 12,
     "metadata": {},
     "output_type": "execute_result"
    }
   ],
   "source": [
    "add_to_followers(user_martin['PK']['S'], user_christian)"
   ]
  },
  {
   "cell_type": "code",
   "execution_count": 13,
   "id": "0b6c6b04-a797-44fa-836a-f87be30e4602",
   "metadata": {},
   "outputs": [
    {
     "data": {
      "text/plain": [
       "{'Item': {'SK': {'S': 'FOLLOWER#0f13e74d-bbf6-4188-be44-652a779cd63f'},\n",
       "  'PK': {'S': 'USER#8f024649-4fcf-4171-8511-4c86930620ff'},\n",
       "  'Name': {'S': 'Robin Schüle'}},\n",
       " 'ResponseMetadata': {'RequestId': '861e91f0-9870-4c78-aadd-9f1f93d4b7c0',\n",
       "  'HTTPStatusCode': 200,\n",
       "  'HTTPHeaders': {'date': 'Fri, 12 Jan 2024 14:34:46 GMT',\n",
       "   'x-amzn-requestid': '861e91f0-9870-4c78-aadd-9f1f93d4b7c0',\n",
       "   'content-type': 'application/x-amz-json-1.0',\n",
       "   'x-amz-crc32': '1569167597',\n",
       "   'content-length': '153',\n",
       "   'server': 'Jetty(11.0.17)'},\n",
       "  'RetryAttempts': 0}}"
      ]
     },
     "execution_count": 13,
     "metadata": {},
     "output_type": "execute_result"
    }
   ],
   "source": [
    "add_to_followers(user_christian['PK']['S'], user_robin)"
   ]
  },
  {
   "cell_type": "code",
   "execution_count": 14,
   "id": "d098a9b8-4f11-404d-9158-7e82442dbeee",
   "metadata": {},
   "outputs": [
    {
     "data": {
      "text/plain": [
       "{'Item': {'SK': {'S': 'FOLLOWER#8d633777-5926-4ef4-9210-ece14c3c4b37'},\n",
       "  'PK': {'S': 'USER#0f13e74d-bbf6-4188-be44-652a779cd63f'},\n",
       "  'Name': {'S': 'Martin Marsal'}},\n",
       " 'ResponseMetadata': {'RequestId': 'f6acf799-499e-46db-ab8b-7e8457bbc071',\n",
       "  'HTTPStatusCode': 200,\n",
       "  'HTTPHeaders': {'date': 'Fri, 12 Jan 2024 14:34:46 GMT',\n",
       "   'x-amzn-requestid': 'f6acf799-499e-46db-ab8b-7e8457bbc071',\n",
       "   'content-type': 'application/x-amz-json-1.0',\n",
       "   'x-amz-crc32': '3398539310',\n",
       "   'content-length': '153',\n",
       "   'server': 'Jetty(11.0.17)'},\n",
       "  'RetryAttempts': 0}}"
      ]
     },
     "execution_count": 14,
     "metadata": {},
     "output_type": "execute_result"
    }
   ],
   "source": [
    "add_to_followers(user_robin['PK']['S'], user_martin)"
   ]
  },
  {
   "cell_type": "markdown",
   "id": "45119e16-f446-428b-a70e-75760fa6526c",
   "metadata": {},
   "source": [
    "## 1st access pattern: Post a tweet"
   ]
  },
  {
   "cell_type": "code",
   "execution_count": 15,
   "id": "a2936ea4-122f-4e5e-b867-16193a9d6a31",
   "metadata": {},
   "outputs": [],
   "source": [
    "uuid_entry4 = str(uuid.uuid4())\n",
    "timestamp = int(time.time())\n",
    "tweet = {'id': {'S': f\"{uuid_entry4}\"}, 'text': {'S': 'Moin, moin.'}, 'likes': {'N': '0'}, 'CreatedAt': { 'N': str(timestamp)}}\n",
    "uuid_entry5 = str(uuid.uuid4())\n",
    "timestamp = int(time.time())\n",
    "tweet_2 = {'id': {'S': f\"{uuid_entry5}\"}, 'text': {'S': 'MongoDB ist super!'}, 'likes': {'N': '0'}, 'CreatedAt': { 'N': str(timestamp)}}\n",
    "newMartin = find_user(user_martin['PK']['S'], user_martin['SK']['S'])\n",
    "\n",
    "def post_tweet(primaryKey, tweet):\n",
    "    client.put_item(\n",
    "        TableName='twitter',\n",
    "        Item={\n",
    "            'PK': {'S': primaryKey},\n",
    "            'SK': {'S': f\"TWEET#{tweet['id']['S']}\"},\n",
    "            'id': {'S': tweet['id']['S']},\n",
    "            'text': {'S': tweet['text']['S']},\n",
    "            'likes': {'N': tweet['likes']['N']},\n",
    "            'CreatedAt': { 'N': tweet['CreatedAt']['N']}\n",
    "        },\n",
    "    )\n",
    "    item = client.query(\n",
    "        TableName=\"twitter\",\n",
    "        KeyConditionExpression='PK = :pk AND begins_with(SK, :follower)',\n",
    "        ExpressionAttributeValues={\n",
    "            ':pk': { 'S': primaryKey },\n",
    "            ':follower': { 'S': 'FOLLOWER#' }\n",
    "        },\n",
    "    )\n",
    "    followers = item['Items']\n",
    "    for follower in followers:\n",
    "        response2 = client.put_item(\n",
    "            TableName='twitter',\n",
    "            Item={\n",
    "                'PK': {'S': f\"USER#{parse_id_from_key(follower['SK']['S'])}\"},\n",
    "                'SK': {'S': f\"TIMELINE#{tweet['id']['S']}\"},\n",
    "                'tweetId': {'S': tweet['id']['S']},\n",
    "                'text': {'S': tweet['text']['S']},\n",
    "                'likes': {'N': tweet['likes']['N']},\n",
    "                'CreatedAt': { 'N': tweet['CreatedAt']['N']}\n",
    "            },\n",
    "        )\n",
    "    if response2['ResponseMetadata']['HTTPStatusCode'] == 200:\n",
    "        return client.query(\n",
    "            TableName=\"twitter\",\n",
    "            KeyConditionExpression='PK = :pk AND begins_with(SK, :timeline)',\n",
    "            ExpressionAttributeValues={\n",
    "                ':pk': { 'S': f\"USER#{parse_id_from_key(user_christian['PK']['S'])}\" },\n",
    "                ':timeline': { 'S': 'TIMELINE#' }\n",
    "            },\n",
    "        )"
   ]
  },
  {
   "cell_type": "code",
   "execution_count": 16,
   "id": "8388df21-a670-4fbc-bf69-8cee47879bd5",
   "metadata": {},
   "outputs": [
    {
     "data": {
      "text/plain": [
       "{'Items': [{'SK': {'S': 'TIMELINE#9a537d82-f535-4a92-a5c4-6b0bb7754dfc'},\n",
       "   'PK': {'S': 'USER#8f024649-4fcf-4171-8511-4c86930620ff'},\n",
       "   'text': {'S': 'Moin, moin.'},\n",
       "   'tweetId': {'S': '9a537d82-f535-4a92-a5c4-6b0bb7754dfc'},\n",
       "   'likes': {'N': '0'},\n",
       "   'CreatedAt': {'N': '1705070086'}}],\n",
       " 'Count': 1,\n",
       " 'ScannedCount': 1,\n",
       " 'ResponseMetadata': {'RequestId': '531b84ff-af52-40aa-bb08-be2249784377',\n",
       "  'HTTPStatusCode': 200,\n",
       "  'HTTPHeaders': {'date': 'Fri, 12 Jan 2024 14:34:47 GMT',\n",
       "   'x-amzn-requestid': '531b84ff-af52-40aa-bb08-be2249784377',\n",
       "   'content-type': 'application/x-amz-json-1.0',\n",
       "   'x-amz-crc32': '1588103398',\n",
       "   'content-length': '285',\n",
       "   'server': 'Jetty(11.0.17)'},\n",
       "  'RetryAttempts': 0}}"
      ]
     },
     "execution_count": 16,
     "metadata": {},
     "output_type": "execute_result"
    }
   ],
   "source": [
    "post_tweet(user_martin['PK']['S'], tweet)"
   ]
  },
  {
   "cell_type": "code",
   "execution_count": 17,
   "id": "6bd5e383-01f2-4a5f-8416-a1117ed3dc5f",
   "metadata": {},
   "outputs": [
    {
     "data": {
      "text/plain": [
       "{'Items': [{'SK': {'S': 'TIMELINE#9a537d82-f535-4a92-a5c4-6b0bb7754dfc'},\n",
       "   'PK': {'S': 'USER#8f024649-4fcf-4171-8511-4c86930620ff'},\n",
       "   'text': {'S': 'Moin, moin.'},\n",
       "   'tweetId': {'S': '9a537d82-f535-4a92-a5c4-6b0bb7754dfc'},\n",
       "   'likes': {'N': '0'},\n",
       "   'CreatedAt': {'N': '1705070086'}},\n",
       "  {'SK': {'S': 'TIMELINE#b2edf91f-83a5-42f2-9323-75b5b735e1b9'},\n",
       "   'PK': {'S': 'USER#8f024649-4fcf-4171-8511-4c86930620ff'},\n",
       "   'text': {'S': 'MongoDB ist super!'},\n",
       "   'tweetId': {'S': 'b2edf91f-83a5-42f2-9323-75b5b735e1b9'},\n",
       "   'likes': {'N': '0'},\n",
       "   'CreatedAt': {'N': '1705070086'}}],\n",
       " 'Count': 2,\n",
       " 'ScannedCount': 2,\n",
       " 'ResponseMetadata': {'RequestId': 'f00fd85a-3bd1-4437-b86f-0f3be269c28e',\n",
       "  'HTTPStatusCode': 200,\n",
       "  'HTTPHeaders': {'date': 'Fri, 12 Jan 2024 14:34:47 GMT',\n",
       "   'x-amzn-requestid': 'f00fd85a-3bd1-4437-b86f-0f3be269c28e',\n",
       "   'content-type': 'application/x-amz-json-1.0',\n",
       "   'x-amz-crc32': '692872706',\n",
       "   'content-length': '539',\n",
       "   'server': 'Jetty(11.0.17)'},\n",
       "  'RetryAttempts': 0}}"
      ]
     },
     "execution_count": 17,
     "metadata": {},
     "output_type": "execute_result"
    }
   ],
   "source": [
    "post_tweet(user_martin['PK']['S'], tweet_2)"
   ]
  },
  {
   "cell_type": "code",
   "execution_count": 18,
   "id": "8c504d76-0066-4f34-9488-0be34ff95ef4",
   "metadata": {},
   "outputs": [],
   "source": [
    "class TestPostTweet(unittest.TestCase):\n",
    "    def test_post_tweet_enriched_timeline(self):\n",
    "        christian_timeline = client.query(\n",
    "            TableName=\"twitter\",\n",
    "            KeyConditionExpression='PK = :pk AND begins_with(SK, :timeline)',\n",
    "            ExpressionAttributeValues={\n",
    "                ':pk': { 'S': user_christian['PK']['S'] },\n",
    "                ':timeline': { 'S': 'TIMELINE#' }\n",
    "            },\n",
    "        )\n",
    "        timeline_length = len(christian_timeline['Items'])\n",
    "        self.assertEqual(timeline_length, 2)\n",
    "\n",
    "    def test_post_tweet_empty_timeline(self):\n",
    "        robin_timeline = client.query(\n",
    "            TableName=\"twitter\",\n",
    "            KeyConditionExpression='PK = :pk AND begins_with(SK, :timeline)',\n",
    "            ExpressionAttributeValues={\n",
    "                ':pk': { 'S': user_robin['PK']['S'] },\n",
    "                ':timeline': { 'S': 'TIMELINE#' }\n",
    "            },\n",
    "        )\n",
    "        timeline_length = len(robin_timeline['Items'])\n",
    "        self.assertEqual(timeline_length, 0)"
   ]
  },
  {
   "cell_type": "code",
   "execution_count": 19,
   "id": "41b91395-5a5c-4568-adcf-f705ed6a0e99",
   "metadata": {},
   "outputs": [
    {
     "name": "stderr",
     "output_type": "stream",
     "text": [
      "test_post_tweet_empty_timeline (__main__.TestPostTweet.test_post_tweet_empty_timeline) ... ok\n",
      "test_post_tweet_enriched_timeline (__main__.TestPostTweet.test_post_tweet_enriched_timeline) ... ok\n",
      "\n",
      "----------------------------------------------------------------------\n",
      "Ran 2 tests in 0.048s\n",
      "\n",
      "OK\n"
     ]
    }
   ],
   "source": [
    "if __name__ == '__main__':\n",
    "    suite = unittest.TestLoader().loadTestsFromTestCase(TestPostTweet)\n",
    "    unittest.TextTestRunner(verbosity=2).run(suite)"
   ]
  },
  {
   "cell_type": "markdown",
   "id": "cc73fca7-e9e0-48ae-8fff-f25cd617cc87",
   "metadata": {},
   "source": [
    "## 2nd access pattern: Write a reply"
   ]
  },
  {
   "cell_type": "code",
   "execution_count": 20,
   "id": "49b07d45-f839-4d0c-9f26-5f9ab3bae71c",
   "metadata": {},
   "outputs": [],
   "source": [
    "uuid_entry6 = str(uuid.uuid4())\n",
    "reply = {'id': {'S': f\"{uuid_entry6}\"}, 'text': {'S': 'Hallo zurück.'}, 'likes': {'N': '0'}, 'CreatedAt': { 'N': str(timestamp)}, 'tweetId': {'S': f\"{parse_id_from_key(tweet['id']['S'])}\"},}\n",
    "\n",
    "def post_reply(author, user, tweet, reply):\n",
    "    client.put_item(\n",
    "        TableName='twitter',\n",
    "        Item={\n",
    "            'PK': {'S': f\"USER#{parse_id_from_key(author['PK']['S'])}\"},\n",
    "            'SK': {'S': f\"TWEET#{tweet['id']['S']}#{reply['id']['S']}\"},\n",
    "            'id': {'S': reply['id']['S']},\n",
    "            'text': {'S': reply['text']['S']},\n",
    "            'likes': {'N': reply['likes']['N']},\n",
    "            'CreatedAt': { 'N': reply['CreatedAt']['N']}\n",
    "        },\n",
    "    )\n",
    "    item = client.query(\n",
    "        TableName=\"twitter\",\n",
    "        KeyConditionExpression='PK = :pk AND begins_with(SK, :follower)',\n",
    "        ExpressionAttributeValues={\n",
    "            ':pk': { 'S': f\"USER#{parse_id_from_key(author['PK']['S'])}\" },\n",
    "            ':follower': { 'S': 'FOLLOWER#' }\n",
    "        },\n",
    "    )\n",
    "    followers = item['Items']\n",
    "    for follower in followers:\n",
    "        response2 = client.put_item(\n",
    "            TableName='twitter',\n",
    "            Item={\n",
    "                'PK': {'S': f\"USER#{parse_id_from_key(follower['SK']['S'])}\"},\n",
    "                'SK': {'S': f\"TIMELINE#{tweet['id']['S']}#{reply['id']['S']}\"},\n",
    "                'id': {'S': reply['id']['S']},\n",
    "                'text': {'S': reply['text']['S']},\n",
    "                'likes': {'N': reply['likes']['N']},\n",
    "                'CreatedAt': { 'N': reply['CreatedAt']['N']}\n",
    "            },\n",
    "        )\n",
    "    if response2['ResponseMetadata']['HTTPStatusCode'] == 200:\n",
    "        return client.query(\n",
    "            TableName=\"twitter\",\n",
    "            KeyConditionExpression='PK = :pk AND begins_with(SK, :timeline)',\n",
    "            ExpressionAttributeValues={\n",
    "                ':pk': { 'S': f\"USER#{parse_id_from_key(author['PK']['S'])}\" },\n",
    "                ':timeline': { 'S': 'TIMELINE#' }\n",
    "            },\n",
    "        )"
   ]
  },
  {
   "cell_type": "code",
   "execution_count": 21,
   "id": "c8ce54ab-f4b7-4176-8781-5cb893ec07cc",
   "metadata": {},
   "outputs": [
    {
     "data": {
      "text/plain": [
       "{'Items': [],\n",
       " 'Count': 0,\n",
       " 'ScannedCount': 0,\n",
       " 'ResponseMetadata': {'RequestId': '48d41019-7b4a-41ef-af0f-f71e7f106863',\n",
       "  'HTTPStatusCode': 200,\n",
       "  'HTTPHeaders': {'date': 'Fri, 12 Jan 2024 14:34:48 GMT',\n",
       "   'x-amzn-requestid': '48d41019-7b4a-41ef-af0f-f71e7f106863',\n",
       "   'content-type': 'application/x-amz-json-1.0',\n",
       "   'x-amz-crc32': '583912891',\n",
       "   'content-length': '39',\n",
       "   'server': 'Jetty(11.0.17)'},\n",
       "  'RetryAttempts': 0}}"
      ]
     },
     "execution_count": 21,
     "metadata": {},
     "output_type": "execute_result"
    }
   ],
   "source": [
    "post_reply(user_martin, user_christian, tweet, reply)"
   ]
  },
  {
   "cell_type": "code",
   "execution_count": 22,
   "id": "6a945807",
   "metadata": {},
   "outputs": [],
   "source": [
    "class TestPostReply(unittest.TestCase):\n",
    "    def test_post_reply_enriched_replies(self):\n",
    "        test_tweet = client.query(\n",
    "            TableName=\"twitter\",\n",
    "            KeyConditionExpression='PK = :pk AND begins_with(SK, :timeline)',\n",
    "            ExpressionAttributeValues={\n",
    "                ':pk': { 'S': user_christian['PK']['S'] },\n",
    "                ':timeline': { 'S': f\"TIMELINE#{tweet['id']['S']}\" }\n",
    "            },\n",
    "        )\n",
    "        tweet_length = len(test_tweet['Items'])\n",
    "        self.assertEqual(tweet_length, 2)\n",
    "        \n",
    "    def test_post_reply_empty_replies(self):\n",
    "        test_tweet = client.query(\n",
    "            TableName=\"twitter\",\n",
    "            KeyConditionExpression='PK = :pk AND begins_with(SK, :timeline)',\n",
    "            ExpressionAttributeValues={\n",
    "                ':pk': { 'S': user_christian['PK']['S'] },\n",
    "                ':timeline': { 'S': f\"TIMELINE#{tweet_2['id']['S']}\" }\n",
    "            },\n",
    "        )\n",
    "        tweet_length = len(test_tweet['Items'])\n",
    "        self.assertEqual(tweet_length, 1)"
   ]
  },
  {
   "cell_type": "code",
   "execution_count": 23,
   "id": "e425b599",
   "metadata": {},
   "outputs": [
    {
     "name": "stderr",
     "output_type": "stream",
     "text": [
      "test_post_reply_empty_replies (__main__.TestPostReply.test_post_reply_empty_replies) ... ok\n",
      "test_post_reply_enriched_replies (__main__.TestPostReply.test_post_reply_enriched_replies) ... ok\n",
      "\n",
      "----------------------------------------------------------------------\n",
      "Ran 2 tests in 0.032s\n",
      "\n",
      "OK\n"
     ]
    }
   ],
   "source": [
    "if __name__ == '__main__':\n",
    "    suite = unittest.TestLoader().loadTestsFromTestCase(TestPostReply)\n",
    "    unittest.TextTestRunner(verbosity=2).run(suite)"
   ]
  },
  {
   "cell_type": "markdown",
   "id": "740a4f79-95d3-47b8-9223-95c6fdc49a6e",
   "metadata": {},
   "source": [
    "# 3rd access pattern: Edit a tweet"
   ]
  },
  {
   "cell_type": "code",
   "execution_count": 24,
   "id": "c7296826-b092-437c-8cd7-61da3cc0fa17",
   "metadata": {},
   "outputs": [],
   "source": [
    "def edit_tweet(primaryKey, tweetId, new_text):\n",
    "\n",
    "    response = client.update_item(\n",
    "        TableName=\"twitter\",\n",
    "        Key={\n",
    "            'PK': {'S': primaryKey},\n",
    "            'SK': {'S': f\"TWEET#{tweetId}\"}\n",
    "        },\n",
    "        UpdateExpression='SET #text = :new_text',\n",
    "        ExpressionAttributeNames={\n",
    "            '#text': 'text'\n",
    "        },\n",
    "        ExpressionAttributeValues={\n",
    "            ':new_text': {'S': new_text}\n",
    "        }\n",
    "    )\n",
    "\n",
    "\n",
    "    followers_query = client.query(\n",
    "        TableName=\"twitter\",\n",
    "        KeyConditionExpression='PK = :pk AND begins_with(SK, :follower)',\n",
    "        ExpressionAttributeValues={\n",
    "            ':pk': {'S': primaryKey},\n",
    "            ':follower': {'S': 'FOLLOWER#'}\n",
    "        },\n",
    "    )\n",
    "\n",
    "    followers = followers_query.get('Items', [])\n",
    "    for follower in followers:\n",
    "        client.update_item(\n",
    "            TableName=\"twitter\",\n",
    "            Key={\n",
    "                'PK': {'S': f\"USER#{parse_id_from_key(follower['SK']['S'])}\"},\n",
    "                'SK': {'S': f\"TIMELINE#{tweetId}\"}\n",
    "            },\n",
    "            UpdateExpression='SET #text = :new_text',\n",
    "            ExpressionAttributeNames={\n",
    "                '#text': 'text'\n",
    "            },\n",
    "            ExpressionAttributeValues={\n",
    "                ':new_text': {'S': new_text}\n",
    "            }\n",
    "        )\n",
    "\n",
    "    return response"
   ]
  },
  {
   "cell_type": "code",
   "execution_count": 25,
   "id": "b0103dbe-ad64-4560-b995-f8a62d764d18",
   "metadata": {},
   "outputs": [
    {
     "data": {
      "text/plain": [
       "{'ResponseMetadata': {'RequestId': '7299a281-ae79-4292-93b5-dbb9415b8045',\n",
       "  'HTTPStatusCode': 200,\n",
       "  'HTTPHeaders': {'date': 'Fri, 12 Jan 2024 14:34:49 GMT',\n",
       "   'x-amzn-requestid': '7299a281-ae79-4292-93b5-dbb9415b8045',\n",
       "   'content-type': 'application/x-amz-json-1.0',\n",
       "   'x-amz-crc32': '2745614147',\n",
       "   'content-length': '2',\n",
       "   'server': 'Jetty(11.0.17)'},\n",
       "  'RetryAttempts': 0}}"
      ]
     },
     "execution_count": 25,
     "metadata": {},
     "output_type": "execute_result"
    }
   ],
   "source": [
    "new_tweet_text = \"DynamoDB ist super\"\n",
    "edit_tweet(user_martin['PK']['S'], uuid_entry5, new_tweet_text)"
   ]
  },
  {
   "cell_type": "code",
   "execution_count": 26,
   "id": "53015229-2720-419e-a314-19c99cdce745",
   "metadata": {},
   "outputs": [],
   "source": [
    "def get_user_tweets(primaryKey):\n",
    "    response = client.query(\n",
    "        TableName=\"twitter\",\n",
    "        KeyConditionExpression='PK = :pk AND begins_with(SK, :tweet)',\n",
    "        ExpressionAttributeValues={\n",
    "            ':pk': {'S': primaryKey},\n",
    "            ':tweet': {'S': 'TWEET#'}\n",
    "        }\n",
    "    )\n",
    "\n",
    "    tweets = response.get('Items', [])\n",
    "    return tweets"
   ]
  },
  {
   "cell_type": "code",
   "execution_count": 27,
   "id": "fb6ed6be-4e20-4bcb-85ee-9275a4dcb7a6",
   "metadata": {},
   "outputs": [
    {
     "name": "stdout",
     "output_type": "stream",
     "text": [
      "[{'SK': {'S': 'TWEET#9a537d82-f535-4a92-a5c4-6b0bb7754dfc'}, 'PK': {'S': 'USER#8d633777-5926-4ef4-9210-ece14c3c4b37'}, 'id': {'S': '9a537d82-f535-4a92-a5c4-6b0bb7754dfc'}, 'text': {'S': 'Moin, moin.'}, 'likes': {'N': '0'}, 'CreatedAt': {'N': '1705070086'}}, {'SK': {'S': 'TWEET#9a537d82-f535-4a92-a5c4-6b0bb7754dfc#c98f7137-dae2-4e4b-ae14-09aebe1561f6'}, 'PK': {'S': 'USER#8d633777-5926-4ef4-9210-ece14c3c4b37'}, 'id': {'S': 'c98f7137-dae2-4e4b-ae14-09aebe1561f6'}, 'text': {'S': 'Hallo zurück.'}, 'likes': {'N': '0'}, 'CreatedAt': {'N': '1705070086'}}, {'SK': {'S': 'TWEET#b2edf91f-83a5-42f2-9323-75b5b735e1b9'}, 'PK': {'S': 'USER#8d633777-5926-4ef4-9210-ece14c3c4b37'}, 'id': {'S': 'b2edf91f-83a5-42f2-9323-75b5b735e1b9'}, 'text': {'S': 'DynamoDB ist super'}, 'CreatedAt': {'N': '1705070086'}, 'likes': {'N': '0'}}]\n"
     ]
    }
   ],
   "source": [
    "user_martin_tweets = get_user_tweets(user_martin['PK']['S'])\n",
    "print(user_martin_tweets)"
   ]
  },
  {
   "cell_type": "code",
   "execution_count": 28,
   "id": "45c9c8be-a611-43ce-b781-97e6c7b14c76",
   "metadata": {},
   "outputs": [],
   "source": [
    "class TestEditTweet(unittest.TestCase):\n",
    "    def test_edit_tweet__timeline(self):\n",
    "        tweet_id_to_find = uuid_entry5  \n",
    "        updated_text = \"DynamoDB ist super\"\n",
    "\n",
    "        christian_timeline = client.query(\n",
    "            TableName=\"twitter\",\n",
    "            KeyConditionExpression='PK = :pk AND SK = :sk',\n",
    "            ExpressionAttributeValues={\n",
    "                ':pk': {'S': f\"USER#{parse_id_from_key(user_christian['PK']['S'])}\"},\n",
    "                ':sk': {'S': f\"TIMELINE#{tweet_id_to_find}\"}\n",
    "            },\n",
    "        )\n",
    "        matching_items = christian_timeline.get('Items', [])\n",
    "\n",
    "        self.assertTrue(\n",
    "            any('text' in item and item['text']['S'] == updated_text for item in matching_items),\n",
    "            f\"Tweet with ID {tweet_id_to_find} not found in timeline or text not updated.\"\n",
    "        )\n",
    "\n",
    "    def test_edit_tweet_martin(self):\n",
    "        tweet_id_to_find = uuid_entry5  \n",
    "        updated_text = \"DynamoDB ist super\"  \n",
    "\n",
    "        \n",
    "        martin_tweets = client.query(\n",
    "            TableName=\"twitter\",\n",
    "            KeyConditionExpression='PK = :pk AND SK = :sk',\n",
    "            ExpressionAttributeValues={\n",
    "                ':pk': {'S': f\"USER#{parse_id_from_key(user_martin['PK']['S'])}\"},\n",
    "                ':sk': {'S': f\"TWEET#{tweet_id_to_find}\"}\n",
    "            },\n",
    "        )\n",
    "        matching_items_martin = martin_tweets.get('Items', [])\n",
    "\n",
    "        # Check if the updated text is found in user_martin's tweets\n",
    "        self.assertTrue(\n",
    "            any('text' in item and item['text']['S'] == updated_text for item in matching_items_martin),\n",
    "            f\"Tweet with ID {tweet_id_to_find} not found in Martin's tweets or text not updated.\"\n",
    "        )\n",
    "\n",
    "\n",
    "    def test_edit_tweet_empty_timeline(self):\n",
    "        robin_timeline = client.query(\n",
    "            TableName=\"twitter\",\n",
    "            KeyConditionExpression='PK = :pk AND begins_with(SK, :timeline)',\n",
    "            ExpressionAttributeValues={\n",
    "                ':pk': { 'S': user_robin['PK']['S'] },\n",
    "                ':timeline': { 'S': 'TIMELINE#' }\n",
    "            },\n",
    "        )\n",
    "        timeline_length = len(robin_timeline['Items'])\n",
    "        self.assertEqual(timeline_length, 0)"
   ]
  },
  {
   "cell_type": "code",
   "execution_count": 29,
   "id": "046b289d-8c8f-471f-b09f-fa4aa98787ee",
   "metadata": {},
   "outputs": [
    {
     "name": "stderr",
     "output_type": "stream",
     "text": [
      "test_edit_tweet__timeline (__main__.TestEditTweet.test_edit_tweet__timeline) ... ok\n",
      "test_edit_tweet_empty_timeline (__main__.TestEditTweet.test_edit_tweet_empty_timeline) ... ok\n",
      "test_edit_tweet_martin (__main__.TestEditTweet.test_edit_tweet_martin) ... ok\n",
      "\n",
      "----------------------------------------------------------------------\n",
      "Ran 3 tests in 0.060s\n",
      "\n",
      "OK\n"
     ]
    }
   ],
   "source": [
    "if __name__ == '__main__':\n",
    "    suite = unittest.TestLoader().loadTestsFromTestCase(TestEditTweet)\n",
    "    unittest.TextTestRunner(verbosity=2).run(suite)\n"
   ]
  },
  {
   "cell_type": "markdown",
   "id": "4ff65317-1bbb-48cc-9f4c-368a5a4ad4c0",
   "metadata": {},
   "source": [
    "# 4th access pattern: Read a timeline"
   ]
  },
  {
   "cell_type": "code",
   "execution_count": 30,
   "id": "cfefbdba-ee1f-4e7b-8f4f-34dd9797021f",
   "metadata": {},
   "outputs": [],
   "source": [
    "def read_timeline(primaryKey):\n",
    "    timeline_query = client.query(\n",
    "        TableName=\"twitter\",\n",
    "        KeyConditionExpression='PK = :pk AND begins_with(SK, :timeline)',\n",
    "        ExpressionAttributeValues={\n",
    "            ':pk': {'S': primaryKey},\n",
    "            ':timeline': {'S': 'TIMELINE#'}\n",
    "        },\n",
    "    )\n",
    "    timeline_items = timeline_query.get('Items', [])\n",
    "    \n",
    "    formatted_timeline = [\n",
    "        {\n",
    "            'id': item.get('tweetId', item.get('id', 'N/A')),\n",
    "            'text': item.get('text', 'N/A'),\n",
    "            'likes': item.get('likes', 'N/A'),\n",
    "            'CreatedAt': item.get('CreatedAt', 'N/A')\n",
    "        }\n",
    "        for item in timeline_items\n",
    "    ]\n",
    "\n",
    "\n",
    "    return formatted_timeline"
   ]
  },
  {
   "cell_type": "code",
   "execution_count": 31,
   "id": "49e891fb-0a98-4735-970b-4ea8856670a0",
   "metadata": {},
   "outputs": [
    {
     "name": "stdout",
     "output_type": "stream",
     "text": [
      "[{'id': {'S': '9a537d82-f535-4a92-a5c4-6b0bb7754dfc'}, 'text': {'S': 'Moin, moin.'}, 'likes': {'N': '0'}, 'CreatedAt': {'N': '1705070086'}}, {'id': {'S': 'c98f7137-dae2-4e4b-ae14-09aebe1561f6'}, 'text': {'S': 'Hallo zurück.'}, 'likes': {'N': '0'}, 'CreatedAt': {'N': '1705070086'}}, {'id': {'S': 'b2edf91f-83a5-42f2-9323-75b5b735e1b9'}, 'text': {'S': 'DynamoDB ist super'}, 'likes': {'N': '0'}, 'CreatedAt': {'N': '1705070086'}}]\n"
     ]
    }
   ],
   "source": [
    "user_christian_timeline = read_timeline(user_christian['PK']['S'])\n",
    "print(user_christian_timeline)"
   ]
  },
  {
   "cell_type": "code",
   "execution_count": 32,
   "id": "2f1c1347-c19d-4596-878a-5aa594d1ee55",
   "metadata": {},
   "outputs": [],
   "source": [
    "class TestReadTimeline(unittest.TestCase):\n",
    "    def test_read_timeline(self):\n",
    "        # Assuming user_christian has a populated timeline\n",
    "        expected_texts = [\"Moin, moin.\", \"Hallo zurück.\", \"DynamoDB ist super\"]\n",
    "\n",
    "        # Fetch the timeline of user_christian\n",
    "        christian_timeline = read_timeline(user_christian['PK']['S'])\n",
    "\n",
    "        # Extract text items from the timeline\n",
    "        actual_texts = [item['text']['S'] for item in christian_timeline]\n",
    "\n",
    "        # Check if the actual text items match the expected texts (order doesn't matter)\n",
    "        self.assertCountEqual(actual_texts, expected_texts, \"Timeline text items do not match the expected texts.\")"
   ]
  },
  {
   "cell_type": "code",
   "execution_count": 33,
   "id": "e96b58a5-a0a9-43df-a8e9-4a98bc5059f5",
   "metadata": {},
   "outputs": [
    {
     "name": "stderr",
     "output_type": "stream",
     "text": [
      "test_read_timeline (__main__.TestReadTimeline.test_read_timeline) ... ok\n",
      "\n",
      "----------------------------------------------------------------------\n",
      "Ran 1 test in 0.018s\n",
      "\n",
      "OK\n"
     ]
    }
   ],
   "source": [
    "if __name__ == '__main__':\n",
    "    suite = unittest.TestLoader().loadTestsFromTestCase(TestReadTimeline)\n",
    "    unittest.TextTestRunner(verbosity=2).run(suite)"
   ]
  },
  {
   "cell_type": "markdown",
   "id": "4c617522-2cde-47f4-82ee-5a5827c2b250",
   "metadata": {},
   "source": [
    "# 5th access pattern: Delete a Tweet"
   ]
  },
  {
   "cell_type": "code",
   "execution_count": 34,
   "id": "8ebe4df1-408b-4a90-ab6b-290edf562edd",
   "metadata": {},
   "outputs": [],
   "source": [
    "def delete_tweet(primaryKey, tweet_id):\n",
    "    # Löschen des Tweets aus der Tweet-Entität\n",
    "    client.delete_item(\n",
    "        TableName='twitter',\n",
    "        Key={'PK': {'S': primaryKey}, 'SK': {'S': f\"TWEET#{tweet_id}\"}}\n",
    "    )\n",
    "\n",
    "    # Löschen des Tweets aus den Timelines aller Follower\n",
    "    followers = client.query(\n",
    "        TableName=\"twitter\",\n",
    "        KeyConditionExpression='PK = :pk AND begins_with(SK, :msg)',\n",
    "        ExpressionAttributeValues={\n",
    "            ':pk': {'S': primaryKey},\n",
    "            ':msg': {'S': 'FOLLOWER#'}\n",
    "        },\n",
    "    )['Items']\n",
    "\n",
    "    for follower in followers:\n",
    "        client.delete_item(\n",
    "            TableName='twitter',\n",
    "            Key={'PK': {'S': follower['SK']['S']}, 'SK': {'S': f\"TIMELINE#{tweet_id}\"}}\n",
    "        )\n"
   ]
  },
  {
   "cell_type": "code",
   "execution_count": 36,
   "id": "8d1d62aa-2076-4010-bd46-651c48ad3cc6",
   "metadata": {},
   "outputs": [],
   "source": [
    "class TestDeleteTweet(unittest.TestCase):\n",
    "\n",
    "    def test_delete_tweet(self):\n",
    "        user_id = uuid_entry1\n",
    "        tweet_id = uuid_entry5\n",
    "        user_key = f'USER#{user_id}'\n",
    "        tweet_key = f'TWEET#{tweet_id}'\n",
    "\n",
    "        delete_tweet(user_id, tweet_id)\n",
    "\n",
    "        tweet_item = client.get_item(TableName='twitter', Key={'PK': {'S': tweet_key}, 'SK': {'S': tweet_key}})\n",
    "        self.assertNotIn('Item', tweet_item)"
   ]
  },
  {
   "cell_type": "code",
   "execution_count": 37,
   "id": "b52ddb81-ca98-4a89-be48-8ed5d1c38ce3",
   "metadata": {},
   "outputs": [
    {
     "name": "stderr",
     "output_type": "stream",
     "text": [
      "test_delete_tweet (__main__.TestDeleteTweet.test_delete_tweet) ... ok\n",
      "\n",
      "----------------------------------------------------------------------\n",
      "Ran 1 test in 0.054s\n",
      "\n",
      "OK\n"
     ]
    }
   ],
   "source": [
    "if __name__ == '__main__':\n",
    "    suite = unittest.TestLoader().loadTestsFromTestCase(TestDeleteTweet)\n",
    "    unittest.TextTestRunner(verbosity=2).run(suite)"
   ]
  },
  {
   "cell_type": "markdown",
   "id": "67d75f5f-ddc5-4de8-a428-14f9ea57029c",
   "metadata": {},
   "source": [
    "# 6th access pattern: Delete a User"
   ]
  },
  {
   "cell_type": "code",
   "execution_count": 38,
   "id": "17b79f90-6bfa-47e1-8165-e0ce2e6cebf0",
   "metadata": {},
   "outputs": [],
   "source": [
    "def delete_user(user_id):\n",
    "    user_tweets_response = client.query(\n",
    "        TableName='twitter',\n",
    "        KeyConditionExpression='#pk = :pk',\n",
    "        ExpressionAttributeNames={'#pk': 'PK'},\n",
    "        ExpressionAttributeValues={':pk': {'S': f'USER#{user_id}'}}\n",
    "    )\n",
    "\n",
    "    user_tweets = user_tweets_response.get('Items', [])\n",
    "\n",
    "    for tweet in user_tweets:\n",
    "        tweet_id = tweet.get('id', {}).get('S')  # Zugriff auf das tatsächlich vorhandene Feld 'id'\n",
    "\n",
    "        if tweet_id:\n",
    "            client.delete_item(\n",
    "                TableName='twitter',\n",
    "                Key={'PK': {'S': tweet['PK']['S']}, 'SK': {'S': tweet['SK']['S']}}\n",
    "            )\n",
    "\n",
    "            followers_response = client.query(\n",
    "                TableName='twitter',\n",
    "                KeyConditionExpression='#pk = :pk',\n",
    "                ExpressionAttributeNames={'#pk': 'PK'},\n",
    "                ExpressionAttributeValues={':pk': {'S': tweet['PK']['S']}}\n",
    "            )\n",
    "\n",
    "            for follower in followers_response.get('Items', []):\n",
    "                client.delete_item(\n",
    "                    TableName='twitter',\n",
    "                    Key={'PK': {'S': follower['SK']['S']}, 'SK': {'S': f'TIMELINE#{tweet_id}'}}\n",
    "                )\n",
    "\n",
    "    client.delete_item(\n",
    "        TableName='twitter',\n",
    "        Key={'PK': {'S': f'USER#{user_id}'}, 'SK': {'S': f'USER#{user_id}'}}\n",
    "    )"
   ]
  },
  {
   "cell_type": "code",
   "execution_count": 39,
   "id": "367803ca-c4b6-4f43-84ab-c951f0225e62",
   "metadata": {},
   "outputs": [],
   "source": [
    "class TestDeleteUser(unittest.TestCase):\n",
    "    \n",
    "    def test_user_deleted(self):\n",
    "        user_id = uuid_entry1\n",
    "        user_key = f'USER#{user_id}'\n",
    "\n",
    "        # Funktion aufrufen\n",
    "        delete_user(user_id)\n",
    "\n",
    "        # Überprüfen, ob der Benutzer und der Tweet erfolgreich gelöscht wurden\n",
    "        user_item = client.get_item(TableName='twitter', Key={'PK': {'S': user_key}, 'SK': {'S': user_key}})\n",
    "        self.assertNotIn('Item', user_item)\n",
    "\n",
    "    def test_tweets_deleted(self):\n",
    "        tweet_id = uuid_entry4\n",
    "        tweet_key = f'TWEET#{tweet_id}'\n",
    "        \n",
    "        tweet_item = client.get_item(TableName='twitter', Key={'PK': {'S': tweet_key}, 'SK': {'S': tweet_key}})\n",
    "        self.assertNotIn('Item', tweet_item)\n",
    "        "
   ]
  },
  {
   "cell_type": "code",
   "execution_count": 40,
   "id": "8b70d3fd-2a20-47e9-9efb-9e28f12ba849",
   "metadata": {},
   "outputs": [
    {
     "name": "stderr",
     "output_type": "stream",
     "text": [
      "test_tweets_deleted (__main__.TestDeleteUser.test_tweets_deleted) ... ok\n",
      "test_user_deleted (__main__.TestDeleteUser.test_user_deleted) ... ok\n",
      "\n",
      "----------------------------------------------------------------------\n",
      "Ran 2 tests in 0.364s\n",
      "\n",
      "OK\n"
     ]
    }
   ],
   "source": [
    "if __name__ == '__main__':\n",
    "    suite = unittest.TestLoader().loadTestsFromTestCase(TestDeleteUser)\n",
    "    unittest.TextTestRunner(verbosity=2).run(suite)"
   ]
  }
 ],
 "metadata": {
  "kernelspec": {
   "display_name": "Python 3 (ipykernel)",
   "language": "python",
   "name": "python3"
  },
  "language_info": {
   "codemirror_mode": {
    "name": "ipython",
    "version": 3
   },
   "file_extension": ".py",
   "mimetype": "text/x-python",
   "name": "python",
   "nbconvert_exporter": "python",
   "pygments_lexer": "ipython3",
   "version": "3.12.1"
  },
  "vscode": {
   "interpreter": {
    "hash": "5c7b89af1651d0b8571dde13640ecdccf7d5a6204171d6ab33e7c296e100e08a"
   }
  }
 },
 "nbformat": 4,
 "nbformat_minor": 5
}
