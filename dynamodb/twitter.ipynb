{
 "cells": [
  {
   "cell_type": "code",
   "execution_count": null,
   "id": "4f28fbb3-955e-4f9b-9d71-742a75ac8b88",
   "metadata": {
    "tags": []
   },
   "outputs": [],
   "source": [
    "import boto3\n",
    "from datetime import date\n",
    "import time\n",
    "import uuid\n",
    "from credentials import *\n",
    "import unittest"
   ]
  },
  {
   "cell_type": "markdown",
   "id": "6cc840ff-4d8e-4edf-9bab-5afb9e6fa180",
   "metadata": {
    "tags": []
   },
   "source": [
    "## Connect to DynamoDB\n",
    "\n",
    "Initially, we connect to our local database we started as \"dynamodb\" container:"
   ]
  },
  {
   "cell_type": "code",
   "execution_count": null,
   "id": "71be6fc4-cdf1-4331-ba5c-3f82d84f40d4",
   "metadata": {
    "tags": []
   },
   "outputs": [],
   "source": [
    "client = boto3.client('dynamodb', \n",
    "  endpoint_url='http://dynamo:8000', \n",
    "  region_name='eu-central-1',\n",
    "  aws_access_key_id=aws_access_key_id,\n",
    "  aws_secret_access_key=aws_secret_access_key\n",
    ")\n",
    "client.list_tables()"
   ]
  },
  {
   "cell_type": "markdown",
   "id": "d01d0700-079d-4d53-81cf-eb269774f617",
   "metadata": {
    "tags": []
   },
   "source": [
    "## Create Table\n",
    "\n",
    "Let's setup the table with our attributes and indexes:"
   ]
  },
  {
   "cell_type": "code",
   "execution_count": null,
   "id": "c7028bbb-db6b-4646-a73f-7a8b1604edbe",
   "metadata": {
    "tags": []
   },
   "outputs": [],
   "source": [
    "def create_app_table():\n",
    "    return client.create_table(\n",
    "        TableName=\"twitter\",\n",
    "        KeySchema=[\n",
    "            {\"AttributeName\": \"PK\", \"KeyType\": \"HASH\"},\n",
    "            {\"AttributeName\": \"SK\", \"KeyType\": \"RANGE\"},\n",
    "        ],\n",
    "        AttributeDefinitions=[\n",
    "            {\"AttributeName\": \"PK\", \"AttributeType\": \"S\"},\n",
    "            {\"AttributeName\": \"SK\", \"AttributeType\": \"S\"},\n",
    "        ],\n",
    "        ProvisionedThroughput={\"ReadCapacityUnits\": 10, \"WriteCapacityUnits\": 10},\n",
    "    )"
   ]
  },
  {
   "cell_type": "code",
   "execution_count": null,
   "id": "2287cd97-789d-4081-8908-886523e157d8",
   "metadata": {
    "tags": []
   },
   "outputs": [],
   "source": [
    "def delete_app_table():\n",
    "    try:\n",
    "        return client.delete_table(TableName=\"twitter\")\n",
    "    except:\n",
    "        return False"
   ]
  },
  {
   "cell_type": "code",
   "execution_count": null,
   "id": "c3ec9013-9996-438e-85f1-a312bb12a547",
   "metadata": {},
   "outputs": [],
   "source": [
    "delete_app_table()\n",
    "create_app_table()"
   ]
  },
  {
   "cell_type": "markdown",
   "id": "355f5266-e3c9-4df7-a4c7-74cc14f703b4",
   "metadata": {
    "tags": []
   },
   "source": [
    "## Helpers\n",
    "\n",
    "To setup some other keys later on, we create a function to extract the id from a key:"
   ]
  },
  {
   "cell_type": "code",
   "execution_count": null,
   "id": "aa035c95-3e84-41ab-a2d5-9f770600fbc8",
   "metadata": {
    "tags": []
   },
   "outputs": [],
   "source": [
    "def parse_id_from_key(key):\n",
    "    return key.split(\"#\")[-1]\n",
    "\n",
    "parse_id_from_key(\"CHAN#7\")"
   ]
  },
  {
   "cell_type": "markdown",
   "id": "03862e5d-d396-4acf-8d78-e34d8fc757a6",
   "metadata": {
    "tags": []
   },
   "source": [
    "## Users\n",
    "\n",
    "We create and save our users:"
   ]
  },
  {
   "cell_type": "code",
   "execution_count": null,
   "id": "d2a9e1ed-67e2-4561-88ae-2c26596ab90a",
   "metadata": {
    "tags": []
   },
   "outputs": [],
   "source": [
    "uuid_entry1 = str(uuid.uuid4())\n",
    "user_martin = {\n",
    "    'PK': {'S': f\"USER#{uuid_entry1}\"},\n",
    "    'SK': {'S': f\"USER#{uuid_entry1}\"},\n",
    "    'Name': {'S': 'Martin Marsal'},\n",
    "}\n",
    "\n",
    "uuid_entry2 = str(uuid.uuid4())\n",
    "user_christian = {\n",
    "    'PK': {'S': f\"USER#{uuid_entry2}\"},\n",
    "    'SK': {'S': f\"USER#{uuid_entry2}\"},\n",
    "    'Name': {'S': 'Christian Diegmann'},\n",
    "}\n",
    "\n",
    "uuid_entry3 = str(uuid.uuid4())\n",
    "user_robin = {\n",
    "    'PK': {'S': f\"USER#{uuid_entry3}\"},\n",
    "    'SK': {'S': f\"USER#{uuid_entry3}\"},\n",
    "    'Name': {'S': 'Robin Schüle'},\n",
    "}\n",
    "\n",
    "def save_user(user):\n",
    "    return client.put_item(\n",
    "        TableName=\"twitter\",\n",
    "        Item=user\n",
    "    )\n",
    "\n",
    "# AP6\n",
    "def find_user(primaryKey, sortKey):\n",
    "    item = client.get_item(\n",
    "        TableName=\"twitter\",\n",
    "        Key={\n",
    "          'PK': { 'S': primaryKey },\n",
    "          'SK': { 'S': sortKey }\n",
    "        }\n",
    "    )\n",
    "    return item['Item'] if 'Item' in item else False"
   ]
  },
  {
   "cell_type": "code",
   "execution_count": null,
   "id": "a71f03b7-b7ba-4de6-ab0b-5c1f66508bc3",
   "metadata": {},
   "outputs": [],
   "source": [
    "save_user(user_martin)\n",
    "find_user(user_martin['PK']['S'], user_martin['SK']['S'])"
   ]
  },
  {
   "cell_type": "code",
   "execution_count": null,
   "id": "b5318ea1-235d-44a8-a49f-73a7bf7e001a",
   "metadata": {},
   "outputs": [],
   "source": [
    "save_user(user_christian)\n",
    "find_user(user_christian['PK']['S'], user_christian['SK']['S'])"
   ]
  },
  {
   "cell_type": "code",
   "execution_count": null,
   "id": "7e50ef01-455e-437b-a83a-481858587e2d",
   "metadata": {},
   "outputs": [],
   "source": [
    "save_user(user_robin)\n",
    "find_user(user_robin['PK']['S'], user_robin['SK']['S'])"
   ]
  },
  {
   "cell_type": "code",
   "execution_count": null,
   "id": "37006c58-df4e-4de5-9927-dddb8069fba8",
   "metadata": {},
   "outputs": [],
   "source": [
    "def add_to_followers(primaryKey, follower):\n",
    "    response = client.put_item(\n",
    "        TableName=\"twitter\",\n",
    "        Item={\n",
    "            'PK': {'S': primaryKey},\n",
    "            'SK': {'S': f\"FOLLOWER#{parse_id_from_key(follower['PK']['S'])}\"},\n",
    "            'Name': {'S': follower['Name']['S']},\n",
    "        },\n",
    "        )\n",
    "    if response['ResponseMetadata']['HTTPStatusCode'] == 200:\n",
    "        return client.get_item(\n",
    "            TableName='twitter',\n",
    "            Key={\n",
    "                'PK': {'S': primaryKey},\n",
    "                'SK': {'S': f\"FOLLOWER#{parse_id_from_key(follower['PK']['S'])}\"},\n",
    "            }\n",
    "        )"
   ]
  },
  {
   "cell_type": "code",
   "execution_count": null,
   "id": "f625e08c-1242-470b-a398-76595ea8e1c4",
   "metadata": {},
   "outputs": [],
   "source": [
    "add_to_followers(user_martin['PK']['S'], user_christian)"
   ]
  },
  {
   "cell_type": "code",
   "execution_count": null,
   "id": "0b6c6b04-a797-44fa-836a-f87be30e4602",
   "metadata": {},
   "outputs": [],
   "source": [
    "add_to_followers(user_christian['PK']['S'], user_robin)"
   ]
  },
  {
   "cell_type": "code",
   "execution_count": null,
   "id": "d098a9b8-4f11-404d-9158-7e82442dbeee",
   "metadata": {},
   "outputs": [],
   "source": [
    "add_to_followers(user_robin['PK']['S'], user_martin)"
   ]
  },
  {
   "cell_type": "markdown",
   "id": "45119e16-f446-428b-a70e-75760fa6526c",
   "metadata": {},
   "source": [
    "## 1st access pattern: Post a tweet"
   ]
  },
  {
   "cell_type": "code",
   "execution_count": null,
   "id": "a2936ea4-122f-4e5e-b867-16193a9d6a31",
   "metadata": {},
   "outputs": [],
   "source": [
    "uuid_entry4 = str(uuid.uuid4())\n",
    "timestamp = int(time.time())\n",
    "tweet = {'id': {'S': f\"{uuid_entry4}\"}, 'text': {'S': 'Moin, moin.'}, 'likes': {'N': '0'}, 'CreatedAt': { 'N': str(timestamp)}}\n",
    "uuid_entry5 = str(uuid.uuid4())\n",
    "timestamp = int(time.time())\n",
    "tweet_2 = {'id': {'S': f\"{uuid_entry5}\"}, 'text': {'S': 'MongoDB ist super!'}, 'likes': {'N': '0'}, 'CreatedAt': { 'N': str(timestamp)}}\n",
    "newMartin = find_user(user_martin['PK']['S'], user_martin['SK']['S'])\n",
    "\n",
    "def post_tweet(primaryKey, tweet):\n",
    "    client.put_item(\n",
    "        TableName='twitter',\n",
    "        Item={\n",
    "            'PK': {'S': primaryKey},\n",
    "            'SK': {'S': f\"TWEET#{tweet['id']['S']}\"},\n",
    "            'id': {'S': tweet['id']['S']},\n",
    "            'text': {'S': tweet['text']['S']},\n",
    "            'likes': {'N': tweet['likes']['N']},\n",
    "            'CreatedAt': { 'N': tweet['CreatedAt']['N']}\n",
    "        },\n",
    "    )\n",
    "    item = client.query(\n",
    "        TableName=\"twitter\",\n",
    "        KeyConditionExpression='PK = :pk AND begins_with(SK, :follower)',\n",
    "        ExpressionAttributeValues={\n",
    "            ':pk': { 'S': primaryKey },\n",
    "            ':follower': { 'S': 'FOLLOWER#' }\n",
    "        },\n",
    "    )\n",
    "    followers = item['Items']\n",
    "    for follower in followers:\n",
    "        response2 = client.put_item(\n",
    "            TableName='twitter',\n",
    "            Item={\n",
    "                'PK': {'S': f\"USER#{parse_id_from_key(follower['SK']['S'])}\"},\n",
    "                'SK': {'S': f\"TIMELINE#{tweet['id']['S']}\"},\n",
    "                'tweetId': {'S': tweet['id']['S']},\n",
    "                'text': {'S': tweet['text']['S']},\n",
    "                'likes': {'N': tweet['likes']['N']},\n",
    "                'CreatedAt': { 'N': tweet['CreatedAt']['N']}\n",
    "            },\n",
    "        )\n",
    "    if response2['ResponseMetadata']['HTTPStatusCode'] == 200:\n",
    "        return client.query(\n",
    "            TableName=\"twitter\",\n",
    "            KeyConditionExpression='PK = :pk AND begins_with(SK, :timeline)',\n",
    "            ExpressionAttributeValues={\n",
    "                ':pk': { 'S': f\"USER#{parse_id_from_key(user_christian['PK']['S'])}\" },\n",
    "                ':timeline': { 'S': 'TIMELINE#' }\n",
    "            },\n",
    "        )"
   ]
  },
  {
   "cell_type": "code",
   "execution_count": null,
   "id": "8388df21-a670-4fbc-bf69-8cee47879bd5",
   "metadata": {},
   "outputs": [],
   "source": [
    "post_tweet(user_martin['PK']['S'], tweet)"
   ]
  },
  {
   "cell_type": "code",
   "execution_count": null,
   "id": "6bd5e383-01f2-4a5f-8416-a1117ed3dc5f",
   "metadata": {},
   "outputs": [],
   "source": [
    "post_tweet(user_martin['PK']['S'], tweet_2)"
   ]
  },
  {
   "cell_type": "code",
   "execution_count": null,
   "id": "8c504d76-0066-4f34-9488-0be34ff95ef4",
   "metadata": {},
   "outputs": [],
   "source": [
    "class TestPostTweet(unittest.TestCase):\n",
    "    def test_post_tweet_enriched_timeline(self):\n",
    "        christian_timeline = client.query(\n",
    "            TableName=\"twitter\",\n",
    "            KeyConditionExpression='PK = :pk AND begins_with(SK, :timeline)',\n",
    "            ExpressionAttributeValues={\n",
    "                ':pk': { 'S': user_christian['PK']['S'] },\n",
    "                ':timeline': { 'S': 'TIMELINE#' }\n",
    "            },\n",
    "        )\n",
    "        timeline_length = len(christian_timeline['Items'])\n",
    "        self.assertEqual(timeline_length, 2)\n",
    "\n",
    "    def test_post_tweet_empty_timeline(self):\n",
    "        robin_timeline = client.query(\n",
    "            TableName=\"twitter\",\n",
    "            KeyConditionExpression='PK = :pk AND begins_with(SK, :timeline)',\n",
    "            ExpressionAttributeValues={\n",
    "                ':pk': { 'S': user_robin['PK']['S'] },\n",
    "                ':timeline': { 'S': 'TIMELINE#' }\n",
    "            },\n",
    "        )\n",
    "        timeline_length = len(robin_timeline['Items'])\n",
    "        self.assertEqual(timeline_length, 0)"
   ]
  },
  {
   "cell_type": "code",
   "execution_count": null,
   "id": "41b91395-5a5c-4568-adcf-f705ed6a0e99",
   "metadata": {},
   "outputs": [],
   "source": [
    "if __name__ == '__main__':\n",
    "    suite = unittest.TestLoader().loadTestsFromTestCase(TestPostTweet)\n",
    "    unittest.TextTestRunner(verbosity=2).run(suite)"
   ]
  },
  {
   "cell_type": "markdown",
   "id": "cc73fca7-e9e0-48ae-8fff-f25cd617cc87",
   "metadata": {},
   "source": [
    "## 2nd access pattern: Write a reply"
   ]
  },
  {
   "cell_type": "code",
   "execution_count": null,
   "id": "49b07d45-f839-4d0c-9f26-5f9ab3bae71c",
   "metadata": {},
   "outputs": [],
   "source": [
    "uuid_entry6 = str(uuid.uuid4())\n",
    "reply = {'id': {'S': f\"{uuid_entry6}\"}, 'text': {'S': 'Hallo zurück.'}, 'likes': {'N': '0'}, 'CreatedAt': { 'N': str(timestamp)}, 'tweetId': {'S': f\"{parse_id_from_key(tweet['id']['S'])}\"},}\n",
    "\n",
    "def post_reply(author, user, tweet, reply):\n",
    "    client.put_item(\n",
    "        TableName='twitter',\n",
    "        Item={\n",
    "            'PK': {'S': f\"USER#{parse_id_from_key(author['PK']['S'])}\"},\n",
    "            'SK': {'S': f\"TWEET#{tweet['id']['S']}#{reply['id']['S']}\"},\n",
    "            'id': {'S': reply['id']['S']},\n",
    "            'text': {'S': reply['text']['S']},\n",
    "            'likes': {'N': reply['likes']['N']},\n",
    "            'CreatedAt': { 'N': reply['CreatedAt']['N']}\n",
    "        },\n",
    "    )\n",
    "    item = client.query(\n",
    "        TableName=\"twitter\",\n",
    "        KeyConditionExpression='PK = :pk AND begins_with(SK, :follower)',\n",
    "        ExpressionAttributeValues={\n",
    "            ':pk': { 'S': f\"USER#{parse_id_from_key(author['PK']['S'])}\" },\n",
    "            ':follower': { 'S': 'FOLLOWER#' }\n",
    "        },\n",
    "    )\n",
    "    followers = item['Items']\n",
    "    for follower in followers:\n",
    "        response2 = client.put_item(\n",
    "            TableName='twitter',\n",
    "            Item={\n",
    "                'PK': {'S': f\"USER#{parse_id_from_key(follower['SK']['S'])}\"},\n",
    "                'SK': {'S': f\"TIMELINE#{tweet['id']['S']}#{reply['id']['S']}\"},\n",
    "                'id': {'S': reply['id']['S']},\n",
    "                'text': {'S': reply['text']['S']},\n",
    "                'likes': {'N': reply['likes']['N']},\n",
    "                'CreatedAt': { 'N': reply['CreatedAt']['N']}\n",
    "            },\n",
    "        )\n",
    "    if response2['ResponseMetadata']['HTTPStatusCode'] == 200:\n",
    "        return client.query(\n",
    "            TableName=\"twitter\",\n",
    "            KeyConditionExpression='PK = :pk AND begins_with(SK, :timeline)',\n",
    "            ExpressionAttributeValues={\n",
    "                ':pk': { 'S': f\"USER#{parse_id_from_key(author['PK']['S'])}\" },\n",
    "                ':timeline': { 'S': 'TIMELINE#' }\n",
    "            },\n",
    "        )"
   ]
  },
  {
   "cell_type": "code",
   "execution_count": null,
   "id": "c8ce54ab-f4b7-4176-8781-5cb893ec07cc",
   "metadata": {},
   "outputs": [],
   "source": [
    "post_reply(user_martin, user_christian, tweet, reply)"
   ]
  },
  {
   "cell_type": "code",
   "execution_count": null,
   "id": "6a945807",
   "metadata": {},
   "outputs": [],
   "source": [
    "class TestPostReply(unittest.TestCase):\n",
    "    def test_post_reply_enriched_replies(self):\n",
    "        test_tweet = client.query(\n",
    "            TableName=\"twitter\",\n",
    "            KeyConditionExpression='PK = :pk AND begins_with(SK, :timeline)',\n",
    "            ExpressionAttributeValues={\n",
    "                ':pk': { 'S': user_christian['PK']['S'] },\n",
    "                ':timeline': { 'S': f\"TIMELINE#{tweet['id']['S']}\" }\n",
    "            },\n",
    "        )\n",
    "        tweet_length = len(test_tweet['Items'])\n",
    "        self.assertEqual(tweet_length, 2)\n",
    "        \n",
    "    def test_post_reply_empty_replies(self):\n",
    "        test_tweet = client.query(\n",
    "            TableName=\"twitter\",\n",
    "            KeyConditionExpression='PK = :pk AND begins_with(SK, :timeline)',\n",
    "            ExpressionAttributeValues={\n",
    "                ':pk': { 'S': user_christian['PK']['S'] },\n",
    "                ':timeline': { 'S': f\"TIMELINE#{tweet_2['id']['S']}\" }\n",
    "            },\n",
    "        )\n",
    "        tweet_length = len(test_tweet['Items'])\n",
    "        self.assertEqual(tweet_length, 1)"
   ]
  },
  {
   "cell_type": "code",
   "execution_count": null,
   "id": "e425b599",
   "metadata": {},
   "outputs": [],
   "source": [
    "if __name__ == '__main__':\n",
    "    suite = unittest.TestLoader().loadTestsFromTestCase(TestPostReply)\n",
    "    unittest.TextTestRunner(verbosity=2).run(suite)"
   ]
  },
  {
   "cell_type": "markdown",
   "id": "740a4f79-95d3-47b8-9223-95c6fdc49a6e",
   "metadata": {},
   "source": [
    "# 3rd access pattern: Edit a tweet"
   ]
  },
  {
   "cell_type": "code",
   "execution_count": null,
   "id": "c7296826-b092-437c-8cd7-61da3cc0fa17",
   "metadata": {},
   "outputs": [],
   "source": [
    "def edit_tweet(primaryKey, tweetId, new_text):\n",
    "\n",
    "    response = client.update_item(\n",
    "        TableName=\"twitter\",\n",
    "        Key={\n",
    "            'PK': {'S': primaryKey},\n",
    "            'SK': {'S': f\"TWEET#{tweetId}\"}\n",
    "        },\n",
    "        UpdateExpression='SET #text = :new_text',\n",
    "        ExpressionAttributeNames={\n",
    "            '#text': 'text'\n",
    "        },\n",
    "        ExpressionAttributeValues={\n",
    "            ':new_text': {'S': new_text}\n",
    "        }\n",
    "    )\n",
    "\n",
    "\n",
    "    followers_query = client.query(\n",
    "        TableName=\"twitter\",\n",
    "        KeyConditionExpression='PK = :pk AND begins_with(SK, :follower)',\n",
    "        ExpressionAttributeValues={\n",
    "            ':pk': {'S': primaryKey},\n",
    "            ':follower': {'S': 'FOLLOWER#'}\n",
    "        },\n",
    "    )\n",
    "\n",
    "    followers = followers_query.get('Items', [])\n",
    "    for follower in followers:\n",
    "        client.update_item(\n",
    "            TableName=\"twitter\",\n",
    "            Key={\n",
    "                'PK': {'S': f\"USER#{parse_id_from_key(follower['SK']['S'])}\"},\n",
    "                'SK': {'S': f\"TIMELINE#{tweetId}\"}\n",
    "            },\n",
    "            UpdateExpression='SET #text = :new_text',\n",
    "            ExpressionAttributeNames={\n",
    "                '#text': 'text'\n",
    "            },\n",
    "            ExpressionAttributeValues={\n",
    "                ':new_text': {'S': new_text}\n",
    "            }\n",
    "        )\n",
    "\n",
    "    return response"
   ]
  },
  {
   "cell_type": "code",
   "execution_count": null,
   "id": "b0103dbe-ad64-4560-b995-f8a62d764d18",
   "metadata": {},
   "outputs": [],
   "source": [
    "new_tweet_text = \"DynamoDB ist super\"\n",
    "edit_tweet(user_martin['PK']['S'], uuid_entry5, new_tweet_text)"
   ]
  },
  {
   "cell_type": "code",
   "execution_count": null,
   "id": "53015229-2720-419e-a314-19c99cdce745",
   "metadata": {},
   "outputs": [],
   "source": [
    "def get_user_tweets(primaryKey):\n",
    "    response = client.query(\n",
    "        TableName=\"twitter\",\n",
    "        KeyConditionExpression='PK = :pk AND begins_with(SK, :tweet)',\n",
    "        ExpressionAttributeValues={\n",
    "            ':pk': {'S': primaryKey},\n",
    "            ':tweet': {'S': 'TWEET#'}\n",
    "        }\n",
    "    )\n",
    "\n",
    "    tweets = response.get('Items', [])\n",
    "    return tweets"
   ]
  },
  {
   "cell_type": "code",
   "execution_count": null,
   "id": "fb6ed6be-4e20-4bcb-85ee-9275a4dcb7a6",
   "metadata": {},
   "outputs": [],
   "source": [
    "user_martin_tweets = get_user_tweets(user_martin['PK']['S'])\n",
    "print(user_martin_tweets)"
   ]
  },
  {
   "cell_type": "code",
   "execution_count": null,
   "id": "45c9c8be-a611-43ce-b781-97e6c7b14c76",
   "metadata": {},
   "outputs": [],
   "source": [
    "class TestEditTweet(unittest.TestCase):\n",
    "    def test_edit_tweet__timeline(self):\n",
    "        tweet_id_to_find = uuid_entry5  \n",
    "        updated_text = \"DynamoDB ist super\"\n",
    "\n",
    "        christian_timeline = client.query(\n",
    "            TableName=\"twitter\",\n",
    "            KeyConditionExpression='PK = :pk AND SK = :sk',\n",
    "            ExpressionAttributeValues={\n",
    "                ':pk': {'S': f\"USER#{parse_id_from_key(user_christian['PK']['S'])}\"},\n",
    "                ':sk': {'S': f\"TIMELINE#{tweet_id_to_find}\"}\n",
    "            },\n",
    "        )\n",
    "        matching_items = christian_timeline.get('Items', [])\n",
    "\n",
    "        self.assertTrue(\n",
    "            any('text' in item and item['text']['S'] == updated_text for item in matching_items),\n",
    "            f\"Tweet with ID {tweet_id_to_find} not found in timeline or text not updated.\"\n",
    "        )\n",
    "\n",
    "    def test_edit_tweet_martin(self):\n",
    "        tweet_id_to_find = uuid_entry5  \n",
    "        updated_text = \"DynamoDB ist super\"  \n",
    "\n",
    "        \n",
    "        martin_tweets = client.query(\n",
    "            TableName=\"twitter\",\n",
    "            KeyConditionExpression='PK = :pk AND SK = :sk',\n",
    "            ExpressionAttributeValues={\n",
    "                ':pk': {'S': f\"USER#{parse_id_from_key(user_martin['PK']['S'])}\"},\n",
    "                ':sk': {'S': f\"TWEET#{tweet_id_to_find}\"}\n",
    "            },\n",
    "        )\n",
    "        matching_items_martin = martin_tweets.get('Items', [])\n",
    "\n",
    "        # Check if the updated text is found in user_martin's tweets\n",
    "        self.assertTrue(\n",
    "            any('text' in item and item['text']['S'] == updated_text for item in matching_items_martin),\n",
    "            f\"Tweet with ID {tweet_id_to_find} not found in Martin's tweets or text not updated.\"\n",
    "        )\n",
    "\n",
    "\n",
    "    def test_edit_tweet_empty_timeline(self):\n",
    "        robin_timeline = client.query(\n",
    "            TableName=\"twitter\",\n",
    "            KeyConditionExpression='PK = :pk AND begins_with(SK, :timeline)',\n",
    "            ExpressionAttributeValues={\n",
    "                ':pk': { 'S': user_robin['PK']['S'] },\n",
    "                ':timeline': { 'S': 'TIMELINE#' }\n",
    "            },\n",
    "        )\n",
    "        timeline_length = len(robin_timeline['Items'])\n",
    "        self.assertEqual(timeline_length, 0)"
   ]
  },
  {
   "cell_type": "code",
   "execution_count": null,
   "id": "046b289d-8c8f-471f-b09f-fa4aa98787ee",
   "metadata": {},
   "outputs": [],
   "source": [
    "if __name__ == '__main__':\n",
    "    suite = unittest.TestLoader().loadTestsFromTestCase(TestEditTweet)\n",
    "    unittest.TextTestRunner(verbosity=2).run(suite)\n"
   ]
  },
  {
   "cell_type": "markdown",
   "id": "4ff65317-1bbb-48cc-9f4c-368a5a4ad4c0",
   "metadata": {},
   "source": [
    "# 4th access pattern: Read a timeline"
   ]
  },
  {
   "cell_type": "code",
   "execution_count": null,
   "id": "cfefbdba-ee1f-4e7b-8f4f-34dd9797021f",
   "metadata": {},
   "outputs": [],
   "source": [
    "def read_timeline(primaryKey):\n",
    "    timeline_query = client.query(\n",
    "        TableName=\"twitter\",\n",
    "        KeyConditionExpression='PK = :pk AND begins_with(SK, :timeline)',\n",
    "        ExpressionAttributeValues={\n",
    "            ':pk': {'S': primaryKey},\n",
    "            ':timeline': {'S': 'TIMELINE#'}\n",
    "        },\n",
    "    )\n",
    "    return timeline_query.get('Items', [])"
   ]
  },
  {
   "cell_type": "code",
   "execution_count": null,
   "id": "49e891fb-0a98-4735-970b-4ea8856670a0",
   "metadata": {},
   "outputs": [],
   "source": [
    "user_christian_timeline = read_timeline(user_christian['PK']['S'])\n",
    "print(user_christian_timeline)"
   ]
  },
  {
   "cell_type": "code",
   "execution_count": null,
   "id": "2f1c1347-c19d-4596-878a-5aa594d1ee55",
   "metadata": {},
   "outputs": [],
   "source": [
    "class TestReadTimeline(unittest.TestCase):\n",
    "    def test_read_timeline(self):\n",
    "        # Assuming user_christian has a populated timeline\n",
    "        expected_texts = [\"Moin, moin.\", \"Hallo zurück.\", \"DynamoDB ist super\"]\n",
    "\n",
    "        # Fetch the timeline of user_christian\n",
    "        christian_timeline = read_timeline(user_christian['PK']['S'])\n",
    "\n",
    "        # Extract text items from the timeline\n",
    "        actual_texts = [item['text']['S'] for item in christian_timeline]\n",
    "\n",
    "        # Check if the actual text items match the expected texts (order doesn't matter)\n",
    "        self.assertCountEqual(actual_texts, expected_texts, \"Timeline text items do not match the expected texts.\")"
   ]
  },
  {
   "cell_type": "code",
   "execution_count": null,
   "id": "e96b58a5-a0a9-43df-a8e9-4a98bc5059f5",
   "metadata": {},
   "outputs": [],
   "source": [
    "if __name__ == '__main__':\n",
    "    suite = unittest.TestLoader().loadTestsFromTestCase(TestReadTimeline)\n",
    "    unittest.TextTestRunner(verbosity=2).run(suite)"
   ]
  },
  {
   "cell_type": "markdown",
   "id": "4c617522-2cde-47f4-82ee-5a5827c2b250",
   "metadata": {},
   "source": [
    "# 5th access pattern: Delete a Tweet"
   ]
  },
  {
   "cell_type": "code",
   "execution_count": null,
   "id": "8ebe4df1-408b-4a90-ab6b-290edf562edd",
   "metadata": {},
   "outputs": [],
   "source": [
    "def delete_tweet(primaryKey, tweet_id):\n",
    "    # Löschen des Tweets aus der Tweet-Entität\n",
    "    client.delete_item(\n",
    "        TableName='twitter',\n",
    "        Key={'PK': {'S': primaryKey}, 'SK': {'S': f\"TWEET#{tweet_id}\"}}\n",
    "    )\n",
    "\n",
    "    # Löschen des Tweets aus den Timelines aller Follower\n",
    "    followers = client.query(\n",
    "        TableName=\"twitter\",\n",
    "        KeyConditionExpression='PK = :pk AND begins_with(SK, :msg)',\n",
    "        ExpressionAttributeValues={\n",
    "            ':pk': {'S': primaryKey},\n",
    "            ':msg': {'S': 'FOLLOWER#'}\n",
    "        },\n",
    "    )['Items']\n",
    "\n",
    "    for follower in followers:\n",
    "        client.delete_item(\n",
    "            TableName='twitter',\n",
    "            Key={'PK': {'S': follower['SK']['S']}, 'SK': {'S': f\"TIMELINE#{tweet_id}\"}}\n",
    "        )\n"
   ]
  },
  {
   "cell_type": "code",
   "execution_count": null,
   "id": "efb9d092-d6b6-42c6-8414-e071999acef3",
   "metadata": {},
   "outputs": [],
   "source": [
    "def get_all_tweets():\n",
    "    # Abrufen aller Tweets\n",
    "    response = client.scan(\n",
    "        TableName='twitter',\n",
    "        FilterExpression='begins_with(SK, :msg)',\n",
    "        ExpressionAttributeValues={\n",
    "            ':msg': {'S': 'TWEET#'}\n",
    "        }\n",
    "    )\n",
    "\n",
    "    tweets = response['Items']\n",
    "    return tweets"
   ]
  },
  {
   "cell_type": "code",
   "execution_count": null,
   "id": "2b71f385-7fe7-482b-af62-6679f673511d",
   "metadata": {},
   "outputs": [],
   "source": [
    "# Hier rufen wir alle Tweets ab, um sie vor dem Löschen anzuzeigen\n",
    "all_tweets_before_deletion = get_all_tweets()\n",
    "print(f'Alle Tweets vor der Löschung: {all_tweets_before_deletion}')"
   ]
  },
  {
   "cell_type": "code",
   "execution_count": null,
   "id": "4d21ba46-c7e8-4934-8e67-7cbda418ff23",
   "metadata": {},
   "outputs": [],
   "source": [
    "print(f'USER: {uuid_entry1}')\n",
    "print(f'UUID: {uuid_entry5}')"
   ]
  },
  {
   "cell_type": "code",
   "execution_count": null,
   "id": "30549fb5-794b-433f-8e0b-9dca5a27a07d",
   "metadata": {},
   "outputs": [],
   "source": [
    "# Tweet_2 bei User Martin löschen\n",
    "delete_tweet(f'USER#{uuid_entry1}', uuid_entry5)"
   ]
  },
  {
   "cell_type": "code",
   "execution_count": null,
   "id": "51e8e06e-3c47-4d54-aa67-1c54da033a18",
   "metadata": {},
   "outputs": [],
   "source": [
    "# Hier rufen wir erneut alle Tweets ab, um die Änderungen anzuzeigen\n",
    "all_tweets_after_deletion = get_all_tweets()\n",
    "print(f'Alle Tweets nach der Löschung: {all_tweets_after_deletion}')"
   ]
  },
  {
   "cell_type": "markdown",
   "id": "67d75f5f-ddc5-4de8-a428-14f9ea57029c",
   "metadata": {},
   "source": [
    "# 6th access pattern: Delete a User"
   ]
  },
  {
   "cell_type": "code",
   "execution_count": null,
   "id": "17b79f90-6bfa-47e1-8165-e0ce2e6cebf0",
   "metadata": {},
   "outputs": [],
   "source": [
    "def delete_user(user_id):\n",
    "    # Zuerst die Tweets des Benutzers abrufen\n",
    "    user_tweets_response = client.query(\n",
    "        TableName='twitter',\n",
    "        KeyConditionExpression='#pk = :pk',\n",
    "        ExpressionAttributeNames={'#pk': 'PK'},\n",
    "        ExpressionAttributeValues={':pk': {'S': f'USER#{user_id}'}}\n",
    "    )\n",
    "\n",
    "    user_tweets = user_tweets_response.get('Items', [])\n",
    "\n",
    "    # Dann jeden Tweet löschen\n",
    "    for tweet in user_tweets:\n",
    "        tweet_id = tweet.get('id', {}).get('S')  # Zugriff auf das tatsächlich vorhandene Feld 'id'\n",
    "\n",
    "        if tweet_id:\n",
    "            client.delete_item(\n",
    "                TableName='twitter',\n",
    "                Key={'PK': {'S': tweet['PK']['S']}, 'SK': {'S': tweet['SK']['S']}}\n",
    "            )\n",
    "\n",
    "            # Auch den Tweet aus den Timelines der Follower löschen\n",
    "            followers_response = client.query(\n",
    "                TableName='twitter',\n",
    "                KeyConditionExpression='#pk = :pk',\n",
    "                ExpressionAttributeNames={'#pk': 'PK'},\n",
    "                ExpressionAttributeValues={':pk': {'S': tweet['PK']['S']}}\n",
    "            )\n",
    "\n",
    "            for follower in followers_response.get('Items', []):\n",
    "                client.delete_item(\n",
    "                    TableName='twitter',\n",
    "                    Key={'PK': {'S': follower['SK']['S']}, 'SK': {'S': f'TIMELINE#{tweet_id}'}}\n",
    "                )\n",
    "\n",
    "    # Schließlich den Benutzer selbst löschen\n",
    "    client.delete_item(\n",
    "        TableName='twitter',\n",
    "        Key={'PK': {'S': f'USER#{user_id}'}, 'SK': {'S': f'USER#{user_id}'}}\n",
    "    )"
   ]
  },
  {
   "cell_type": "code",
   "execution_count": null,
   "id": "aa80be8b-8579-475e-b9a3-ebf8ecd76940",
   "metadata": {},
   "outputs": [],
   "source": [
    "def get_all_users():\n",
    "    response = client.scan(\n",
    "        TableName='twitter',\n",
    "        FilterExpression='begins_with(PK, :pk) AND begins_with(SK, :sk)',\n",
    "        ExpressionAttributeValues={':pk': {'S': 'USER#'}, ':sk': {'S': 'USER#'}}\n",
    "    )\n",
    "\n",
    "    users = response['Items']\n",
    "    return users"
   ]
  },
  {
   "cell_type": "code",
   "execution_count": null,
   "id": "50a6ecba-b7a2-424c-8e1d-c8989df9e96c",
   "metadata": {},
   "outputs": [],
   "source": [
    "# Alle Benutzer vor dem Löschen ausgeben\n",
    "all_users_before_deletion = get_all_users()\n",
    "print(f'Alle Benutzer vor dem Löschen: {all_users_before_deletion}')"
   ]
  },
  {
   "cell_type": "code",
   "execution_count": null,
   "id": "7c6bda8f-8042-49bd-92fc-46051491dcb2",
   "metadata": {},
   "outputs": [],
   "source": [
    "user_christian_timeline = read_timeline(user_christian['PK']['S'])\n",
    "print(user_christian_timeline)"
   ]
  },
  {
   "cell_type": "code",
   "execution_count": null,
   "id": "d5a1a883-ddf7-4560-917a-416e8725d730",
   "metadata": {},
   "outputs": [],
   "source": [
    "delete_user(uuid_entry1)"
   ]
  },
  {
   "cell_type": "code",
   "execution_count": null,
   "id": "1fed1341-3f3e-4c6d-8620-9b97c92c9748",
   "metadata": {},
   "outputs": [],
   "source": [
    "# Alle Benutzer nach dem Löschen ausgeben\n",
    "all_users_after_deletion = get_all_users()\n",
    "print(f'Alle Benutzer nach dem Löschen: {all_users_after_deletion}')"
   ]
  },
  {
   "cell_type": "markdown",
   "id": "62816627-12a5-46dc-8b23-c31c5a7773bd",
   "metadata": {
    "tags": []
   },
   "source": [
    "## Channel\n",
    "\n",
    "We create our channel and functions to save, find and count users and messages in the channel:"
   ]
  },
  {
   "cell_type": "code",
   "execution_count": null,
   "id": "800bfe94-fc94-4c8d-8abb-bfec4d26d877",
   "metadata": {
    "tags": []
   },
   "outputs": [],
   "source": [
    "channel_town_hall = {\n",
    "    'PK': { 'S': \"CHAN#7\" },\n",
    "    'SK': { 'S': \"CHAN#7\" },\n",
    "    'Name': { 'S': 'Town Hall' },\n",
    "    'Desc': { 'S': 'General News' },\n",
    "    'UserCount': { 'N': \"0\" },\n",
    "    'MessageCount': { 'N': \"0\" }\n",
    "}\n",
    "\n",
    "def save_channel(channel):\n",
    "    return client.put_item(\n",
    "        TableName=\"chat\",\n",
    "        Item=channel\n",
    "    )\n",
    "\n",
    "# AP2\n",
    "def find_channel(key):\n",
    "    item = client.get_item(\n",
    "        TableName=\"chat\",\n",
    "        Key={\n",
    "          'PK': { 'S': key },\n",
    "          'SK': { 'S': key }\n",
    "        }\n",
    "    )\n",
    "    return item['Item'] if 'Item' in item else False\n",
    "\n",
    "# AP4\n",
    "def message_count_for_channel(channel):\n",
    "    return int(channel['MessageCount']['N'])\n",
    "\n",
    "# AP7\n",
    "def user_count_for_channel(channel):\n",
    "    return int(channel['UserCount']['N'])\n",
    "\n",
    "save_channel(channel_town_hall)\n",
    "channel_town_hall = find_channel(channel_town_hall['PK']['S'])\n",
    "channel_town_hall"
   ]
  },
  {
   "cell_type": "code",
   "execution_count": null,
   "id": "f2c84b21-a827-4048-b33a-c998dff14ae6",
   "metadata": {
    "tags": []
   },
   "outputs": [],
   "source": [
    "message_count_for_channel(channel_town_hall)"
   ]
  },
  {
   "cell_type": "code",
   "execution_count": null,
   "id": "07b3c908-972c-4006-9f0e-95e4b313935a",
   "metadata": {
    "tags": []
   },
   "outputs": [],
   "source": [
    "user_count_for_channel(channel_town_hall)"
   ]
  },
  {
   "cell_type": "markdown",
   "id": "399e8b0e-7e06-44a8-86f6-b8ad5ad988ca",
   "metadata": {
    "tags": []
   },
   "source": [
    "## User Join\n",
    "\n",
    "When a user joins a channel, we create a new item and increment the user counter. Further, we setup queries to retreive the users for a channel and channels of a user:"
   ]
  },
  {
   "cell_type": "code",
   "execution_count": null,
   "id": "8df597e4-c669-4034-9fbf-fd302148e0a8",
   "metadata": {
    "tags": []
   },
   "outputs": [],
   "source": [
    "def join_channel(user, channel):\n",
    "    # create userj record\n",
    "    client.put_item(\n",
    "        TableName=\"chat\",\n",
    "        Item={\n",
    "            'PK': channel['PK'],\n",
    "            'SK': { 'S': \"USERJ#\" + parse_id_from_key(user['PK']['S']) },\n",
    "            'Name': user['Name'],\n",
    "            'JoinedAt': { 'S': str(date.today()) },\n",
    "            'GSI1PK': user['PK'],\n",
    "            'GSI1SK': channel['PK'],\n",
    "            'ChanName': channel['Name']\n",
    "        }\n",
    "        )\n",
    "    \n",
    "    # increment users\n",
    "    client.update_item(\n",
    "        TableName=\"chat\",\n",
    "        Key = {\n",
    "            'PK': channel['PK'],\n",
    "            'SK': channel['PK'],\n",
    "        },\n",
    "        ExpressionAttributeValues = {\n",
    "            ':one': { 'N': '1' }\n",
    "        },\n",
    "        UpdateExpression = 'ADD UserCount :one', \n",
    "        ReturnValues = 'UPDATED_NEW'\n",
    "      )\n",
    "\n",
    "# AP5\n",
    "def users_in_channel(key):\n",
    "    item = client.query(\n",
    "        TableName=\"chat\",\n",
    "        KeyConditionExpression='PK = :pk AND begins_with(SK, :userj)',\n",
    "        ExpressionAttributeValues={\n",
    "            ':pk': key,\n",
    "            ':userj': { 'S': 'USERJ#' }\n",
    "        }\n",
    "    )\n",
    "    return item['Items'] if 'Items' in item else []\n",
    "\n",
    "# AP1\n",
    "def channels_for_user(key):\n",
    "    item = client.query(\n",
    "        TableName=\"chat\",\n",
    "        IndexName=\"GSI1\",\n",
    "        KeyConditionExpression='GSI1PK = :pk AND begins_with(GSI1SK, :chan)',\n",
    "        ExpressionAttributeValues={\n",
    "            ':pk': key,\n",
    "            ':chan': { 'S': 'CHAN#' }\n",
    "        }\n",
    "    )\n",
    "    return item['Items'] if 'Items' in item else []\n",
    "\n",
    "join_channel(user_alice, channel_town_hall)\n",
    "join_channel(user_bob, channel_town_hall)\n",
    "users_in_channel(channel_town_hall['PK'])"
   ]
  },
  {
   "cell_type": "code",
   "execution_count": null,
   "id": "108fc978-b833-4a32-a66a-2bf4a6994910",
   "metadata": {
    "tags": []
   },
   "outputs": [],
   "source": [
    "channels_for_user(user_alice['PK'])"
   ]
  },
  {
   "cell_type": "code",
   "execution_count": null,
   "id": "8869c69b-c1e1-4308-b5ca-bb3377904c23",
   "metadata": {
    "tags": []
   },
   "outputs": [],
   "source": [
    "find_channel(channel_town_hall['PK']['S'])"
   ]
  },
  {
   "cell_type": "markdown",
   "id": "aefecbbf-6a5b-4c8a-b3f1-2272ea0d692c",
   "metadata": {
    "tags": []
   },
   "source": [
    "## Messages\n",
    "\n",
    "When we send a message, we create a new item and increment the messages counter:"
   ]
  },
  {
   "cell_type": "code",
   "execution_count": null,
   "id": "060a7e09-57f3-4f85-8d19-9f4b98c18df9",
   "metadata": {
    "tags": []
   },
   "outputs": [],
   "source": [
    "def send_message(user, channel, text):\n",
    "    timestamp = int(time.time())\n",
    "    message_id = uuid.uuid4()\n",
    "    \n",
    "    # create message\n",
    "    client.put_item(\n",
    "        TableName=\"chat\",\n",
    "        Item={\n",
    "            'PK': channel['PK'],\n",
    "            'SK': { 'S': f\"MSG#{timestamp}#{message_id}\" },\n",
    "            'Msg': { 'S': text },\n",
    "            'CreatedAt': { 'N': str(timestamp) },\n",
    "            'UserName': user['Name'],\n",
    "            'UserId': user['PK']\n",
    "        }\n",
    "        )\n",
    "    \n",
    "    # increment users\n",
    "    client.update_item(\n",
    "        TableName=\"chat\",\n",
    "        Key = {\n",
    "            'PK': channel['PK'],\n",
    "            'SK': channel['PK'],\n",
    "        },\n",
    "        ExpressionAttributeValues = {\n",
    "            ':one': { 'N': '1' }\n",
    "        },\n",
    "        UpdateExpression = 'ADD MessageCount :one', \n",
    "        ReturnValues = 'UPDATED_NEW'\n",
    "      )\n",
    "\n",
    "# AP3\n",
    "def messages_in_channel(key, limit = 50):\n",
    "    item = client.query(\n",
    "        TableName=\"chat\",\n",
    "        KeyConditionExpression='PK = :pk AND begins_with(SK, :msg)',\n",
    "        ExpressionAttributeValues={\n",
    "            ':pk': key,\n",
    "            ':msg': { 'S': 'MSG#' }\n",
    "        },\n",
    "        Limit = limit\n",
    "    )\n",
    "    return item['Items'] if 'Items' in item else []\n",
    "    \n",
    "\n",
    "send_message(user_bob, channel_town_hall, \"Hey there!\")\n",
    "send_message(user_alice, channel_town_hall, \"Hello Bob!\")\n",
    "send_message(user_bob, channel_town_hall, \"How are you?\")\n",
    "messages_in_channel(channel_town_hall['PK'])"
   ]
  },
  {
   "cell_type": "code",
   "execution_count": null,
   "id": "70bc0b8b-3ff4-4bdd-9838-3fa56174af63",
   "metadata": {
    "tags": []
   },
   "outputs": [],
   "source": [
    "find_channel(channel_town_hall['PK']['S'])"
   ]
  }
 ],
 "metadata": {
  "kernelspec": {
   "display_name": "Python 3 (ipykernel)",
   "language": "python",
   "name": "python3"
  },
  "language_info": {
   "codemirror_mode": {
    "name": "ipython",
    "version": 3
   },
   "file_extension": ".py",
   "mimetype": "text/x-python",
   "name": "python",
   "nbconvert_exporter": "python",
   "pygments_lexer": "ipython3",
   "version": "3.12.1"
  },
  "vscode": {
   "interpreter": {
    "hash": "5c7b89af1651d0b8571dde13640ecdccf7d5a6204171d6ab33e7c296e100e08a"
   }
  }
 },
 "nbformat": 4,
 "nbformat_minor": 5
}
